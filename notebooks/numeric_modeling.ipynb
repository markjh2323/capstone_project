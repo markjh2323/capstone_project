{
 "cells": [
  {
   "cell_type": "code",
   "execution_count": 2,
   "metadata": {},
   "outputs": [],
   "source": [
    "import pandas as pd\n",
    "import seaborn as sns\n",
    "import numpy as np\n",
    "import matplotlib.pyplot as plt\n",
    "\n",
    "from sklearn import model_selection\n",
    "from sklearn.linear_model import LinearRegression\n",
    "from sklearn.model_selection import train_test_split, RepeatedKFold\n",
    "from sklearn.metrics import accuracy_score, mean_squared_error, r2_score\n",
    "\n",
    "from sklearn.decomposition import PCA\n",
    "from sklearn.preprocessing import scale, StandardScaler\n",
    "from sklearn.ensemble import GradientBoostingRegressor\n",
    "\n",
    "from scipy import stats\n"
   ]
  },
  {
   "cell_type": "code",
   "execution_count": 3,
   "metadata": {},
   "outputs": [],
   "source": [
    "import matplotlib.pyplot as plt\n",
    "import numpy as np\n",
    "from sklearn import datasets, ensemble\n",
    "from sklearn.inspection import permutation_importance\n",
    "from sklearn.metrics import mean_squared_error\n",
    "from sklearn.model_selection import train_test_split"
   ]
  },
  {
   "cell_type": "code",
   "execution_count": 1,
   "metadata": {},
   "outputs": [],
   "source": [
    "from sklearn import svm, tree, linear_model, neighbors, naive_bayes, ensemble, discriminant_analysis, gaussian_process, set_config\n",
    "# from xgboost import XGBClassifier\n",
    "from sklearn.preprocessing import OneHotEncoder, LabelEncoder, StandardScaler, Normalizer\n",
    "from sklearn import feature_selection\n",
    "from sklearn import model_selection\n",
    "from sklearn import metrics\n",
    "from sklearn.model_selection import train_test_split, GridSearchCV, cross_val_score, RandomizedSearchCV, KFold\n",
    "from sklearn.impute import SimpleImputer\n",
    "from sklearn.compose import ColumnTransformer\n",
    "from sklearn.linear_model import LogisticRegression\n",
    "from sklearn.neighbors import KNeighborsClassifier\n",
    "from sklearn.tree import DecisionTreeClassifier\n",
    "from sklearn.pipeline import Pipeline\n",
    "from sklearn.datasets import load_boston\n",
    "import matplotlib as mpl\n",
    "import matplotlib.pyplot as plt\n",
    "import matplotlib.pylab as pylab\n",
    "import seaborn as sns\n",
    "from scipy import stats as stats\n",
    "from pandas.plotting import scatter_matrix\n",
    "from sklearn.metrics import precision_score, recall_score, f1_score, accuracy_score, classification_report, confusion_matrix, matthews_corrcoef\n",
    "%matplotlib inline\n",
    "mpl.style.use('ggplot')\n",
    "sns.set_style('white')"
   ]
  },
  {
   "cell_type": "code",
   "execution_count": 2,
   "metadata": {},
   "outputs": [
    {
     "ename": "NameError",
     "evalue": "name 'pd' is not defined",
     "output_type": "error",
     "traceback": [
      "\u001b[0;31m---------------------------------------------------------------------------\u001b[0m",
      "\u001b[0;31mNameError\u001b[0m                                 Traceback (most recent call last)",
      "\u001b[0;32m/var/folders/q_/g2zssbt10h1blxnpvcp374lw0000gn/T/ipykernel_79349/2978885491.py\u001b[0m in \u001b[0;36m<module>\u001b[0;34m\u001b[0m\n\u001b[0;32m----> 1\u001b[0;31m \u001b[0mdf\u001b[0m \u001b[0;34m=\u001b[0m \u001b[0mpd\u001b[0m\u001b[0;34m.\u001b[0m\u001b[0mread_csv\u001b[0m\u001b[0;34m(\u001b[0m\u001b[0;34m'../notebooks/numeric_iphones_cleaned.csv'\u001b[0m\u001b[0;34m)\u001b[0m\u001b[0;34m\u001b[0m\u001b[0;34m\u001b[0m\u001b[0m\n\u001b[0m",
      "\u001b[0;31mNameError\u001b[0m: name 'pd' is not defined"
     ]
    }
   ],
   "source": [
    "df = pd.read_csv('../notebooks/numeric_iphones_cleaned.csv')"
   ]
  },
  {
   "cell_type": "code",
   "execution_count": null,
   "metadata": {},
   "outputs": [],
   "source": [
    "df = df.drop(df[df['price']<50].index)"
   ]
  },
  {
   "cell_type": "code",
   "execution_count": null,
   "metadata": {},
   "outputs": [],
   "source": [
    "df = df.drop(columns = 'Unnamed: 0')"
   ]
  },
  {
   "cell_type": "code",
   "execution_count": null,
   "metadata": {},
   "outputs": [],
   "source": [
    "m = np.mean(df['price'])\n",
    "s = np.std(df['price'])\n",
    "df = df[(df['price']>=m-2*s) & (df['price']<=m+2*s)]"
   ]
  },
  {
   "cell_type": "code",
   "execution_count": null,
   "metadata": {},
   "outputs": [
    {
     "name": "stdout",
     "output_type": "stream",
     "text": [
      "<class 'pandas.core.frame.DataFrame'>\n",
      "Int64Index: 4476 entries, 0 to 6754\n",
      "Data columns (total 9 columns):\n",
      " #   Column            Non-Null Count  Dtype  \n",
      "---  ------            --------------  -----  \n",
      " 0   title             4476 non-null   object \n",
      " 1   price             4476 non-null   float64\n",
      " 2   condition         4476 non-null   float64\n",
      " 3   num_reviews       4476 non-null   float64\n",
      " 4   pos_feedback_pct  4476 non-null   float64\n",
      " 5   return_days       4476 non-null   float64\n",
      " 6   model             4476 non-null   int64  \n",
      " 7   capacity          4476 non-null   float64\n",
      " 8   release_year      4476 non-null   int64  \n",
      "dtypes: float64(6), int64(2), object(1)\n",
      "memory usage: 349.7+ KB\n"
     ]
    }
   ],
   "source": [
    "df.info()"
   ]
  },
  {
   "cell_type": "code",
   "execution_count": null,
   "metadata": {},
   "outputs": [
    {
     "data": {
      "text/html": [
       "<div>\n",
       "<style scoped>\n",
       "    .dataframe tbody tr th:only-of-type {\n",
       "        vertical-align: middle;\n",
       "    }\n",
       "\n",
       "    .dataframe tbody tr th {\n",
       "        vertical-align: top;\n",
       "    }\n",
       "\n",
       "    .dataframe thead th {\n",
       "        text-align: right;\n",
       "    }\n",
       "</style>\n",
       "<table border=\"1\" class=\"dataframe\">\n",
       "  <thead>\n",
       "    <tr style=\"text-align: right;\">\n",
       "      <th></th>\n",
       "      <th>title</th>\n",
       "      <th>price</th>\n",
       "      <th>condition</th>\n",
       "      <th>num_reviews</th>\n",
       "      <th>pos_feedback_pct</th>\n",
       "      <th>return_days</th>\n",
       "      <th>model</th>\n",
       "      <th>capacity</th>\n",
       "      <th>release_year</th>\n",
       "    </tr>\n",
       "  </thead>\n",
       "  <tbody>\n",
       "    <tr>\n",
       "      <th>count</th>\n",
       "      <td>4476</td>\n",
       "      <td>4476.000000</td>\n",
       "      <td>4476.000000</td>\n",
       "      <td>4.476000e+03</td>\n",
       "      <td>4476.00000</td>\n",
       "      <td>4476.000000</td>\n",
       "      <td>4476.000000</td>\n",
       "      <td>4476.000000</td>\n",
       "      <td>4476.000000</td>\n",
       "    </tr>\n",
       "    <tr>\n",
       "      <th>unique</th>\n",
       "      <td>4189</td>\n",
       "      <td>NaN</td>\n",
       "      <td>NaN</td>\n",
       "      <td>NaN</td>\n",
       "      <td>NaN</td>\n",
       "      <td>NaN</td>\n",
       "      <td>NaN</td>\n",
       "      <td>NaN</td>\n",
       "      <td>NaN</td>\n",
       "    </tr>\n",
       "    <tr>\n",
       "      <th>top</th>\n",
       "      <td>apple iphone xr - 64gb - black (unlocked) a198...</td>\n",
       "      <td>NaN</td>\n",
       "      <td>NaN</td>\n",
       "      <td>NaN</td>\n",
       "      <td>NaN</td>\n",
       "      <td>NaN</td>\n",
       "      <td>NaN</td>\n",
       "      <td>NaN</td>\n",
       "      <td>NaN</td>\n",
       "    </tr>\n",
       "    <tr>\n",
       "      <th>freq</th>\n",
       "      <td>8</td>\n",
       "      <td>NaN</td>\n",
       "      <td>NaN</td>\n",
       "      <td>NaN</td>\n",
       "      <td>NaN</td>\n",
       "      <td>NaN</td>\n",
       "      <td>NaN</td>\n",
       "      <td>NaN</td>\n",
       "      <td>NaN</td>\n",
       "    </tr>\n",
       "    <tr>\n",
       "      <th>mean</th>\n",
       "      <td>NaN</td>\n",
       "      <td>229.004783</td>\n",
       "      <td>2.223414</td>\n",
       "      <td>1.200159e+05</td>\n",
       "      <td>98.94122</td>\n",
       "      <td>1.830206</td>\n",
       "      <td>11.194817</td>\n",
       "      <td>92.154456</td>\n",
       "      <td>2016.821716</td>\n",
       "    </tr>\n",
       "    <tr>\n",
       "      <th>std</th>\n",
       "      <td>NaN</td>\n",
       "      <td>137.814930</td>\n",
       "      <td>1.892684</td>\n",
       "      <td>4.906560e+05</td>\n",
       "      <td>1.91222</td>\n",
       "      <td>0.966588</td>\n",
       "      <td>2.828590</td>\n",
       "      <td>82.281759</td>\n",
       "      <td>1.735063</td>\n",
       "    </tr>\n",
       "    <tr>\n",
       "      <th>min</th>\n",
       "      <td>NaN</td>\n",
       "      <td>50.000000</td>\n",
       "      <td>0.000000</td>\n",
       "      <td>0.000000e+00</td>\n",
       "      <td>50.00000</td>\n",
       "      <td>0.000000</td>\n",
       "      <td>1.000000</td>\n",
       "      <td>8.000000</td>\n",
       "      <td>2009.000000</td>\n",
       "    </tr>\n",
       "    <tr>\n",
       "      <th>25%</th>\n",
       "      <td>NaN</td>\n",
       "      <td>118.600000</td>\n",
       "      <td>1.000000</td>\n",
       "      <td>7.440000e+02</td>\n",
       "      <td>98.40000</td>\n",
       "      <td>2.000000</td>\n",
       "      <td>9.000000</td>\n",
       "      <td>64.000000</td>\n",
       "      <td>2016.000000</td>\n",
       "    </tr>\n",
       "    <tr>\n",
       "      <th>50%</th>\n",
       "      <td>NaN</td>\n",
       "      <td>200.970000</td>\n",
       "      <td>1.000000</td>\n",
       "      <td>8.258000e+03</td>\n",
       "      <td>99.40000</td>\n",
       "      <td>2.000000</td>\n",
       "      <td>11.000000</td>\n",
       "      <td>64.000000</td>\n",
       "      <td>2017.000000</td>\n",
       "    </tr>\n",
       "    <tr>\n",
       "      <th>75%</th>\n",
       "      <td>NaN</td>\n",
       "      <td>308.660000</td>\n",
       "      <td>4.000000</td>\n",
       "      <td>5.611200e+04</td>\n",
       "      <td>100.00000</td>\n",
       "      <td>2.000000</td>\n",
       "      <td>14.000000</td>\n",
       "      <td>128.000000</td>\n",
       "      <td>2018.000000</td>\n",
       "    </tr>\n",
       "    <tr>\n",
       "      <th>max</th>\n",
       "      <td>NaN</td>\n",
       "      <td>659.990000</td>\n",
       "      <td>6.000000</td>\n",
       "      <td>3.099332e+06</td>\n",
       "      <td>100.00000</td>\n",
       "      <td>3.000000</td>\n",
       "      <td>17.000000</td>\n",
       "      <td>512.000000</td>\n",
       "      <td>2021.000000</td>\n",
       "    </tr>\n",
       "  </tbody>\n",
       "</table>\n",
       "</div>"
      ],
      "text/plain": [
       "                                                    title        price  \\\n",
       "count                                                4476  4476.000000   \n",
       "unique                                               4189          NaN   \n",
       "top     apple iphone xr - 64gb - black (unlocked) a198...          NaN   \n",
       "freq                                                    8          NaN   \n",
       "mean                                                  NaN   229.004783   \n",
       "std                                                   NaN   137.814930   \n",
       "min                                                   NaN    50.000000   \n",
       "25%                                                   NaN   118.600000   \n",
       "50%                                                   NaN   200.970000   \n",
       "75%                                                   NaN   308.660000   \n",
       "max                                                   NaN   659.990000   \n",
       "\n",
       "          condition   num_reviews  pos_feedback_pct  return_days        model  \\\n",
       "count   4476.000000  4.476000e+03        4476.00000  4476.000000  4476.000000   \n",
       "unique          NaN           NaN               NaN          NaN          NaN   \n",
       "top             NaN           NaN               NaN          NaN          NaN   \n",
       "freq            NaN           NaN               NaN          NaN          NaN   \n",
       "mean       2.223414  1.200159e+05          98.94122     1.830206    11.194817   \n",
       "std        1.892684  4.906560e+05           1.91222     0.966588     2.828590   \n",
       "min        0.000000  0.000000e+00          50.00000     0.000000     1.000000   \n",
       "25%        1.000000  7.440000e+02          98.40000     2.000000     9.000000   \n",
       "50%        1.000000  8.258000e+03          99.40000     2.000000    11.000000   \n",
       "75%        4.000000  5.611200e+04         100.00000     2.000000    14.000000   \n",
       "max        6.000000  3.099332e+06         100.00000     3.000000    17.000000   \n",
       "\n",
       "           capacity  release_year  \n",
       "count   4476.000000   4476.000000  \n",
       "unique          NaN           NaN  \n",
       "top             NaN           NaN  \n",
       "freq            NaN           NaN  \n",
       "mean      92.154456   2016.821716  \n",
       "std       82.281759      1.735063  \n",
       "min        8.000000   2009.000000  \n",
       "25%       64.000000   2016.000000  \n",
       "50%       64.000000   2017.000000  \n",
       "75%      128.000000   2018.000000  \n",
       "max      512.000000   2021.000000  "
      ]
     },
     "execution_count": 10,
     "metadata": {},
     "output_type": "execute_result"
    }
   ],
   "source": [
    "df.describe(include='all')"
   ]
  },
  {
   "cell_type": "code",
   "execution_count": null,
   "metadata": {},
   "outputs": [
    {
     "data": {
      "image/png": "[encoded data removed]",
      "text/plain": [
       "<Figure size 432x288 with 2 Axes>"
      ]
     },
     "metadata": {},
     "output_type": "display_data"
    }
   ],
   "source": [
    "sns.heatmap(df.corr());"
   ]
  },
  {
   "cell_type": "code",
   "execution_count": null,
   "metadata": {},
   "outputs": [],
   "source": [
    "X = df.drop(columns=['price', 'title'])\n",
    "y = df['price']"
   ]
  },
  {
   "cell_type": "code",
   "execution_count": null,
   "metadata": {},
   "outputs": [],
   "source": [
    "X_train, X_test, y_train, y_test = train_test_split(X, y, test_size=0.1, random_state=0)"
   ]
  },
  {
   "cell_type": "code",
   "execution_count": null,
   "metadata": {},
   "outputs": [],
   "source": [
    "ss = StandardScaler()\n",
    "scaled_X_train = ss.fit_transform(X_train)\n",
    "scaled_X_test = ss.transform(X_test)"
   ]
  },
  {
   "cell_type": "code",
   "execution_count": null,
   "metadata": {},
   "outputs": [
    {
     "name": "stdout",
     "output_type": "stream",
     "text": [
      "RMSE: 73.39758265041462\n",
      "R-Squared: 0.6952505651568501\n"
     ]
    }
   ],
   "source": [
    "lr = LinearRegression()\n",
    "lr.fit(scaled_X_train, y_train)\n",
    "y_pred = lr.predict(scaled_X_test)\n",
    "\n",
    "mse = mean_squared_error(y_test, y_pred)\n",
    "rmse = np.sqrt(mse)\n",
    "\n",
    "r_squared = r2_score(y_test, y_pred)\n",
    "r_squared\n",
    "\n",
    "print('RMSE: '+str(rmse))\n",
    "print('R-Squared: '+str(r_squared))\n"
   ]
  },
  {
   "cell_type": "code",
   "execution_count": null,
   "metadata": {},
   "outputs": [
    {
     "name": "stdout",
     "output_type": "stream",
     "text": [
      "RMSE: 57.19763348936756\n",
      "R-Squared: 0.814930216607791\n"
     ]
    }
   ],
   "source": [
    "params = {\n",
    "    \"n_estimators\": 500,\n",
    "    \"max_depth\": 6,\n",
    "    \"min_samples_split\": 5,\n",
    "    \"learning_rate\": 0.02,\n",
    "    \"loss\": 'lad'\n",
    "}\n",
    "\n",
    "xgboostreg = GradientBoostingRegressor(**params)\n",
    "xgboostreg.fit(scaled_X_train, y_train)\n",
    "\n",
    "y_pred = xgboostreg.predict(scaled_X_test)\n",
    "\n",
    "mse = mean_squared_error(y_test, y_pred)\n",
    "rmse = np.sqrt(mse)\n",
    "r_squared = r2_score(y_test, y_pred)\n",
    "\n",
    "print('RMSE: '+str(rmse))\n",
    "print('R-Squared: '+str(r_squared))"
   ]
  },
  {
   "cell_type": "code",
   "execution_count": null,
   "metadata": {},
   "outputs": [],
   "source": [
    "# #split the dataset into training (70%) and testing (30%) sets\n",
    "# X_train,X_test,y_train,y_test = train_test_split(X,y,test_size=0.3,random_state=0) \n",
    "\n",
    "# #scale the training and testing data\n",
    "# X_reduced_train = pca.fit_transform(scale(X_train))\n",
    "# X_reduced_test = pca.transform(scale(X_test))[:,:1]\n",
    "\n",
    "# #train PCR model on training data \n",
    "# regr = LinearRegression()\n",
    "# regr.fit(X_reduced_train[:,:1], y_train)\n",
    "\n",
    "# #calculate RMSE\n",
    "# pred = regr.predict(X_reduced_test)\n",
    "# np.sqrt(mean_squared_error(y_test, pred))"
   ]
  },
  {
   "cell_type": "code",
   "execution_count": null,
   "metadata": {},
   "outputs": [
    {
     "data": {
      "text/plain": [
       "Text(0.5, 1.0, 'hp')"
      ]
     },
     "execution_count": 18,
     "metadata": {},
     "output_type": "execute_result"
    },
    {
     "data": {
      "image/png": "[encoded data removed]",
      "text/plain": [
       "<Figure size 432x288 with 1 Axes>"
      ]
     },
     "metadata": {},
     "output_type": "display_data"
    }
   ],
   "source": [
    "#scale predictor variables\n",
    "pca = PCA()\n",
    "X_reduced = pca.fit_transform(scale(X))\n",
    "\n",
    "#define cross validation method\n",
    "cv = RepeatedKFold(n_splits=10, n_repeats=3, random_state=1)\n",
    "\n",
    "regr = LinearRegression()\n",
    "mse = []\n",
    "\n",
    "# Calculate MSE with only the intercept\n",
    "score = -1*model_selection.cross_val_score(regr,\n",
    "           np.ones((len(X_reduced),1)), y, cv=cv,\n",
    "           scoring='neg_mean_squared_error').mean()    \n",
    "mse.append(score)\n",
    "\n",
    "# Calculate MSE using cross-validation, adding one component at a time\n",
    "for i in np.arange(1, 6):\n",
    "    score = -1*model_selection.cross_val_score(regr,\n",
    "               X_reduced[:,:i], y, cv=cv, scoring='neg_mean_squared_error').mean()\n",
    "    mse.append(score)\n",
    "    \n",
    "# Plot cross-validation results    \n",
    "plt.plot(mse)\n",
    "plt.xlabel('Number of Principal Components')\n",
    "plt.ylabel('MSE')\n",
    "plt.title('hp')"
   ]
  },
  {
   "cell_type": "code",
   "execution_count": null,
   "metadata": {},
   "outputs": [
    {
     "data": {
      "text/plain": [
       "array([ 32.03,  50.55,  64.58,  78.37,  89.73,  99.83, 100.01])"
      ]
     },
     "execution_count": 19,
     "metadata": {},
     "output_type": "execute_result"
    }
   ],
   "source": [
    "np.cumsum(np.round(pca.explained_variance_ratio_, decimals=4)*100)\n"
   ]
  },
  {
   "cell_type": "code",
   "execution_count": null,
   "metadata": {},
   "outputs": [
    {
     "data": {
      "text/html": [
       "<div>\n",
       "<style scoped>\n",
       "    .dataframe tbody tr th:only-of-type {\n",
       "        vertical-align: middle;\n",
       "    }\n",
       "\n",
       "    .dataframe tbody tr th {\n",
       "        vertical-align: top;\n",
       "    }\n",
       "\n",
       "    .dataframe thead th {\n",
       "        text-align: right;\n",
       "    }\n",
       "</style>\n",
       "<table border=\"1\" class=\"dataframe\">\n",
       "  <thead>\n",
       "    <tr style=\"text-align: right;\">\n",
       "      <th></th>\n",
       "      <th>condition</th>\n",
       "      <th>num_reviews</th>\n",
       "      <th>pos_feedback_pct</th>\n",
       "      <th>return_days</th>\n",
       "      <th>model</th>\n",
       "      <th>capacity</th>\n",
       "      <th>release_year</th>\n",
       "    </tr>\n",
       "  </thead>\n",
       "  <tbody>\n",
       "    <tr>\n",
       "      <th>0</th>\n",
       "      <td>1.0</td>\n",
       "      <td>30470.0</td>\n",
       "      <td>99.9</td>\n",
       "      <td>2.0</td>\n",
       "      <td>10</td>\n",
       "      <td>78.541106</td>\n",
       "      <td>2016</td>\n",
       "    </tr>\n",
       "    <tr>\n",
       "      <th>1</th>\n",
       "      <td>2.0</td>\n",
       "      <td>2703.0</td>\n",
       "      <td>97.2</td>\n",
       "      <td>2.0</td>\n",
       "      <td>11</td>\n",
       "      <td>64.000000</td>\n",
       "      <td>2017</td>\n",
       "    </tr>\n",
       "    <tr>\n",
       "      <th>2</th>\n",
       "      <td>1.0</td>\n",
       "      <td>13103.0</td>\n",
       "      <td>96.3</td>\n",
       "      <td>2.0</td>\n",
       "      <td>11</td>\n",
       "      <td>64.000000</td>\n",
       "      <td>2017</td>\n",
       "    </tr>\n",
       "    <tr>\n",
       "      <th>3</th>\n",
       "      <td>1.0</td>\n",
       "      <td>13103.0</td>\n",
       "      <td>96.3</td>\n",
       "      <td>2.0</td>\n",
       "      <td>10</td>\n",
       "      <td>32.000000</td>\n",
       "      <td>2016</td>\n",
       "    </tr>\n",
       "    <tr>\n",
       "      <th>4</th>\n",
       "      <td>3.0</td>\n",
       "      <td>332288.0</td>\n",
       "      <td>98.4</td>\n",
       "      <td>3.0</td>\n",
       "      <td>12</td>\n",
       "      <td>64.000000</td>\n",
       "      <td>2017</td>\n",
       "    </tr>\n",
       "    <tr>\n",
       "      <th>...</th>\n",
       "      <td>...</td>\n",
       "      <td>...</td>\n",
       "      <td>...</td>\n",
       "      <td>...</td>\n",
       "      <td>...</td>\n",
       "      <td>...</td>\n",
       "      <td>...</td>\n",
       "    </tr>\n",
       "    <tr>\n",
       "      <th>6750</th>\n",
       "      <td>0.0</td>\n",
       "      <td>168.0</td>\n",
       "      <td>100.0</td>\n",
       "      <td>0.0</td>\n",
       "      <td>8</td>\n",
       "      <td>56.774194</td>\n",
       "      <td>2015</td>\n",
       "    </tr>\n",
       "    <tr>\n",
       "      <th>6751</th>\n",
       "      <td>1.0</td>\n",
       "      <td>2116.0</td>\n",
       "      <td>100.0</td>\n",
       "      <td>2.0</td>\n",
       "      <td>7</td>\n",
       "      <td>16.000000</td>\n",
       "      <td>2014</td>\n",
       "    </tr>\n",
       "    <tr>\n",
       "      <th>6752</th>\n",
       "      <td>1.0</td>\n",
       "      <td>136775.0</td>\n",
       "      <td>98.8</td>\n",
       "      <td>2.0</td>\n",
       "      <td>7</td>\n",
       "      <td>16.000000</td>\n",
       "      <td>2014</td>\n",
       "    </tr>\n",
       "    <tr>\n",
       "      <th>6753</th>\n",
       "      <td>1.0</td>\n",
       "      <td>884.0</td>\n",
       "      <td>100.0</td>\n",
       "      <td>2.0</td>\n",
       "      <td>7</td>\n",
       "      <td>128.000000</td>\n",
       "      <td>2014</td>\n",
       "    </tr>\n",
       "    <tr>\n",
       "      <th>6754</th>\n",
       "      <td>3.0</td>\n",
       "      <td>3099332.0</td>\n",
       "      <td>98.8</td>\n",
       "      <td>2.0</td>\n",
       "      <td>10</td>\n",
       "      <td>256.000000</td>\n",
       "      <td>2016</td>\n",
       "    </tr>\n",
       "  </tbody>\n",
       "</table>\n",
       "<p>4476 rows × 7 columns</p>\n",
       "</div>"
      ],
      "text/plain": [
       "      condition  num_reviews  pos_feedback_pct  return_days  model  \\\n",
       "0           1.0      30470.0              99.9          2.0     10   \n",
       "1           2.0       2703.0              97.2          2.0     11   \n",
       "2           1.0      13103.0              96.3          2.0     11   \n",
       "3           1.0      13103.0              96.3          2.0     10   \n",
       "4           3.0     332288.0              98.4          3.0     12   \n",
       "...         ...          ...               ...          ...    ...   \n",
       "6750        0.0        168.0             100.0          0.0      8   \n",
       "6751        1.0       2116.0             100.0          2.0      7   \n",
       "6752        1.0     136775.0              98.8          2.0      7   \n",
       "6753        1.0        884.0             100.0          2.0      7   \n",
       "6754        3.0    3099332.0              98.8          2.0     10   \n",
       "\n",
       "        capacity  release_year  \n",
       "0      78.541106          2016  \n",
       "1      64.000000          2017  \n",
       "2      64.000000          2017  \n",
       "3      32.000000          2016  \n",
       "4      64.000000          2017  \n",
       "...          ...           ...  \n",
       "6750   56.774194          2015  \n",
       "6751   16.000000          2014  \n",
       "6752   16.000000          2014  \n",
       "6753  128.000000          2014  \n",
       "6754  256.000000          2016  \n",
       "\n",
       "[4476 rows x 7 columns]"
      ]
     },
     "execution_count": 20,
     "metadata": {},
     "output_type": "execute_result"
    }
   ],
   "source": [
    "X"
   ]
  },
  {
   "cell_type": "code",
   "execution_count": 4,
   "metadata": {},
   "outputs": [],
   "source": [
    "import ipywidgets as widgets\n",
    "from IPython.display import display, clear_output"
   ]
  },
  {
   "cell_type": "code",
   "execution_count": 5,
   "metadata": {},
   "outputs": [],
   "source": [
    "grand = widgets.ToggleButtons(\n",
    "            options=['grandson', 'granddaughter']\n",
    "        )\n",
    "\n",
    "        "
   ]
  },
  {
   "cell_type": "code",
   "execution_count": 6,
   "metadata": {},
   "outputs": [],
   "source": [
    "name = widgets.Text(placeholder='Your name here')"
   ]
  },
  {
   "cell_type": "code",
   "execution_count": 7,
   "metadata": {},
   "outputs": [],
   "source": [
    "date = widgets.DatePicker(description='Pick a Date')\n"
   ]
  },
  {
   "cell_type": "code",
   "execution_count": 8,
   "metadata": {},
   "outputs": [],
   "source": [
    "friends = widgets.IntSlider(\n",
    "            value=3, \n",
    "            min=0, \n",
    "            max=10,\n",
    "            step=1,\n",
    "            style={'description_width': 'initial'} \n",
    "          )"
   ]
  },
  {
   "cell_type": "code",
   "execution_count": 9,
   "metadata": {},
   "outputs": [],
   "source": [
    "button_send = widgets.Button(\n",
    "                description='Send to grandma',\n",
    "                tooltip='Send',\n",
    "                style={'description_width': 'initial'}\n",
    "            )\n",
    "\n",
    "output = widgets.Output()\n",
    "\n",
    "def on_button_clicked(event):\n",
    "    with output:\n",
    "        clear_output()\n",
    "        print(\"Sent message: \")\n",
    "        print(f\"Dear Grandma! This is your favourite {grand.value}, {name.value}.\")\n",
    "        print(f\"I would love to come over on {date.value} for dinner, if that's okay for you!\")\n",
    "        print(f\"Also, if you don't mind, I'll bring along {friends.value} hungry ghosts for your delicious food!\")\n",
    "\n",
    "button_send.on_click(on_button_clicked)\n",
    "\n",
    "vbox_result = widgets.VBox([button_send, output])"
   ]
  },
  {
   "cell_type": "code",
   "execution_count": 10,
   "metadata": {},
   "outputs": [
    {
     "data": {
      "application/vnd.jupyter.widget-view+json": {
       "model_id": "9251b07ffa86436ead4f4bc41420b88e",
       "version_major": 2,
       "version_minor": 0
      },
      "text/plain": [
       "VBox(children=(Button(description='Send to grandma', style=ButtonStyle(), tooltip='Send'), Output()))"
      ]
     },
     "metadata": {},
     "output_type": "display_data"
    }
   ],
   "source": [
    "vbox_result"
   ]
  },
  {
   "cell_type": "code",
   "execution_count": null,
   "metadata": {},
   "outputs": [],
   "source": []
  }
 ],
 "metadata": {
  "interpreter": {
   "hash": "4c10cfeef08723cf1d9ac9f4fac9a895c178ca21632044675b85c880c61ee6c0"
  },
  "kernelspec": {
   "display_name": "Python 3.9.7 ('base')",
   "language": "python",
   "name": "python3"
  },
  "language_info": {
   "codemirror_mode": {
    "name": "ipython",
    "version": 3
   },
   "file_extension": ".py",
   "mimetype": "text/x-python",
   "name": "python",
   "nbconvert_exporter": "python",
   "pygments_lexer": "ipython3",
   "version": "3.9.7"
  },
  "orig_nbformat": 4
 },
 "nbformat": 4,
 "nbformat_minor": 2
}
