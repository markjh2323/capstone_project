{
 "cells": [
  {
   "cell_type": "code",
   "execution_count": 1,
   "metadata": {},
   "outputs": [],
   "source": [
    "import pandas as pd\n",
    "\n",
    "import matplotlib.pyplot as plt\n",
    "\n",
    "import seaborn as sns\n",
    "import numpy as np\n",
    "\n",
    "\n",
    "import re  \n",
    "import nltk\n",
    "from nltk.tokenize import word_tokenize\n",
    "from nltk import WordNetLemmatizer\n",
    "from nltk.corpus import stopwords\n",
    "from nltk.corpus import wordnet\n",
    "from nltk import pos_tag\n",
    "from nltk import FreqDist\n",
    "from nltk.sentiment.vader import SentimentIntensityAnalyzer\n",
    "\n",
    "from sklearn.tree import DecisionTreeRegressor\n",
    "from sklearn.preprocessing import LabelEncoder, StandardScaler, FunctionTransformer\n",
    "from sklearn.feature_extraction.text import TfidfVectorizer\n",
    "from sklearn.model_selection import train_test_split\n",
    "from sklearn.compose import ColumnTransformer\n",
    "from sklearn.pipeline import Pipeline, FeatureUnion\n",
    "from sklearn.ensemble import GradientBoostingRegressor\n",
    "from sklearn.metrics import accuracy_score, mean_squared_error, r2_score"
   ]
  },
  {
   "cell_type": "code",
   "execution_count": 2,
   "metadata": {},
   "outputs": [],
   "source": [
    "df = pd.read_csv('../notebooks/nlp_iphones_cleaned.csv')"
   ]
  },
  {
   "cell_type": "code",
   "execution_count": 3,
   "metadata": {},
   "outputs": [],
   "source": [
    "df = df.drop(columns='Unnamed: 0')"
   ]
  },
  {
   "cell_type": "code",
   "execution_count": 4,
   "metadata": {},
   "outputs": [
    {
     "data": {
      "text/html": [
       "<div>\n",
       "<style scoped>\n",
       "    .dataframe tbody tr th:only-of-type {\n",
       "        vertical-align: middle;\n",
       "    }\n",
       "\n",
       "    .dataframe tbody tr th {\n",
       "        vertical-align: top;\n",
       "    }\n",
       "\n",
       "    .dataframe thead th {\n",
       "        text-align: right;\n",
       "    }\n",
       "</style>\n",
       "<table border=\"1\" class=\"dataframe\">\n",
       "  <thead>\n",
       "    <tr style=\"text-align: right;\">\n",
       "      <th></th>\n",
       "      <th>title</th>\n",
       "      <th>price</th>\n",
       "      <th>condition</th>\n",
       "      <th>condition_description</th>\n",
       "      <th>num_reviews</th>\n",
       "      <th>pos_feedback_pct</th>\n",
       "      <th>return_days</th>\n",
       "      <th>model</th>\n",
       "      <th>capacity</th>\n",
       "      <th>release_year</th>\n",
       "    </tr>\n",
       "  </thead>\n",
       "  <tbody>\n",
       "    <tr>\n",
       "      <th>0</th>\n",
       "      <td>apple iphone 6s (excellent condition) factory ...</td>\n",
       "      <td>135.99</td>\n",
       "      <td>1.0</td>\n",
       "      <td>“fully functional in excellent condition. our ...</td>\n",
       "      <td>30474.0</td>\n",
       "      <td>99.9</td>\n",
       "      <td>2.0</td>\n",
       "      <td>8</td>\n",
       "      <td>57.492355</td>\n",
       "      <td>2015</td>\n",
       "    </tr>\n",
       "    <tr>\n",
       "      <th>1</th>\n",
       "      <td>apple iphone 8 64gb gsm factory unlocked smart...</td>\n",
       "      <td>149.99</td>\n",
       "      <td>1.0</td>\n",
       "      <td>“overall good condition will have marks and sc...</td>\n",
       "      <td>13110.0</td>\n",
       "      <td>96.2</td>\n",
       "      <td>2.0</td>\n",
       "      <td>11</td>\n",
       "      <td>64.000000</td>\n",
       "      <td>2017</td>\n",
       "    </tr>\n",
       "    <tr>\n",
       "      <th>2</th>\n",
       "      <td>apple iphone 8 plus 256gb unlocked straight ta...</td>\n",
       "      <td>259.00</td>\n",
       "      <td>4.0</td>\n",
       "      <td>““pick your carrier or pick fully unlocked to ...</td>\n",
       "      <td>61033.0</td>\n",
       "      <td>100.0</td>\n",
       "      <td>2.0</td>\n",
       "      <td>11</td>\n",
       "      <td>256.000000</td>\n",
       "      <td>2017</td>\n",
       "    </tr>\n",
       "    <tr>\n",
       "      <th>3</th>\n",
       "      <td>apple iphone 7 32gb gsm factory unlocked 4g lt...</td>\n",
       "      <td>107.99</td>\n",
       "      <td>1.0</td>\n",
       "      <td>“overall good working condition and will have ...</td>\n",
       "      <td>13110.0</td>\n",
       "      <td>96.2</td>\n",
       "      <td>2.0</td>\n",
       "      <td>10</td>\n",
       "      <td>32.000000</td>\n",
       "      <td>2016</td>\n",
       "    </tr>\n",
       "    <tr>\n",
       "      <th>4</th>\n",
       "      <td>apple iphone x 64gb factory unlocked phone - v...</td>\n",
       "      <td>209.95</td>\n",
       "      <td>3.0</td>\n",
       "      <td>“this is a b+ stock item, meaning unit is in v...</td>\n",
       "      <td>332402.0</td>\n",
       "      <td>98.4</td>\n",
       "      <td>3.0</td>\n",
       "      <td>12</td>\n",
       "      <td>64.000000</td>\n",
       "      <td>2017</td>\n",
       "    </tr>\n",
       "    <tr>\n",
       "      <th>...</th>\n",
       "      <td>...</td>\n",
       "      <td>...</td>\n",
       "      <td>...</td>\n",
       "      <td>...</td>\n",
       "      <td>...</td>\n",
       "      <td>...</td>\n",
       "      <td>...</td>\n",
       "      <td>...</td>\n",
       "      <td>...</td>\n",
       "      <td>...</td>\n",
       "    </tr>\n",
       "    <tr>\n",
       "      <th>4141</th>\n",
       "      <td>apple iphone 11 pro 64gb silver verizon unlock...</td>\n",
       "      <td>456.99</td>\n",
       "      <td>3.0</td>\n",
       "      <td>“device is 100% fully functional and in very g...</td>\n",
       "      <td>54837.0</td>\n",
       "      <td>99.4</td>\n",
       "      <td>3.0</td>\n",
       "      <td>15</td>\n",
       "      <td>64.000000</td>\n",
       "      <td>2019</td>\n",
       "    </tr>\n",
       "    <tr>\n",
       "      <th>4142</th>\n",
       "      <td>iphone 11 xfinity 128gb white | near mint</td>\n",
       "      <td>335.00</td>\n",
       "      <td>1.0</td>\n",
       "      <td>“near mint condition: screen is 100% flawless....</td>\n",
       "      <td>22050.0</td>\n",
       "      <td>99.6</td>\n",
       "      <td>3.0</td>\n",
       "      <td>15</td>\n",
       "      <td>128.000000</td>\n",
       "      <td>2019</td>\n",
       "    </tr>\n",
       "    <tr>\n",
       "      <th>4143</th>\n",
       "      <td>apple iphone 11 pro max 512gb black - unlocked...</td>\n",
       "      <td>591.00</td>\n",
       "      <td>1.0</td>\n",
       "      <td>“this is a used device with real photos of the...</td>\n",
       "      <td>80257.0</td>\n",
       "      <td>99.7</td>\n",
       "      <td>2.0</td>\n",
       "      <td>15</td>\n",
       "      <td>512.000000</td>\n",
       "      <td>2019</td>\n",
       "    </tr>\n",
       "    <tr>\n",
       "      <th>4144</th>\n",
       "      <td>apple iphone 7 - 128gb - black - factory unloc...</td>\n",
       "      <td>149.99</td>\n",
       "      <td>1.0</td>\n",
       "      <td>“this device powers on and is 100% functional ...</td>\n",
       "      <td>4258.0</td>\n",
       "      <td>99.8</td>\n",
       "      <td>2.0</td>\n",
       "      <td>10</td>\n",
       "      <td>128.000000</td>\n",
       "      <td>2016</td>\n",
       "    </tr>\n",
       "    <tr>\n",
       "      <th>4145</th>\n",
       "      <td>apple iphone 6s - 16gb - space gray (cricket) ...</td>\n",
       "      <td>84.99</td>\n",
       "      <td>1.0</td>\n",
       "      <td>“works on cricket wireless. the home button is...</td>\n",
       "      <td>22.0</td>\n",
       "      <td>100.0</td>\n",
       "      <td>2.0</td>\n",
       "      <td>8</td>\n",
       "      <td>16.000000</td>\n",
       "      <td>2015</td>\n",
       "    </tr>\n",
       "  </tbody>\n",
       "</table>\n",
       "<p>4146 rows × 10 columns</p>\n",
       "</div>"
      ],
      "text/plain": [
       "                                                  title   price  condition  \\\n",
       "0     apple iphone 6s (excellent condition) factory ...  135.99        1.0   \n",
       "1     apple iphone 8 64gb gsm factory unlocked smart...  149.99        1.0   \n",
       "2     apple iphone 8 plus 256gb unlocked straight ta...  259.00        4.0   \n",
       "3     apple iphone 7 32gb gsm factory unlocked 4g lt...  107.99        1.0   \n",
       "4     apple iphone x 64gb factory unlocked phone - v...  209.95        3.0   \n",
       "...                                                 ...     ...        ...   \n",
       "4141  apple iphone 11 pro 64gb silver verizon unlock...  456.99        3.0   \n",
       "4142          iphone 11 xfinity 128gb white | near mint  335.00        1.0   \n",
       "4143  apple iphone 11 pro max 512gb black - unlocked...  591.00        1.0   \n",
       "4144  apple iphone 7 - 128gb - black - factory unloc...  149.99        1.0   \n",
       "4145  apple iphone 6s - 16gb - space gray (cricket) ...   84.99        1.0   \n",
       "\n",
       "                                  condition_description  num_reviews  \\\n",
       "0     “fully functional in excellent condition. our ...      30474.0   \n",
       "1     “overall good condition will have marks and sc...      13110.0   \n",
       "2     ““pick your carrier or pick fully unlocked to ...      61033.0   \n",
       "3     “overall good working condition and will have ...      13110.0   \n",
       "4     “this is a b+ stock item, meaning unit is in v...     332402.0   \n",
       "...                                                 ...          ...   \n",
       "4141  “device is 100% fully functional and in very g...      54837.0   \n",
       "4142  “near mint condition: screen is 100% flawless....      22050.0   \n",
       "4143  “this is a used device with real photos of the...      80257.0   \n",
       "4144  “this device powers on and is 100% functional ...       4258.0   \n",
       "4145  “works on cricket wireless. the home button is...         22.0   \n",
       "\n",
       "      pos_feedback_pct  return_days  model    capacity  release_year  \n",
       "0                 99.9          2.0      8   57.492355          2015  \n",
       "1                 96.2          2.0     11   64.000000          2017  \n",
       "2                100.0          2.0     11  256.000000          2017  \n",
       "3                 96.2          2.0     10   32.000000          2016  \n",
       "4                 98.4          3.0     12   64.000000          2017  \n",
       "...                ...          ...    ...         ...           ...  \n",
       "4141              99.4          3.0     15   64.000000          2019  \n",
       "4142              99.6          3.0     15  128.000000          2019  \n",
       "4143              99.7          2.0     15  512.000000          2019  \n",
       "4144              99.8          2.0     10  128.000000          2016  \n",
       "4145             100.0          2.0      8   16.000000          2015  \n",
       "\n",
       "[4146 rows x 10 columns]"
      ]
     },
     "execution_count": 4,
     "metadata": {},
     "output_type": "execute_result"
    }
   ],
   "source": [
    "df"
   ]
  },
  {
   "cell_type": "code",
   "execution_count": 5,
   "metadata": {},
   "outputs": [],
   "source": [
    "def process_description(description, min_length):\n",
    "    stop_words = stopwords.words('english')\n",
    "\n",
    "    wnl = WordNetLemmatizer()\n",
    "\n",
    "    def pos_tagger(nltk_tag):\n",
    "        if nltk_tag.startswith('J'):\n",
    "            return wordnet.ADJ\n",
    "        elif nltk_tag.startswith('V'):\n",
    "            return wordnet.VERB\n",
    "        elif nltk_tag.startswith('N'):\n",
    "            return wordnet.NOUN\n",
    "        elif nltk_tag.startswith('R'):\n",
    "            return wordnet.ADV\n",
    "        else:         \n",
    "            return None\n",
    "        \n",
    "    description_lower = description.lower()\n",
    "    description_lower = re.sub(r\"@[a-z0-9_]+|#[a-z0-9_]+|http\\S+\", \"\", description_lower).strip().replace(\"\\r\", \"\").replace(\"\\n\", \"\").replace(\"\\t\", \"\")\n",
    "\n",
    "    description_norm = [x for x in word_tokenize(description_lower) if ((x.isalpha()) & (x not in stop_words)) ]\n",
    "\n",
    "    wordnet_tagged = list(map(lambda x: (x[0], pos_tagger(x[1])), pos_tag(description_norm))) \n",
    "\n",
    "    if len(wordnet_tagged) <= min_length:\n",
    "        return ''\n",
    "    else:\n",
    "        # rejoins lemmatized sentence \n",
    "        description_norm = \" \".join([wnl.lemmatize(x[0], x[1]) for x in wordnet_tagged if x[1] is not None])\n",
    "        return description_norm"
   ]
  },
  {
   "cell_type": "code",
   "execution_count": null,
   "metadata": {},
   "outputs": [],
   "source": [
    "df['condition_description'] = df['condition_description'].apply(process_description, args=[5])\n",
    "df['title'] = df['title'].apply(process_description, args=[5])"
   ]
  },
  {
   "cell_type": "code",
   "execution_count": null,
   "metadata": {},
   "outputs": [],
   "source": [
    "df"
   ]
  },
  {
   "cell_type": "code",
   "execution_count": null,
   "metadata": {},
   "outputs": [],
   "source": [
    "sia = SentimentIntensityAnalyzer()"
   ]
  },
  {
   "cell_type": "code",
   "execution_count": null,
   "metadata": {},
   "outputs": [],
   "source": [
    "# no data leakage. using pretrained model.\n",
    "sia.polarity_scores(df['condition_description'][0])"
   ]
  },
  {
   "cell_type": "code",
   "execution_count": null,
   "metadata": {},
   "outputs": [],
   "source": [
    "polarity_list = []\n",
    "for row in df['condition_description']:\n",
    "    polarity_list.append(sia.polarity_scores(row))\n",
    "\n",
    "condition_polarity = pd.DataFrame(polarity_list)\n",
    "condition_polarity.rename(columns={'neg':'condition_neg', 'neu':'condition_neu', 'pos':'condition_pos', 'compound':'condition_compound'}, inplace=True)"
   ]
  },
  {
   "cell_type": "code",
   "execution_count": null,
   "metadata": {},
   "outputs": [],
   "source": [
    "condition_polarity"
   ]
  },
  {
   "cell_type": "code",
   "execution_count": null,
   "metadata": {},
   "outputs": [],
   "source": [
    "polarity_list = []\n",
    "for row in df['title']:\n",
    "    polarity_list.append(sia.polarity_scores(row))\n",
    "\n",
    "title_polarity = pd.DataFrame(polarity_list)\n",
    "title_polarity.rename(columns={'neg':'title_neg', 'neu':'title_neu', 'pos':'title_pos', 'compound':'title_compound'}, inplace=True)"
   ]
  },
  {
   "cell_type": "code",
   "execution_count": null,
   "metadata": {},
   "outputs": [],
   "source": [
    "polarity_df = pd.merge(condition_polarity, title_polarity, left_index=True, right_index=True)"
   ]
  },
  {
   "cell_type": "code",
   "execution_count": null,
   "metadata": {},
   "outputs": [],
   "source": [
    "df = pd.merge(df, polarity_df, left_index=True, right_index=True)"
   ]
  },
  {
   "cell_type": "code",
   "execution_count": null,
   "metadata": {},
   "outputs": [],
   "source": [
    "sns.heatmap(df.corr())"
   ]
  },
  {
   "cell_type": "code",
   "execution_count": null,
   "metadata": {},
   "outputs": [],
   "source": [
    "sns.scatterplot(y='price', x='condition_compound', hue='condition', data=df)\n",
    "plt.show()"
   ]
  },
  {
   "cell_type": "code",
   "execution_count": null,
   "metadata": {},
   "outputs": [],
   "source": [
    "# sns.pairplot(hue='model', data=df)"
   ]
  },
  {
   "cell_type": "code",
   "execution_count": null,
   "metadata": {},
   "outputs": [],
   "source": [
    "plt.hist(df['price'])"
   ]
  },
  {
   "cell_type": "code",
   "execution_count": null,
   "metadata": {},
   "outputs": [],
   "source": [
    "df = df[df['price']>40]"
   ]
  },
  {
   "cell_type": "code",
   "execution_count": null,
   "metadata": {},
   "outputs": [],
   "source": [
    "plt.hist(df['price'])"
   ]
  },
  {
   "cell_type": "code",
   "execution_count": null,
   "metadata": {},
   "outputs": [],
   "source": [
    "df.columns"
   ]
  },
  {
   "cell_type": "code",
   "execution_count": null,
   "metadata": {},
   "outputs": [],
   "source": [
    "X = df.drop(columns = ['price', 'title'])\n",
    "y = df['price']\n",
    "X_train, X_test, y_train, y_test = train_test_split(X, y, test_size=0.1, random_state=305)"
   ]
  },
  {
   "cell_type": "code",
   "execution_count": null,
   "metadata": {},
   "outputs": [],
   "source": [
    "nlp_cols = 'condition_description'\n",
    "num_cols = ['num_reviews', 'pos_feedback_pct', 'capacity', 'condition_neg', 'condition_neu', 'condition_pos', 'condition_compound',\n",
    "       'title_neg', 'title_neu', 'title_pos', 'title_compound']\n",
    "cat_cols = ['condition', 'return_days', 'model', 'capacity', 'release_year']"
   ]
  },
  {
   "cell_type": "code",
   "execution_count": null,
   "metadata": {},
   "outputs": [],
   "source": [
    "tfidf = TfidfVectorizer(stop_words='english', ngram_range=(1,3))"
   ]
  },
  {
   "cell_type": "code",
   "execution_count": null,
   "metadata": {},
   "outputs": [],
   "source": [
    "tfidf.fit_transform(X_train['condition_description']).toarray().shape\n"
   ]
  },
  {
   "cell_type": "code",
   "execution_count": null,
   "metadata": {},
   "outputs": [],
   "source": [
    "tfidf.get_feature_names()"
   ]
  },
  {
   "cell_type": "code",
   "execution_count": null,
   "metadata": {},
   "outputs": [],
   "source": []
  },
  {
   "cell_type": "code",
   "execution_count": null,
   "metadata": {},
   "outputs": [],
   "source": [
    "numeric_pipeline = Pipeline([('numnorm', StandardScaler())])\n",
    "\n",
    "categoric_pipeline = Pipeline([('ordnorm', StandardScaler())])\n",
    "\n",
    "nlp_pipeline = Pipeline([('nlpvect', TfidfVectorizer(stop_words = 'english', ngram_range=(1,3)))])"
   ]
  },
  {
   "cell_type": "code",
   "execution_count": null,
   "metadata": {},
   "outputs": [],
   "source": [
    "ct = ColumnTransformer(\n",
    "    [ (\"nlppipeline\", nlp_pipeline, nlp_cols),\n",
    "      (\"numericpipe\", numeric_pipeline, num_cols),\n",
    "      (\"categoricpipeline\", categoric_pipeline, cat_cols)\n",
    "    ]\n",
    ")"
   ]
  },
  {
   "cell_type": "code",
   "execution_count": null,
   "metadata": {},
   "outputs": [],
   "source": [
    "ct"
   ]
  },
  {
   "cell_type": "code",
   "execution_count": null,
   "metadata": {},
   "outputs": [],
   "source": [
    "params = {\n",
    "    \"n_estimators\": 500,\n",
    "    \"max_depth\": 6,\n",
    "    \"min_samples_split\": 5,\n",
    "    \"learning_rate\": 0.02,\n",
    "    \"loss\": 'lad'\n",
    "}\n",
    "\n",
    "xgboostreg = GradientBoostingRegressor(**params)"
   ]
  },
  {
   "cell_type": "code",
   "execution_count": null,
   "metadata": {},
   "outputs": [],
   "source": [
    "final_pipe = Pipeline([('preprocess', ct),\n",
    "                      ('model', xgboostreg)])\n",
    "final_pipe"
   ]
  },
  {
   "cell_type": "code",
   "execution_count": null,
   "metadata": {},
   "outputs": [],
   "source": [
    "final_pipe.fit(X_train, y_train)"
   ]
  },
  {
   "cell_type": "code",
   "execution_count": 398,
   "metadata": {},
   "outputs": [],
   "source": [
    "y_pred = final_pipe.predict(X_test)"
   ]
  },
  {
   "cell_type": "code",
   "execution_count": 399,
   "metadata": {},
   "outputs": [
    {
     "name": "stdout",
     "output_type": "stream",
     "text": [
      "RMSE: 54.05906276734193\n",
      "R-Squared: 0.9162356933036253\n"
     ]
    }
   ],
   "source": [
    "rmse = np.sqrt(mean_squared_error(y_test, y_pred))\n",
    "r_squared = r2_score(y_test, y_pred)\n",
    "\n",
    "print('RMSE: '+str(rmse))\n",
    "print('R-Squared: '+str(r_squared))"
   ]
  },
  {
   "cell_type": "code",
   "execution_count": null,
   "metadata": {},
   "outputs": [],
   "source": []
  },
  {
   "cell_type": "code",
   "execution_count": null,
   "metadata": {},
   "outputs": [],
   "source": []
  }
 ],
 "metadata": {
  "interpreter": {
   "hash": "4c10cfeef08723cf1d9ac9f4fac9a895c178ca21632044675b85c880c61ee6c0"
  },
  "kernelspec": {
   "display_name": "Python 3 (ipykernel)",
   "language": "python",
   "name": "python3"
  },
  "language_info": {
   "codemirror_mode": {
    "name": "ipython",
    "version": 3
   },
   "file_extension": ".py",
   "mimetype": "text/x-python",
   "name": "python",
   "nbconvert_exporter": "python",
   "pygments_lexer": "ipython3",
   "version": "3.8.12"
  }
 },
 "nbformat": 4,
 "nbformat_minor": 2
}
