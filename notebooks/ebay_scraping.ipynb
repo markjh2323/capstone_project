{
 "cells": [
  {
   "cell_type": "code",
   "execution_count": 1,
   "metadata": {},
   "outputs": [],
   "source": [
    "import requests\n",
    "import bs4 as BeautifulSoup\n",
    "import pandas as pd\n",
    "import re"
   ]
  },
  {
   "cell_type": "code",
   "execution_count": 2,
   "metadata": {},
   "outputs": [],
   "source": [
    "def get_page(url):\n",
    "    response = requests.get(url, headers={'User-Agent': 'Mozilla/5.0'}\n",
    ")\n",
    "    \n",
    "    if not response.ok:\n",
    "        print('Server responded:', response.status_code)\n",
    "    else:\n",
    "        soup = BeautifulSoup.BeautifulSoup(response.text, 'lxml')\n",
    "    return soup"
   ]
  },
  {
   "cell_type": "code",
   "execution_count": 3,
   "metadata": {},
   "outputs": [],
   "source": [
    "\n",
    "\n",
    "\n",
    "def get_detail_data(soup):\n",
    "    \"\"\"\n",
    "    Scraping info from listing: title, price, number sold, shipping_type, condition, condition description.\n",
    "    \"\"\"\n",
    "    try:\n",
    "        title = soup.body.find('div', id='LeftSummaryPanel').find('span', class_='ux-textspans ux-textspans--BOLD').text.lower()\n",
    "    except:\n",
    "        title = None\n",
    "\n",
    "    try:\n",
    "        try:\n",
    "            price = soup.body.find('span', id=\"prcIsum\").text\n",
    "            price = float(re.findall(r\"[-+]?\\d*\\.\\d+|\\d+\", price)[0])\n",
    "        except:\n",
    "            price = soup.body.find('span', id=\"mm-saleDscPrc\").text\n",
    "            price = float(re.findall(r\"[-+]?\\d*\\.\\d+|\\d+\", price)[0])\n",
    "    except:\n",
    "        price = None\n",
    "\n",
    "\n",
    "\n",
    "    try:\n",
    "        num_sold = soup.body.find('div', class_='vi-quantity-wrapper').find('span', class_='vi-qtyS-hot-red').a.text\n",
    "    except:\n",
    "        num_sold = None\n",
    "\n",
    "    try:\n",
    "        shipping_type = soup.body.find('div', class_='ux-labels-values__values col-9').find('span', class_='ux-textspans ux-textspans--POSITIVE ux-textspans--BOLD').text.lower()\n",
    "    except:\n",
    "        shipping_type = None\n",
    "\n",
    "    try:\n",
    "        condition = soup.body.find('div', id='mainContent').find_all('span', class_='ux-textspans')[1].text.lower()\n",
    "    except:\n",
    "        condition = None\n",
    "\n",
    "    try:\n",
    "        condition_description = soup.body.find('div', class_='ux-layout-section__item ux-layout-section__item-background ux-layout-section__item--table-view').find_all('div', 'ux-layout-section__row')[1].find('div', class_='ux-labels-values__values').span.text.lower()\n",
    "    except:\n",
    "        condition_description = None\n",
    "     \n",
    "    try:\n",
    "        num_reviews = int(soup.body.find('div', class_='ux-seller-section__item--seller').find('span', class_='ux-textspans ux-textspans--PSEUDOLINK').text)\n",
    "    except:\n",
    "        num_reviews = None\n",
    "    \n",
    "    try:\n",
    "        pos_feedback_pct = soup.body.find('div', class_='ux-seller-section__content').find_all('div', class_='ux-seller-section__item')[1].span.text\n",
    "        pos_feedback_pct = float(re.findall(r\"[-+]?\\d*\\.\\d+|\\d+\", pos_feedback_pct)[0])\n",
    "\n",
    "    except:\n",
    "        pos_feedback_pct = None\n",
    "    \n",
    "    try:\n",
    "        return_days = soup.body.find('div', class_='vim x-returns-minview').find('div', class_='ux-layout-section__item').find('div', class_='ux-layout-section__row').find_all('span')[1].text\n",
    "    except:\n",
    "        return_days = None\n",
    "\n",
    "    \n",
    "    # Not working well yet\n",
    "    try:\n",
    "        brand = soup.body.find('div', class_='ux-layout-section ux-layout-section--features').find('div', class_=\"ux-layout-section__row\").find_all('div', class_='ux-labels-values__values')[0].find('span', class_=\"ux-textspans\").text\n",
    "    except:\n",
    "        brand = None\n",
    "\n",
    "    try:\n",
    "        model = soup.body.find('div', class_='ux-layout-section ux-layout-section--features').find('div', class_=\"ux-layout-section__row\").find_all('div', class_='ux-labels-values__values')[1].find('span', class_=\"ux-textspans\").text\n",
    "    except:\n",
    "        model = None\n",
    "\n",
    "    # Testing out now\n",
    "   \n",
    "\n",
    "    \n",
    "\n",
    "\n",
    "    data = {\n",
    "        'title': title,\n",
    "        'price': price,\n",
    "        'num_sold': num_sold,\n",
    "        'shipping_type': shipping_type,\n",
    "        'condition': condition,\n",
    "        'condition_description': condition_description,\n",
    "        'num_reviews': num_reviews,\n",
    "        'pos_feedback_pct': pos_feedback_pct,\n",
    "        'return_days':return_days,\n",
    "        # 'brand': brand,\n",
    "        # 'model':model,\n",
    "\n",
    "    }\n",
    "    return data\n",
    "\n",
    "\n",
    "\n"
   ]
  },
  {
   "cell_type": "code",
   "execution_count": 4,
   "metadata": {},
   "outputs": [],
   "source": [
    "url = 'https://www.ebay.com/itm/403662572610?epid=14041711781&hash=item5dfc2a0c42:g:ZikAAOSwYExhtmzO&amdata=enc%3AAQAHAAAA0AcGLorYepWSxPon%2BbN7rsNyxuavJVx2iYeBzL4pl1T%2FRGMupx8jrYLdq15riIjKETjooVSQMlYh2pTAAxvq1DNtKWd%2BDRZyeD2N5KsSZlt7TxTbRp2ZFfKxaWTzCVJ409CL11NaEiWXxNmF%2B547N6GxOagtdczrYjKeQaJc%2B6CeOt1bsnGwJ%2B%2BatE9ofE1X8l%2B3pQCDvb%2Ff7I%2FK1IB4YoKRbJRf756ExzP0tbO79J6%2F6bw%2F%2F0i%2FYySaPQf8L59dR97b38C4TrLzYTm0eDr2LtE%3D%7Ctkp%3ABFBMkNe0rJ5g'\n",
    "test_soup = get_page(url)\n",
    "result = get_detail_data(get_page(url))"
   ]
  },
  {
   "cell_type": "code",
   "execution_count": 5,
   "metadata": {},
   "outputs": [
    {
     "data": {
      "text/plain": [
       "'“phones are 100% tested and work like new. all orders include the apple iphone 12 (color, carrier, and gb you choose from drop down list), wall charging block, and mfi certified lightning usb cable. battery health tested and is a minimum of 80%+. very good- shows some limited use with light scratches on front screen/back and possible wear on edges. all units tested and work perfectly!”'"
      ]
     },
     "execution_count": 5,
     "metadata": {},
     "output_type": "execute_result"
    }
   ],
   "source": [
    "test_soup.body.find('div', class_='ux-layout-section__item ux-layout-section__item-background ux-layout-section__item--table-view').find_all('div', 'ux-layout-section__row')[1].find('div', class_='ux-labels-values__values').span.text.lower()"
   ]
  },
  {
   "cell_type": "code",
   "execution_count": 6,
   "metadata": {},
   "outputs": [],
   "source": [
    "url2 = 'https://www.ebay.com/itm/185430108438?hash=item2b2c7ee916:g:izkAAOSw4VViRKyM'\n",
    "test_soup2 = get_page(url2)"
   ]
  },
  {
   "cell_type": "code",
   "execution_count": 7,
   "metadata": {},
   "outputs": [
    {
     "data": {
      "text/plain": [
       "'Details about  \\xa0Apple iPhone XR - 64GB - (Unlocked) - Works Great -  Read (#3031)'"
      ]
     },
     "execution_count": 7,
     "metadata": {},
     "output_type": "execute_result"
    }
   ],
   "source": [
    "test_soup2.body.find('div', id='mainContent').find('h1', class_='it-ttl').text"
   ]
  },
  {
   "cell_type": "code",
   "execution_count": 8,
   "metadata": {},
   "outputs": [],
   "source": [
    "url = 'https://www.ebay.com/itm/382605209867?hash=item59150c310b:g:9TsAAOSwrY9a4bwO'\n",
    "test_soup = get_page(url)\n",
    "result = get_detail_data(get_page(url))"
   ]
  },
  {
   "cell_type": "code",
   "execution_count": 9,
   "metadata": {},
   "outputs": [
    {
     "data": {
      "text/plain": [
       "\"“this is a b+ stock item, meaning unit is in very good cosmetic condition and may have minor scrapes or scratches since it's been handled.”\""
      ]
     },
     "execution_count": 9,
     "metadata": {},
     "output_type": "execute_result"
    }
   ],
   "source": [
    "test_soup.body.find('div', class_='ux-layout-section__item ux-layout-section__item-background ux-layout-section__item--table-view').find_all('div', 'ux-layout-section__row')[1].find('div', class_='ux-labels-values__values').span.text.lower()"
   ]
  },
  {
   "cell_type": "code",
   "execution_count": 10,
   "metadata": {},
   "outputs": [
    {
     "data": {
      "text/plain": [
       "'60 days returns'"
      ]
     },
     "execution_count": 10,
     "metadata": {},
     "output_type": "execute_result"
    }
   ],
   "source": [
    "test_soup.body.find('div', class_='vim x-returns-minview').find('div', class_='ux-layout-section__item').find('div', class_='ux-layout-section__row').find_all('span')[1].text"
   ]
  },
  {
   "cell_type": "code",
   "execution_count": 11,
   "metadata": {},
   "outputs": [
    {
     "data": {
      "text/plain": [
       "'Seller pays for return shipping'"
      ]
     },
     "execution_count": 11,
     "metadata": {},
     "output_type": "execute_result"
    }
   ],
   "source": [
    "test_soup.body.find('div', class_='vim x-returns-minview').find('div', class_='ux-layout-section__item').find('div', class_='ux-layout-section__row').find_all('span')[3].text"
   ]
  },
  {
   "cell_type": "code",
   "execution_count": 12,
   "metadata": {},
   "outputs": [
    {
     "data": {
      "text/plain": [
       "'Apple iPhone X'"
      ]
     },
     "execution_count": 12,
     "metadata": {},
     "output_type": "execute_result"
    }
   ],
   "source": [
    "test_soup.body.find('div', class_='ux-layout-section ux-layout-section--features').find('div', class_=\"ux-layout-section__row\").find_all('div', class_='ux-labels-values__values')[1].find('span', class_=\"ux-textspans\").text"
   ]
  },
  {
   "cell_type": "code",
   "execution_count": 13,
   "metadata": {},
   "outputs": [],
   "source": [
    "main_page_url = 'https://www.ebay.com/sch/i.html?_from=R40&_trksid=p2380057.m570.l1313&_nkw=iphone'"
   ]
  },
  {
   "cell_type": "code",
   "execution_count": 14,
   "metadata": {},
   "outputs": [],
   "source": [
    "def get_index_data(soup):\n",
    "    try:\n",
    "        links = soup.find_all('a', class_='s-item__link')\n",
    "    except:\n",
    "        links = []\n",
    "    urls = [item.get('href') for item in links]\n",
    "    \n",
    "    return urls"
   ]
  },
  {
   "cell_type": "code",
   "execution_count": 15,
   "metadata": {},
   "outputs": [],
   "source": [
    "pages = []\n",
    "for i in range(1,250):\n",
    "    # refresh the link below before running\n",
    "    pages.append(get_index_data(get_page(f'https://www.ebay.com/sch/i.html?_from=R40&_trksid=p2380057.m570.l1313&_nkw=iphone&_pgn={i}')))"
   ]
  },
  {
   "cell_type": "code",
   "execution_count": null,
   "metadata": {},
   "outputs": [],
   "source": []
  },
  {
   "cell_type": "code",
   "execution_count": 16,
   "metadata": {},
   "outputs": [
    {
     "name": "stdout",
     "output_type": "stream",
     "text": [
      "Server responded: 404\n",
      "Server responded: 404\n",
      "Server responded: 404\n",
      "Server responded: 404\n",
      "Server responded: 404\n",
      "Server responded: 404\n",
      "Server responded: 404\n",
      "Server responded: 404\n",
      "Server responded: 404\n",
      "Server responded: 404\n",
      "Server responded: 404\n",
      "Server responded: 404\n",
      "Server responded: 404\n",
      "Server responded: 404\n",
      "Server responded: 404\n",
      "Server responded: 404\n",
      "Server responded: 404\n",
      "Server responded: 404\n",
      "Server responded: 404\n",
      "Server responded: 404\n",
      "Server responded: 404\n",
      "Server responded: 404\n",
      "Server responded: 404\n",
      "Server responded: 404\n",
      "Server responded: 404\n",
      "Server responded: 404\n",
      "Server responded: 404\n",
      "Server responded: 404\n",
      "Server responded: 404\n",
      "Server responded: 404\n",
      "Server responded: 404\n",
      "Server responded: 404\n",
      "Server responded: 404\n",
      "Server responded: 404\n",
      "Server responded: 404\n",
      "Server responded: 404\n",
      "Server responded: 404\n",
      "Server responded: 404\n",
      "Server responded: 404\n",
      "Server responded: 404\n",
      "Server responded: 404\n",
      "Server responded: 404\n",
      "Server responded: 404\n",
      "Server responded: 404\n",
      "Server responded: 404\n",
      "Server responded: 404\n",
      "Server responded: 404\n",
      "Server responded: 404\n",
      "Server responded: 404\n",
      "Server responded: 404\n",
      "Server responded: 404\n",
      "Server responded: 404\n",
      "Server responded: 404\n",
      "Server responded: 404\n",
      "Server responded: 404\n",
      "Server responded: 404\n",
      "Server responded: 404\n",
      "Server responded: 404\n",
      "Server responded: 404\n",
      "Server responded: 404\n",
      "Server responded: 404\n",
      "Server responded: 404\n",
      "Server responded: 404\n",
      "Server responded: 404\n",
      "Server responded: 404\n",
      "Server responded: 404\n",
      "Server responded: 404\n",
      "Server responded: 404\n",
      "Server responded: 404\n",
      "Server responded: 404\n",
      "Server responded: 404\n",
      "Server responded: 404\n",
      "Server responded: 404\n",
      "Server responded: 404\n",
      "Server responded: 404\n",
      "Server responded: 404\n",
      "Server responded: 404\n",
      "Server responded: 404\n",
      "Server responded: 500\n",
      "Server responded: 404\n",
      "Server responded: 404\n",
      "Server responded: 404\n",
      "Server responded: 404\n",
      "Server responded: 404\n",
      "Server responded: 404\n",
      "Server responded: 404\n",
      "Server responded: 404\n",
      "Server responded: 404\n",
      "Server responded: 404\n",
      "Server responded: 404\n",
      "Server responded: 404\n",
      "Server responded: 404\n",
      "Server responded: 404\n",
      "Server responded: 404\n",
      "Server responded: 404\n",
      "Server responded: 404\n",
      "Server responded: 404\n",
      "Server responded: 404\n",
      "Server responded: 404\n",
      "Server responded: 404\n",
      "Server responded: 404\n",
      "Server responded: 404\n",
      "Server responded: 404\n",
      "Server responded: 404\n",
      "Server responded: 404\n",
      "Server responded: 404\n",
      "Server responded: 404\n",
      "Server responded: 404\n",
      "Server responded: 404\n",
      "Server responded: 404\n",
      "Server responded: 404\n",
      "Server responded: 404\n",
      "Server responded: 404\n",
      "Server responded: 404\n",
      "Server responded: 404\n"
     ]
    }
   ],
   "source": [
    "data_list = []\n",
    "\n",
    "for list in pages:\n",
    "        for link in list:\n",
    "            try:\n",
    "                data = get_detail_data(get_page(link))\n",
    "                data_list.append(data)\n",
    "                pd.DataFrame(data_list).to_csv('continued_scraping_ebay.csv')\n",
    "            except:\n",
    "                pass\n",
    "    \n"
   ]
  },
  {
   "cell_type": "code",
   "execution_count": null,
   "metadata": {},
   "outputs": [
    {
     "ename": "NameError",
     "evalue": "name 'data_list' is not defined",
     "output_type": "error",
     "traceback": [
      "\u001b[0;31m---------------------------------------------------------------------------\u001b[0m",
      "\u001b[0;31mNameError\u001b[0m                                 Traceback (most recent call last)",
      "\u001b[0;32m/var/folders/q_/g2zssbt10h1blxnpvcp374lw0000gn/T/ipykernel_95028/136731959.py\u001b[0m in \u001b[0;36m<module>\u001b[0;34m\u001b[0m\n\u001b[0;32m----> 1\u001b[0;31m \u001b[0miphones_df\u001b[0m \u001b[0;34m=\u001b[0m \u001b[0mpd\u001b[0m\u001b[0;34m.\u001b[0m\u001b[0mDataFrame\u001b[0m\u001b[0;34m(\u001b[0m\u001b[0mdata_list\u001b[0m\u001b[0;34m)\u001b[0m\u001b[0;34m\u001b[0m\u001b[0;34m\u001b[0m\u001b[0m\n\u001b[0m\u001b[1;32m      2\u001b[0m \u001b[0miphones_df\u001b[0m\u001b[0;34m\u001b[0m\u001b[0;34m\u001b[0m\u001b[0m\n",
      "\u001b[0;31mNameError\u001b[0m: name 'data_list' is not defined"
     ]
    }
   ],
   "source": [
    "iphones_df = pd.DataFrame(data_list)\n",
    "iphones_df"
   ]
  },
  {
   "cell_type": "code",
   "execution_count": null,
   "metadata": {},
   "outputs": [
    {
     "ename": "NameError",
     "evalue": "name 'iphones_df' is not defined",
     "output_type": "error",
     "traceback": [
      "\u001b[0;31m---------------------------------------------------------------------------\u001b[0m",
      "\u001b[0;31mNameError\u001b[0m                                 Traceback (most recent call last)",
      "\u001b[0;32m/var/folders/q_/g2zssbt10h1blxnpvcp374lw0000gn/T/ipykernel_95028/1687532523.py\u001b[0m in \u001b[0;36m<module>\u001b[0;34m\u001b[0m\n\u001b[0;32m----> 1\u001b[0;31m \u001b[0miphones_df\u001b[0m\u001b[0;34m.\u001b[0m\u001b[0misna\u001b[0m\u001b[0;34m(\u001b[0m\u001b[0;34m)\u001b[0m\u001b[0;34m.\u001b[0m\u001b[0msum\u001b[0m\u001b[0;34m(\u001b[0m\u001b[0;34m)\u001b[0m\u001b[0;34m\u001b[0m\u001b[0;34m\u001b[0m\u001b[0m\n\u001b[0m",
      "\u001b[0;31mNameError\u001b[0m: name 'iphones_df' is not defined"
     ]
    }
   ],
   "source": [
    "iphones_df.isna().sum()"
   ]
  },
  {
   "cell_type": "code",
   "execution_count": null,
   "metadata": {},
   "outputs": [],
   "source": [
    "iphones_df.to_csv('iphones_datafram.csv')"
   ]
  },
  {
   "cell_type": "code",
   "execution_count": null,
   "metadata": {},
   "outputs": [],
   "source": []
  },
  {
   "cell_type": "code",
   "execution_count": null,
   "metadata": {},
   "outputs": [],
   "source": []
  },
  {
   "cell_type": "code",
   "execution_count": null,
   "metadata": {},
   "outputs": [],
   "source": []
  }
 ],
 "metadata": {
  "interpreter": {
   "hash": "4c10cfeef08723cf1d9ac9f4fac9a895c178ca21632044675b85c880c61ee6c0"
  },
  "kernelspec": {
   "display_name": "Python 3.9.7 ('base')",
   "language": "python",
   "name": "python3"
  },
  "language_info": {
   "codemirror_mode": {
    "name": "ipython",
    "version": 3
   },
   "file_extension": ".py",
   "mimetype": "text/x-python",
   "name": "python",
   "nbconvert_exporter": "python",
   "pygments_lexer": "ipython3",
   "version": "3.9.7"
  },
  "orig_nbformat": 4
 },
 "nbformat": 4,
 "nbformat_minor": 2
}
