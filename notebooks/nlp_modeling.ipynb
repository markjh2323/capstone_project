{
 "cells": [
  {
   "cell_type": "markdown",
   "metadata": {},
   "source": [
    "# Combining Natural Language Processing with Numeric/Categorical Features\n",
    "In this notebook, I created a custom class to combine the NLP features of the condition description with the other descriptive features of the web-scraped eBay listings."
   ]
  },
  {
   "cell_type": "code",
   "execution_count": 57,
   "metadata": {},
   "outputs": [],
   "source": [
    "import pandas as pd\n",
    "\n",
    "import matplotlib.pyplot as plt\n",
    "\n",
    "import seaborn as sns\n",
    "import numpy as np\n",
    "\n",
    "from sklearn.base import BaseEstimator, TransformerMixin\n",
    "from sklearn import set_config\n",
    "\n",
    "import re  \n",
    "import nltk\n",
    "from nltk.tokenize import word_tokenize\n",
    "from nltk import WordNetLemmatizer\n",
    "from nltk.corpus import stopwords\n",
    "from nltk.corpus import wordnet\n",
    "from nltk import pos_tag\n",
    "from nltk import FreqDist\n",
    "from nltk.sentiment.vader import SentimentIntensityAnalyzer\n",
    "\n",
    "from sklearn.tree import DecisionTreeRegressor\n",
    "from sklearn.preprocessing import LabelEncoder, StandardScaler, FunctionTransformer\n",
    "from sklearn.feature_extraction.text import TfidfVectorizer\n",
    "from sklearn.model_selection import train_test_split\n",
    "from sklearn.compose import ColumnTransformer\n",
    "from sklearn.pipeline import Pipeline, FeatureUnion\n",
    "from sklearn.ensemble import GradientBoostingRegressor\n",
    "from sklearn.metrics import accuracy_score, mean_squared_error, r2_score\n",
    "\n",
    "from sklearn.model_selection import GridSearchCV"
   ]
  },
  {
   "cell_type": "code",
   "execution_count": 58,
   "metadata": {},
   "outputs": [],
   "source": [
    "df = pd.read_csv('../data/nlp_iphones_cleaned.csv')"
   ]
  },
  {
   "cell_type": "code",
   "execution_count": 59,
   "metadata": {},
   "outputs": [],
   "source": [
    "df = df.drop(columns=['Unnamed: 0', 'title'])"
   ]
  },
  {
   "cell_type": "code",
   "execution_count": 60,
   "metadata": {},
   "outputs": [
    {
     "data": {
      "text/html": [
       "<div>\n",
       "<style scoped>\n",
       "    .dataframe tbody tr th:only-of-type {\n",
       "        vertical-align: middle;\n",
       "    }\n",
       "\n",
       "    .dataframe tbody tr th {\n",
       "        vertical-align: top;\n",
       "    }\n",
       "\n",
       "    .dataframe thead th {\n",
       "        text-align: right;\n",
       "    }\n",
       "</style>\n",
       "<table border=\"1\" class=\"dataframe\">\n",
       "  <thead>\n",
       "    <tr style=\"text-align: right;\">\n",
       "      <th></th>\n",
       "      <th>price</th>\n",
       "      <th>condition</th>\n",
       "      <th>condition_description</th>\n",
       "      <th>num_reviews</th>\n",
       "      <th>pos_feedback_pct</th>\n",
       "      <th>return_days</th>\n",
       "      <th>model</th>\n",
       "      <th>capacity</th>\n",
       "      <th>release_year</th>\n",
       "    </tr>\n",
       "  </thead>\n",
       "  <tbody>\n",
       "    <tr>\n",
       "      <th>0</th>\n",
       "      <td>135.99</td>\n",
       "      <td>1.0</td>\n",
       "      <td>“fully functional in excellent condition. our ...</td>\n",
       "      <td>30474.0</td>\n",
       "      <td>99.9</td>\n",
       "      <td>2.0</td>\n",
       "      <td>8</td>\n",
       "      <td>57.492355</td>\n",
       "      <td>2015</td>\n",
       "    </tr>\n",
       "    <tr>\n",
       "      <th>1</th>\n",
       "      <td>149.99</td>\n",
       "      <td>1.0</td>\n",
       "      <td>“overall good condition will have marks and sc...</td>\n",
       "      <td>13110.0</td>\n",
       "      <td>96.2</td>\n",
       "      <td>2.0</td>\n",
       "      <td>11</td>\n",
       "      <td>64.000000</td>\n",
       "      <td>2017</td>\n",
       "    </tr>\n",
       "    <tr>\n",
       "      <th>2</th>\n",
       "      <td>259.00</td>\n",
       "      <td>4.0</td>\n",
       "      <td>““pick your carrier or pick fully unlocked to ...</td>\n",
       "      <td>61033.0</td>\n",
       "      <td>100.0</td>\n",
       "      <td>2.0</td>\n",
       "      <td>11</td>\n",
       "      <td>256.000000</td>\n",
       "      <td>2017</td>\n",
       "    </tr>\n",
       "    <tr>\n",
       "      <th>3</th>\n",
       "      <td>107.99</td>\n",
       "      <td>1.0</td>\n",
       "      <td>“overall good working condition and will have ...</td>\n",
       "      <td>13110.0</td>\n",
       "      <td>96.2</td>\n",
       "      <td>2.0</td>\n",
       "      <td>10</td>\n",
       "      <td>32.000000</td>\n",
       "      <td>2016</td>\n",
       "    </tr>\n",
       "    <tr>\n",
       "      <th>4</th>\n",
       "      <td>209.95</td>\n",
       "      <td>3.0</td>\n",
       "      <td>“this is a b+ stock item, meaning unit is in v...</td>\n",
       "      <td>332402.0</td>\n",
       "      <td>98.4</td>\n",
       "      <td>3.0</td>\n",
       "      <td>12</td>\n",
       "      <td>64.000000</td>\n",
       "      <td>2017</td>\n",
       "    </tr>\n",
       "    <tr>\n",
       "      <th>...</th>\n",
       "      <td>...</td>\n",
       "      <td>...</td>\n",
       "      <td>...</td>\n",
       "      <td>...</td>\n",
       "      <td>...</td>\n",
       "      <td>...</td>\n",
       "      <td>...</td>\n",
       "      <td>...</td>\n",
       "      <td>...</td>\n",
       "    </tr>\n",
       "    <tr>\n",
       "      <th>4141</th>\n",
       "      <td>456.99</td>\n",
       "      <td>3.0</td>\n",
       "      <td>“device is 100% fully functional and in very g...</td>\n",
       "      <td>54837.0</td>\n",
       "      <td>99.4</td>\n",
       "      <td>3.0</td>\n",
       "      <td>15</td>\n",
       "      <td>64.000000</td>\n",
       "      <td>2019</td>\n",
       "    </tr>\n",
       "    <tr>\n",
       "      <th>4142</th>\n",
       "      <td>335.00</td>\n",
       "      <td>1.0</td>\n",
       "      <td>“near mint condition: screen is 100% flawless....</td>\n",
       "      <td>22050.0</td>\n",
       "      <td>99.6</td>\n",
       "      <td>3.0</td>\n",
       "      <td>15</td>\n",
       "      <td>128.000000</td>\n",
       "      <td>2019</td>\n",
       "    </tr>\n",
       "    <tr>\n",
       "      <th>4143</th>\n",
       "      <td>591.00</td>\n",
       "      <td>1.0</td>\n",
       "      <td>“this is a used device with real photos of the...</td>\n",
       "      <td>80257.0</td>\n",
       "      <td>99.7</td>\n",
       "      <td>2.0</td>\n",
       "      <td>15</td>\n",
       "      <td>512.000000</td>\n",
       "      <td>2019</td>\n",
       "    </tr>\n",
       "    <tr>\n",
       "      <th>4144</th>\n",
       "      <td>149.99</td>\n",
       "      <td>1.0</td>\n",
       "      <td>“this device powers on and is 100% functional ...</td>\n",
       "      <td>4258.0</td>\n",
       "      <td>99.8</td>\n",
       "      <td>2.0</td>\n",
       "      <td>10</td>\n",
       "      <td>128.000000</td>\n",
       "      <td>2016</td>\n",
       "    </tr>\n",
       "    <tr>\n",
       "      <th>4145</th>\n",
       "      <td>84.99</td>\n",
       "      <td>1.0</td>\n",
       "      <td>“works on cricket wireless. the home button is...</td>\n",
       "      <td>22.0</td>\n",
       "      <td>100.0</td>\n",
       "      <td>2.0</td>\n",
       "      <td>8</td>\n",
       "      <td>16.000000</td>\n",
       "      <td>2015</td>\n",
       "    </tr>\n",
       "  </tbody>\n",
       "</table>\n",
       "<p>4146 rows × 9 columns</p>\n",
       "</div>"
      ],
      "text/plain": [
       "       price  condition                              condition_description  \\\n",
       "0     135.99        1.0  “fully functional in excellent condition. our ...   \n",
       "1     149.99        1.0  “overall good condition will have marks and sc...   \n",
       "2     259.00        4.0  ““pick your carrier or pick fully unlocked to ...   \n",
       "3     107.99        1.0  “overall good working condition and will have ...   \n",
       "4     209.95        3.0  “this is a b+ stock item, meaning unit is in v...   \n",
       "...      ...        ...                                                ...   \n",
       "4141  456.99        3.0  “device is 100% fully functional and in very g...   \n",
       "4142  335.00        1.0  “near mint condition: screen is 100% flawless....   \n",
       "4143  591.00        1.0  “this is a used device with real photos of the...   \n",
       "4144  149.99        1.0  “this device powers on and is 100% functional ...   \n",
       "4145   84.99        1.0  “works on cricket wireless. the home button is...   \n",
       "\n",
       "      num_reviews  pos_feedback_pct  return_days  model    capacity  \\\n",
       "0         30474.0              99.9          2.0      8   57.492355   \n",
       "1         13110.0              96.2          2.0     11   64.000000   \n",
       "2         61033.0             100.0          2.0     11  256.000000   \n",
       "3         13110.0              96.2          2.0     10   32.000000   \n",
       "4        332402.0              98.4          3.0     12   64.000000   \n",
       "...           ...               ...          ...    ...         ...   \n",
       "4141      54837.0              99.4          3.0     15   64.000000   \n",
       "4142      22050.0              99.6          3.0     15  128.000000   \n",
       "4143      80257.0              99.7          2.0     15  512.000000   \n",
       "4144       4258.0              99.8          2.0     10  128.000000   \n",
       "4145         22.0             100.0          2.0      8   16.000000   \n",
       "\n",
       "      release_year  \n",
       "0             2015  \n",
       "1             2017  \n",
       "2             2017  \n",
       "3             2016  \n",
       "4             2017  \n",
       "...            ...  \n",
       "4141          2019  \n",
       "4142          2019  \n",
       "4143          2019  \n",
       "4144          2016  \n",
       "4145          2015  \n",
       "\n",
       "[4146 rows x 9 columns]"
      ]
     },
     "execution_count": 60,
     "metadata": {},
     "output_type": "execute_result"
    }
   ],
   "source": [
    "df"
   ]
  },
  {
   "cell_type": "markdown",
   "metadata": {},
   "source": [
    "## Function to process descriptions\n",
    "\n",
    "Created a function to pre-process all text in the condition description of listings."
   ]
  },
  {
   "cell_type": "code",
   "execution_count": 61,
   "metadata": {},
   "outputs": [],
   "source": [
    "def process_description(description, min_length):\n",
    "    stop_words = stopwords.words('english')\n",
    "\n",
    "    wnl = WordNetLemmatizer()\n",
    "\n",
    "    def pos_tagger(nltk_tag):\n",
    "        if nltk_tag.startswith('J'):\n",
    "            return wordnet.ADJ\n",
    "        elif nltk_tag.startswith('V'):\n",
    "            return wordnet.VERB\n",
    "        elif nltk_tag.startswith('N'):\n",
    "            return wordnet.NOUN\n",
    "        elif nltk_tag.startswith('R'):\n",
    "            return wordnet.ADV\n",
    "        else:         \n",
    "            return None\n",
    "        \n",
    "    description_lower = description.lower()\n",
    "    description_lower = re.sub(r\"@[a-z0-9_]+|#[a-z0-9_]+|http\\S+\", \"\", description_lower).strip().replace(\"\\r\", \"\").replace(\"\\n\", \"\").replace(\"\\t\", \"\")\n",
    "\n",
    "    description_norm = [x for x in word_tokenize(description_lower) if ((x.isalpha()) & (x not in stop_words)) ]\n",
    "\n",
    "    wordnet_tagged = list(map(lambda x: (x[0], pos_tagger(x[1])), pos_tag(description_norm))) \n",
    "\n",
    "    if len(wordnet_tagged) <= min_length:\n",
    "        return ''\n",
    "    else:\n",
    "        # rejoins lemmatized sentence \n",
    "        description_norm = \" \".join([wnl.lemmatize(x[0], x[1]) for x in wordnet_tagged if x[1] is not None])\n",
    "        return description_norm"
   ]
  },
  {
   "cell_type": "code",
   "execution_count": 62,
   "metadata": {},
   "outputs": [],
   "source": [
    "df['condition_description'] = df['condition_description'].apply(process_description, args=[5])\n",
    "# df['title'] = df['title'].apply(process_description, args=[5])"
   ]
  },
  {
   "cell_type": "code",
   "execution_count": 63,
   "metadata": {},
   "outputs": [
    {
     "data": {
      "text/html": [
       "<div>\n",
       "<style scoped>\n",
       "    .dataframe tbody tr th:only-of-type {\n",
       "        vertical-align: middle;\n",
       "    }\n",
       "\n",
       "    .dataframe tbody tr th {\n",
       "        vertical-align: top;\n",
       "    }\n",
       "\n",
       "    .dataframe thead th {\n",
       "        text-align: right;\n",
       "    }\n",
       "</style>\n",
       "<table border=\"1\" class=\"dataframe\">\n",
       "  <thead>\n",
       "    <tr style=\"text-align: right;\">\n",
       "      <th></th>\n",
       "      <th>price</th>\n",
       "      <th>condition</th>\n",
       "      <th>condition_description</th>\n",
       "      <th>num_reviews</th>\n",
       "      <th>pos_feedback_pct</th>\n",
       "      <th>return_days</th>\n",
       "      <th>model</th>\n",
       "      <th>capacity</th>\n",
       "      <th>release_year</th>\n",
       "    </tr>\n",
       "  </thead>\n",
       "  <tbody>\n",
       "    <tr>\n",
       "      <th>0</th>\n",
       "      <td>135.99</td>\n",
       "      <td>1.0</td>\n",
       "      <td>fully functional excellent condition device pr...</td>\n",
       "      <td>30474.0</td>\n",
       "      <td>99.9</td>\n",
       "      <td>2.0</td>\n",
       "      <td>8</td>\n",
       "      <td>57.492355</td>\n",
       "      <td>2015</td>\n",
       "    </tr>\n",
       "    <tr>\n",
       "      <th>1</th>\n",
       "      <td>149.99</td>\n",
       "      <td>1.0</td>\n",
       "      <td>overall good condition mark scratch mfi charge...</td>\n",
       "      <td>13110.0</td>\n",
       "      <td>96.2</td>\n",
       "      <td>2.0</td>\n",
       "      <td>11</td>\n",
       "      <td>64.000000</td>\n",
       "      <td>2017</td>\n",
       "    </tr>\n",
       "    <tr>\n",
       "      <th>2</th>\n",
       "      <td>259.00</td>\n",
       "      <td>4.0</td>\n",
       "      <td>pick carrier pick fully unlocked work multiple...</td>\n",
       "      <td>61033.0</td>\n",
       "      <td>100.0</td>\n",
       "      <td>2.0</td>\n",
       "      <td>11</td>\n",
       "      <td>256.000000</td>\n",
       "      <td>2017</td>\n",
       "    </tr>\n",
       "    <tr>\n",
       "      <th>3</th>\n",
       "      <td>107.99</td>\n",
       "      <td>1.0</td>\n",
       "      <td>overall good work condition mark scratch charg...</td>\n",
       "      <td>13110.0</td>\n",
       "      <td>96.2</td>\n",
       "      <td>2.0</td>\n",
       "      <td>10</td>\n",
       "      <td>32.000000</td>\n",
       "      <td>2016</td>\n",
       "    </tr>\n",
       "    <tr>\n",
       "      <th>4</th>\n",
       "      <td>209.95</td>\n",
       "      <td>3.0</td>\n",
       "      <td>stock item mean unit good cosmetic condition m...</td>\n",
       "      <td>332402.0</td>\n",
       "      <td>98.4</td>\n",
       "      <td>3.0</td>\n",
       "      <td>12</td>\n",
       "      <td>64.000000</td>\n",
       "      <td>2017</td>\n",
       "    </tr>\n",
       "    <tr>\n",
       "      <th>...</th>\n",
       "      <td>...</td>\n",
       "      <td>...</td>\n",
       "      <td>...</td>\n",
       "      <td>...</td>\n",
       "      <td>...</td>\n",
       "      <td>...</td>\n",
       "      <td>...</td>\n",
       "      <td>...</td>\n",
       "      <td>...</td>\n",
       "    </tr>\n",
       "    <tr>\n",
       "      <th>4141</th>\n",
       "      <td>456.99</td>\n",
       "      <td>3.0</td>\n",
       "      <td>device fully functional good physical conditio...</td>\n",
       "      <td>54837.0</td>\n",
       "      <td>99.4</td>\n",
       "      <td>3.0</td>\n",
       "      <td>15</td>\n",
       "      <td>64.000000</td>\n",
       "      <td>2019</td>\n",
       "    </tr>\n",
       "    <tr>\n",
       "      <th>4142</th>\n",
       "      <td>335.00</td>\n",
       "      <td>1.0</td>\n",
       "      <td>mint condition screen flawless wear frame negl...</td>\n",
       "      <td>22050.0</td>\n",
       "      <td>99.6</td>\n",
       "      <td>3.0</td>\n",
       "      <td>15</td>\n",
       "      <td>128.000000</td>\n",
       "      <td>2019</td>\n",
       "    </tr>\n",
       "    <tr>\n",
       "      <th>4143</th>\n",
       "      <td>591.00</td>\n",
       "      <td>1.0</td>\n",
       "      <td>use device real photo exact unique item actual...</td>\n",
       "      <td>80257.0</td>\n",
       "      <td>99.7</td>\n",
       "      <td>2.0</td>\n",
       "      <td>15</td>\n",
       "      <td>512.000000</td>\n",
       "      <td>2019</td>\n",
       "    </tr>\n",
       "    <tr>\n",
       "      <th>4144</th>\n",
       "      <td>149.99</td>\n",
       "      <td>1.0</td>\n",
       "      <td>device power functional ready use condition no...</td>\n",
       "      <td>4258.0</td>\n",
       "      <td>99.8</td>\n",
       "      <td>2.0</td>\n",
       "      <td>10</td>\n",
       "      <td>128.000000</td>\n",
       "      <td>2016</td>\n",
       "    </tr>\n",
       "    <tr>\n",
       "      <th>4145</th>\n",
       "      <td>84.99</td>\n",
       "      <td>1.0</td>\n",
       "      <td>work cricket wireless home button functional t...</td>\n",
       "      <td>22.0</td>\n",
       "      <td>100.0</td>\n",
       "      <td>2.0</td>\n",
       "      <td>8</td>\n",
       "      <td>16.000000</td>\n",
       "      <td>2015</td>\n",
       "    </tr>\n",
       "  </tbody>\n",
       "</table>\n",
       "<p>4146 rows × 9 columns</p>\n",
       "</div>"
      ],
      "text/plain": [
       "       price  condition                              condition_description  \\\n",
       "0     135.99        1.0  fully functional excellent condition device pr...   \n",
       "1     149.99        1.0  overall good condition mark scratch mfi charge...   \n",
       "2     259.00        4.0  pick carrier pick fully unlocked work multiple...   \n",
       "3     107.99        1.0  overall good work condition mark scratch charg...   \n",
       "4     209.95        3.0  stock item mean unit good cosmetic condition m...   \n",
       "...      ...        ...                                                ...   \n",
       "4141  456.99        3.0  device fully functional good physical conditio...   \n",
       "4142  335.00        1.0  mint condition screen flawless wear frame negl...   \n",
       "4143  591.00        1.0  use device real photo exact unique item actual...   \n",
       "4144  149.99        1.0  device power functional ready use condition no...   \n",
       "4145   84.99        1.0  work cricket wireless home button functional t...   \n",
       "\n",
       "      num_reviews  pos_feedback_pct  return_days  model    capacity  \\\n",
       "0         30474.0              99.9          2.0      8   57.492355   \n",
       "1         13110.0              96.2          2.0     11   64.000000   \n",
       "2         61033.0             100.0          2.0     11  256.000000   \n",
       "3         13110.0              96.2          2.0     10   32.000000   \n",
       "4        332402.0              98.4          3.0     12   64.000000   \n",
       "...           ...               ...          ...    ...         ...   \n",
       "4141      54837.0              99.4          3.0     15   64.000000   \n",
       "4142      22050.0              99.6          3.0     15  128.000000   \n",
       "4143      80257.0              99.7          2.0     15  512.000000   \n",
       "4144       4258.0              99.8          2.0     10  128.000000   \n",
       "4145         22.0             100.0          2.0      8   16.000000   \n",
       "\n",
       "      release_year  \n",
       "0             2015  \n",
       "1             2017  \n",
       "2             2017  \n",
       "3             2016  \n",
       "4             2017  \n",
       "...            ...  \n",
       "4141          2019  \n",
       "4142          2019  \n",
       "4143          2019  \n",
       "4144          2016  \n",
       "4145          2015  \n",
       "\n",
       "[4146 rows x 9 columns]"
      ]
     },
     "execution_count": 63,
     "metadata": {},
     "output_type": "execute_result"
    }
   ],
   "source": [
    "df"
   ]
  },
  {
   "cell_type": "markdown",
   "metadata": {},
   "source": [
    "# Data Exploration\n",
    "\n",
    "Viewing the collinearity of different features of the data"
   ]
  },
  {
   "cell_type": "code",
   "execution_count": 64,
   "metadata": {},
   "outputs": [
    {
     "data": {
      "text/plain": [
       "<AxesSubplot:>"
      ]
     },
     "execution_count": 64,
     "metadata": {},
     "output_type": "execute_result"
    },
    {
     "data": {
      "image/png": "[encoded data removed]",
      "text/plain": [
       "<Figure size 432x288 with 2 Axes>"
      ]
     },
     "metadata": {
      "needs_background": "light"
     },
     "output_type": "display_data"
    }
   ],
   "source": [
    "sns.heatmap(df.corr())"
   ]
  },
  {
   "cell_type": "code",
   "execution_count": 65,
   "metadata": {},
   "outputs": [
    {
     "data": {
      "image/png": "[encoded data removed]",
      "text/plain": [
       "<Figure size 432x288 with 1 Axes>"
      ]
     },
     "metadata": {
      "needs_background": "light"
     },
     "output_type": "display_data"
    }
   ],
   "source": [
    "sns.scatterplot(y='price', x='release_year', hue='condition', data=df)\n",
    "plt.show()"
   ]
  },
  {
   "cell_type": "markdown",
   "metadata": {},
   "source": [
    "## Filtering by Price\n",
    "\n",
    "In the following cells, I filtered out any listings below $40, as these listings are usually accessories or cases, rather than actual devices."
   ]
  },
  {
   "cell_type": "code",
   "execution_count": 66,
   "metadata": {},
   "outputs": [
    {
     "data": {
      "image/png": "[encoded data removed]",
      "text/plain": [
       "<Figure size 432x288 with 1 Axes>"
      ]
     },
     "metadata": {
      "needs_background": "light"
     },
     "output_type": "display_data"
    }
   ],
   "source": [
    "plt.hist(df['price']);"
   ]
  },
  {
   "cell_type": "code",
   "execution_count": 67,
   "metadata": {},
   "outputs": [],
   "source": [
    "df = df[df['price']>40]"
   ]
  },
  {
   "cell_type": "code",
   "execution_count": 68,
   "metadata": {},
   "outputs": [
    {
     "data": {
      "image/png": "[encoded data removed]",
      "text/plain": [
       "<Figure size 432x288 with 1 Axes>"
      ]
     },
     "metadata": {
      "needs_background": "light"
     },
     "output_type": "display_data"
    }
   ],
   "source": [
    "plt.hist(df['price']);"
   ]
  },
  {
   "cell_type": "markdown",
   "metadata": {},
   "source": [
    "## Train/Test Split\n",
    "\n",
    "I decided to drop the Model from the features because of its collinearity with Release Year, and because Release Year is a more universal feature that can be extended to other devices."
   ]
  },
  {
   "cell_type": "code",
   "execution_count": 69,
   "metadata": {},
   "outputs": [
    {
     "data": {
      "text/plain": [
       "Index(['price', 'condition', 'condition_description', 'num_reviews',\n",
       "       'pos_feedback_pct', 'return_days', 'model', 'capacity', 'release_year'],\n",
       "      dtype='object')"
      ]
     },
     "execution_count": 69,
     "metadata": {},
     "output_type": "execute_result"
    }
   ],
   "source": [
    "df.columns"
   ]
  },
  {
   "cell_type": "code",
   "execution_count": 70,
   "metadata": {},
   "outputs": [],
   "source": [
    "X = df.drop(columns = ['price', 'model'])\n",
    "y = df['price']\n",
    "X_train, X_test, y_train, y_test = train_test_split(X, y, test_size=0.1, random_state=305)"
   ]
  },
  {
   "cell_type": "markdown",
   "metadata": {},
   "source": [
    "# Pipeline\n",
    "\n",
    "I decided to use a column transformer, so I separated my features into numeric, natural language, and categorical columns. Then, a custom class was created to incorporate the Sentiment Intensity Analysis as a feature of the model. Finally, the pipeline was created to unite all features and run them through the model."
   ]
  },
  {
   "cell_type": "code",
   "execution_count": 71,
   "metadata": {},
   "outputs": [],
   "source": [
    "nlp_cols = 'condition_description'\n",
    "num_cols = ['num_reviews', 'pos_feedback_pct', 'capacity', 'condition_neg', 'condition_neu', 'condition_pos', 'condition_compound']\n",
    "cat_cols = ['condition', 'return_days', 'capacity', 'release_year']"
   ]
  },
  {
   "cell_type": "code",
   "execution_count": 72,
   "metadata": {},
   "outputs": [],
   "source": [
    "# Create custom class for Sentiment Intensity Analysis\n",
    "\n",
    "class SentimentDataFramer(BaseEstimator, TransformerMixin):\n",
    "    def __init__(self):\n",
    "        pass\n",
    "    def fit(self, data, y = 0):\n",
    "        return self\n",
    "    def transform(self, data, y = 0):\n",
    "        polarity_list = []\n",
    "        polarity_list.extend(data.apply(self.sentiment))\n",
    "        polarity_df = pd.DataFrame(polarity_list)\n",
    "        return polarity_df\n",
    "    def sentiment(self, desc):\n",
    "        sia = SentimentIntensityAnalyzer()\n",
    "        scores = sia.polarity_scores(desc)\n",
    "        return scores"
   ]
  },
  {
   "cell_type": "code",
   "execution_count": 73,
   "metadata": {},
   "outputs": [],
   "source": [
    "transformer_list = [\n",
    "    ('nlpvect', TfidfVectorizer(stop_words = 'english', ngram_range=(1,3))),\n",
    "    ('sentint', SentimentDataFramer())\n",
    "]\n",
    "\n",
    "feat_union = FeatureUnion(transformer_list)"
   ]
  },
  {
   "cell_type": "code",
   "execution_count": 74,
   "metadata": {},
   "outputs": [],
   "source": [
    "numeric_pipeline = Pipeline([('numnorm', StandardScaler())])\n",
    "\n",
    "categoric_pipeline = Pipeline([('ordnorm', StandardScaler())])\n",
    "\n",
    "nlp_pipeline = Pipeline([('nlp', feat_union)])"
   ]
  },
  {
   "cell_type": "code",
   "execution_count": 75,
   "metadata": {},
   "outputs": [],
   "source": [
    "ct = ColumnTransformer(\n",
    "    [ (\"nlppipeline\", nlp_pipeline, nlp_cols),\n",
    "      (\"numericpipe\", numeric_pipeline, num_cols),\n",
    "      (\"categoricpipeline\", categoric_pipeline, cat_cols)\n",
    "    ]\n",
    ")"
   ]
  },
  {
   "cell_type": "code",
   "execution_count": 76,
   "metadata": {},
   "outputs": [
    {
     "data": {
      "text/html": [
       "<style>#sk-5af1bbf9-32ee-4093-8d1f-20f7d3a2f090 {color: black;background-color: white;}#sk-5af1bbf9-32ee-4093-8d1f-20f7d3a2f090 pre{padding: 0;}#sk-5af1bbf9-32ee-4093-8d1f-20f7d3a2f090 div.sk-toggleable {background-color: white;}#sk-5af1bbf9-32ee-4093-8d1f-20f7d3a2f090 label.sk-toggleable__label {cursor: pointer;display: block;width: 100%;margin-bottom: 0;padding: 0.2em 0.3em;box-sizing: border-box;text-align: center;}#sk-5af1bbf9-32ee-4093-8d1f-20f7d3a2f090 div.sk-toggleable__content {max-height: 0;max-width: 0;overflow: hidden;text-align: left;background-color: #f0f8ff;}#sk-5af1bbf9-32ee-4093-8d1f-20f7d3a2f090 div.sk-toggleable__content pre {margin: 0.2em;color: black;border-radius: 0.25em;background-color: #f0f8ff;}#sk-5af1bbf9-32ee-4093-8d1f-20f7d3a2f090 input.sk-toggleable__control:checked~div.sk-toggleable__content {max-height: 200px;max-width: 100%;overflow: auto;}#sk-5af1bbf9-32ee-4093-8d1f-20f7d3a2f090 div.sk-estimator input.sk-toggleable__control:checked~label.sk-toggleable__label {background-color: #d4ebff;}#sk-5af1bbf9-32ee-4093-8d1f-20f7d3a2f090 div.sk-label input.sk-toggleable__control:checked~label.sk-toggleable__label {background-color: #d4ebff;}#sk-5af1bbf9-32ee-4093-8d1f-20f7d3a2f090 input.sk-hidden--visually {border: 0;clip: rect(1px 1px 1px 1px);clip: rect(1px, 1px, 1px, 1px);height: 1px;margin: -1px;overflow: hidden;padding: 0;position: absolute;width: 1px;}#sk-5af1bbf9-32ee-4093-8d1f-20f7d3a2f090 div.sk-estimator {font-family: monospace;background-color: #f0f8ff;margin: 0.25em 0.25em;border: 1px dotted black;border-radius: 0.25em;box-sizing: border-box;}#sk-5af1bbf9-32ee-4093-8d1f-20f7d3a2f090 div.sk-estimator:hover {background-color: #d4ebff;}#sk-5af1bbf9-32ee-4093-8d1f-20f7d3a2f090 div.sk-parallel-item::after {content: \"\";width: 100%;border-bottom: 1px solid gray;flex-grow: 1;}#sk-5af1bbf9-32ee-4093-8d1f-20f7d3a2f090 div.sk-label:hover label.sk-toggleable__label {background-color: #d4ebff;}#sk-5af1bbf9-32ee-4093-8d1f-20f7d3a2f090 div.sk-serial::before {content: \"\";position: absolute;border-left: 1px solid gray;box-sizing: border-box;top: 2em;bottom: 0;left: 50%;}#sk-5af1bbf9-32ee-4093-8d1f-20f7d3a2f090 div.sk-serial {display: flex;flex-direction: column;align-items: center;background-color: white;}#sk-5af1bbf9-32ee-4093-8d1f-20f7d3a2f090 div.sk-item {z-index: 1;}#sk-5af1bbf9-32ee-4093-8d1f-20f7d3a2f090 div.sk-parallel {display: flex;align-items: stretch;justify-content: center;background-color: white;}#sk-5af1bbf9-32ee-4093-8d1f-20f7d3a2f090 div.sk-parallel-item {display: flex;flex-direction: column;position: relative;background-color: white;}#sk-5af1bbf9-32ee-4093-8d1f-20f7d3a2f090 div.sk-parallel-item:first-child::after {align-self: flex-end;width: 50%;}#sk-5af1bbf9-32ee-4093-8d1f-20f7d3a2f090 div.sk-parallel-item:last-child::after {align-self: flex-start;width: 50%;}#sk-5af1bbf9-32ee-4093-8d1f-20f7d3a2f090 div.sk-parallel-item:only-child::after {width: 0;}#sk-5af1bbf9-32ee-4093-8d1f-20f7d3a2f090 div.sk-dashed-wrapped {border: 1px dashed gray;margin: 0.2em;box-sizing: border-box;padding-bottom: 0.1em;background-color: white;position: relative;}#sk-5af1bbf9-32ee-4093-8d1f-20f7d3a2f090 div.sk-label label {font-family: monospace;font-weight: bold;background-color: white;display: inline-block;line-height: 1.2em;}#sk-5af1bbf9-32ee-4093-8d1f-20f7d3a2f090 div.sk-label-container {position: relative;z-index: 2;text-align: center;}#sk-5af1bbf9-32ee-4093-8d1f-20f7d3a2f090 div.sk-container {display: inline-block;position: relative;}</style><div id=\"sk-5af1bbf9-32ee-4093-8d1f-20f7d3a2f090\" class\"sk-top-container\"><div class=\"sk-container\"><div class=\"sk-item sk-dashed-wrapped\"><div class=\"sk-label-container\"><div class=\"sk-label sk-toggleable\"><input class=\"sk-toggleable__control sk-hidden--visually\" id=\"f8104036-6723-4118-a083-25506eea9e24\" type=\"checkbox\" ><label class=\"sk-toggleable__label\" for=\"f8104036-6723-4118-a083-25506eea9e24\">ColumnTransformer</label><div class=\"sk-toggleable__content\"><pre>ColumnTransformer(transformers=[('nlppipeline',\n",
       "                                 Pipeline(steps=[('nlp',\n",
       "                                                  FeatureUnion(transformer_list=[('nlpvect',\n",
       "                                                                                  TfidfVectorizer(ngram_range=(1,\n",
       "                                                                                                               3),\n",
       "                                                                                                  stop_words='english')),\n",
       "                                                                                 ('sentint',\n",
       "                                                                                  SentimentDataFramer())]))]),\n",
       "                                 'condition_description'),\n",
       "                                ('numericpipe',\n",
       "                                 Pipeline(steps=[('numnorm',\n",
       "                                                  StandardScaler())]),\n",
       "                                 ['num_reviews', 'pos_feedback_pct', 'capacity',\n",
       "                                  'condition_neg', 'condition_neu',\n",
       "                                  'condition_pos', 'condition_compound']),\n",
       "                                ('categoricpipeline',\n",
       "                                 Pipeline(steps=[('ordnorm',\n",
       "                                                  StandardScaler())]),\n",
       "                                 ['condition', 'return_days', 'capacity',\n",
       "                                  'release_year'])])</pre></div></div></div><div class=\"sk-parallel\"><div class=\"sk-parallel-item\"><div class=\"sk-item\"><div class=\"sk-label-container\"><div class=\"sk-label sk-toggleable\"><input class=\"sk-toggleable__control sk-hidden--visually\" id=\"cb0b434e-c33f-4d1e-9015-93cac1526583\" type=\"checkbox\" ><label class=\"sk-toggleable__label\" for=\"cb0b434e-c33f-4d1e-9015-93cac1526583\">nlppipeline</label><div class=\"sk-toggleable__content\"><pre>condition_description</pre></div></div></div><div class=\"sk-serial\"><div class=\"sk-item\"><div class=\"sk-serial\"><div class=\"sk-item sk-dashed-wrapped\"><div class=\"sk-label-container\"><div class=\"sk-label sk-toggleable\"><input class=\"sk-toggleable__control sk-hidden--visually\" id=\"f57e87ee-73de-4d9e-b939-0d3c3a927adc\" type=\"checkbox\" ><label class=\"sk-toggleable__label\" for=\"f57e87ee-73de-4d9e-b939-0d3c3a927adc\">nlp: FeatureUnion</label><div class=\"sk-toggleable__content\"><pre>FeatureUnion(transformer_list=[('nlpvect',\n",
       "                                TfidfVectorizer(ngram_range=(1, 3),\n",
       "                                                stop_words='english')),\n",
       "                               ('sentint', SentimentDataFramer())])</pre></div></div></div><div class=\"sk-parallel\"><div class=\"sk-parallel-item\"><div class=\"sk-item\"><div class=\"sk-label-container\"><div class=\"sk-label sk-toggleable\"><label>nlpvect</label></div></div><div class=\"sk-serial\"><div class=\"sk-item\"><div class=\"sk-estimator sk-toggleable\"><input class=\"sk-toggleable__control sk-hidden--visually\" id=\"6ac21b96-2722-48d8-81f9-e09c9109907c\" type=\"checkbox\" ><label class=\"sk-toggleable__label\" for=\"6ac21b96-2722-48d8-81f9-e09c9109907c\">TfidfVectorizer</label><div class=\"sk-toggleable__content\"><pre>TfidfVectorizer(ngram_range=(1, 3), stop_words='english')</pre></div></div></div></div></div></div><div class=\"sk-parallel-item\"><div class=\"sk-item\"><div class=\"sk-label-container\"><div class=\"sk-label sk-toggleable\"><label>sentint</label></div></div><div class=\"sk-serial\"><div class=\"sk-item\"><div class=\"sk-estimator sk-toggleable\"><input class=\"sk-toggleable__control sk-hidden--visually\" id=\"206b165e-c2ee-4d1c-9c7a-0881205886aa\" type=\"checkbox\" ><label class=\"sk-toggleable__label\" for=\"206b165e-c2ee-4d1c-9c7a-0881205886aa\">SentimentDataFramer</label><div class=\"sk-toggleable__content\"><pre>SentimentDataFramer()</pre></div></div></div></div></div></div></div></div></div></div></div></div></div><div class=\"sk-parallel-item\"><div class=\"sk-item\"><div class=\"sk-label-container\"><div class=\"sk-label sk-toggleable\"><input class=\"sk-toggleable__control sk-hidden--visually\" id=\"5a5274b1-f306-46ed-9e63-bfbb0aa09954\" type=\"checkbox\" ><label class=\"sk-toggleable__label\" for=\"5a5274b1-f306-46ed-9e63-bfbb0aa09954\">numericpipe</label><div class=\"sk-toggleable__content\"><pre>['num_reviews', 'pos_feedback_pct', 'capacity', 'condition_neg', 'condition_neu', 'condition_pos', 'condition_compound']</pre></div></div></div><div class=\"sk-serial\"><div class=\"sk-item\"><div class=\"sk-serial\"><div class=\"sk-item\"><div class=\"sk-estimator sk-toggleable\"><input class=\"sk-toggleable__control sk-hidden--visually\" id=\"4db323eb-7e75-482b-9e65-24df81c226b9\" type=\"checkbox\" ><label class=\"sk-toggleable__label\" for=\"4db323eb-7e75-482b-9e65-24df81c226b9\">StandardScaler</label><div class=\"sk-toggleable__content\"><pre>StandardScaler()</pre></div></div></div></div></div></div></div></div><div class=\"sk-parallel-item\"><div class=\"sk-item\"><div class=\"sk-label-container\"><div class=\"sk-label sk-toggleable\"><input class=\"sk-toggleable__control sk-hidden--visually\" id=\"c41eea0b-9045-480c-a6db-9c071b03f589\" type=\"checkbox\" ><label class=\"sk-toggleable__label\" for=\"c41eea0b-9045-480c-a6db-9c071b03f589\">categoricpipeline</label><div class=\"sk-toggleable__content\"><pre>['condition', 'return_days', 'capacity', 'release_year']</pre></div></div></div><div class=\"sk-serial\"><div class=\"sk-item\"><div class=\"sk-serial\"><div class=\"sk-item\"><div class=\"sk-estimator sk-toggleable\"><input class=\"sk-toggleable__control sk-hidden--visually\" id=\"a367f790-f874-47f2-8293-a66ceb6d74ed\" type=\"checkbox\" ><label class=\"sk-toggleable__label\" for=\"a367f790-f874-47f2-8293-a66ceb6d74ed\">StandardScaler</label><div class=\"sk-toggleable__content\"><pre>StandardScaler()</pre></div></div></div></div></div></div></div></div></div></div></div></div>"
      ],
      "text/plain": [
       "ColumnTransformer(transformers=[('nlppipeline',\n",
       "                                 Pipeline(steps=[('nlp',\n",
       "                                                  FeatureUnion(transformer_list=[('nlpvect',\n",
       "                                                                                  TfidfVectorizer(ngram_range=(1,\n",
       "                                                                                                               3),\n",
       "                                                                                                  stop_words='english')),\n",
       "                                                                                 ('sentint',\n",
       "                                                                                  SentimentDataFramer())]))]),\n",
       "                                 'condition_description'),\n",
       "                                ('numericpipe',\n",
       "                                 Pipeline(steps=[('numnorm',\n",
       "                                                  StandardScaler())]),\n",
       "                                 ['num_reviews', 'pos_feedback_pct', 'capacity',\n",
       "                                  'condition_neg', 'condition_neu',\n",
       "                                  'condition_pos', 'condition_compound']),\n",
       "                                ('categoricpipeline',\n",
       "                                 Pipeline(steps=[('ordnorm',\n",
       "                                                  StandardScaler())]),\n",
       "                                 ['condition', 'return_days', 'capacity',\n",
       "                                  'release_year'])])"
      ]
     },
     "execution_count": 76,
     "metadata": {},
     "output_type": "execute_result"
    }
   ],
   "source": [
    "ct"
   ]
  },
  {
   "cell_type": "code",
   "execution_count": 77,
   "metadata": {},
   "outputs": [],
   "source": [
    "set_config(display=\"diagram\")"
   ]
  },
  {
   "cell_type": "code",
   "execution_count": 78,
   "metadata": {},
   "outputs": [
    {
     "data": {
      "text/html": [
       "<style>#sk-88499ddc-20a7-4d5d-83e8-080b57a5b464 {color: black;background-color: white;}#sk-88499ddc-20a7-4d5d-83e8-080b57a5b464 pre{padding: 0;}#sk-88499ddc-20a7-4d5d-83e8-080b57a5b464 div.sk-toggleable {background-color: white;}#sk-88499ddc-20a7-4d5d-83e8-080b57a5b464 label.sk-toggleable__label {cursor: pointer;display: block;width: 100%;margin-bottom: 0;padding: 0.2em 0.3em;box-sizing: border-box;text-align: center;}#sk-88499ddc-20a7-4d5d-83e8-080b57a5b464 div.sk-toggleable__content {max-height: 0;max-width: 0;overflow: hidden;text-align: left;background-color: #f0f8ff;}#sk-88499ddc-20a7-4d5d-83e8-080b57a5b464 div.sk-toggleable__content pre {margin: 0.2em;color: black;border-radius: 0.25em;background-color: #f0f8ff;}#sk-88499ddc-20a7-4d5d-83e8-080b57a5b464 input.sk-toggleable__control:checked~div.sk-toggleable__content {max-height: 200px;max-width: 100%;overflow: auto;}#sk-88499ddc-20a7-4d5d-83e8-080b57a5b464 div.sk-estimator input.sk-toggleable__control:checked~label.sk-toggleable__label {background-color: #d4ebff;}#sk-88499ddc-20a7-4d5d-83e8-080b57a5b464 div.sk-label input.sk-toggleable__control:checked~label.sk-toggleable__label {background-color: #d4ebff;}#sk-88499ddc-20a7-4d5d-83e8-080b57a5b464 input.sk-hidden--visually {border: 0;clip: rect(1px 1px 1px 1px);clip: rect(1px, 1px, 1px, 1px);height: 1px;margin: -1px;overflow: hidden;padding: 0;position: absolute;width: 1px;}#sk-88499ddc-20a7-4d5d-83e8-080b57a5b464 div.sk-estimator {font-family: monospace;background-color: #f0f8ff;margin: 0.25em 0.25em;border: 1px dotted black;border-radius: 0.25em;box-sizing: border-box;}#sk-88499ddc-20a7-4d5d-83e8-080b57a5b464 div.sk-estimator:hover {background-color: #d4ebff;}#sk-88499ddc-20a7-4d5d-83e8-080b57a5b464 div.sk-parallel-item::after {content: \"\";width: 100%;border-bottom: 1px solid gray;flex-grow: 1;}#sk-88499ddc-20a7-4d5d-83e8-080b57a5b464 div.sk-label:hover label.sk-toggleable__label {background-color: #d4ebff;}#sk-88499ddc-20a7-4d5d-83e8-080b57a5b464 div.sk-serial::before {content: \"\";position: absolute;border-left: 1px solid gray;box-sizing: border-box;top: 2em;bottom: 0;left: 50%;}#sk-88499ddc-20a7-4d5d-83e8-080b57a5b464 div.sk-serial {display: flex;flex-direction: column;align-items: center;background-color: white;}#sk-88499ddc-20a7-4d5d-83e8-080b57a5b464 div.sk-item {z-index: 1;}#sk-88499ddc-20a7-4d5d-83e8-080b57a5b464 div.sk-parallel {display: flex;align-items: stretch;justify-content: center;background-color: white;}#sk-88499ddc-20a7-4d5d-83e8-080b57a5b464 div.sk-parallel-item {display: flex;flex-direction: column;position: relative;background-color: white;}#sk-88499ddc-20a7-4d5d-83e8-080b57a5b464 div.sk-parallel-item:first-child::after {align-self: flex-end;width: 50%;}#sk-88499ddc-20a7-4d5d-83e8-080b57a5b464 div.sk-parallel-item:last-child::after {align-self: flex-start;width: 50%;}#sk-88499ddc-20a7-4d5d-83e8-080b57a5b464 div.sk-parallel-item:only-child::after {width: 0;}#sk-88499ddc-20a7-4d5d-83e8-080b57a5b464 div.sk-dashed-wrapped {border: 1px dashed gray;margin: 0.2em;box-sizing: border-box;padding-bottom: 0.1em;background-color: white;position: relative;}#sk-88499ddc-20a7-4d5d-83e8-080b57a5b464 div.sk-label label {font-family: monospace;font-weight: bold;background-color: white;display: inline-block;line-height: 1.2em;}#sk-88499ddc-20a7-4d5d-83e8-080b57a5b464 div.sk-label-container {position: relative;z-index: 2;text-align: center;}#sk-88499ddc-20a7-4d5d-83e8-080b57a5b464 div.sk-container {display: inline-block;position: relative;}</style><div id=\"sk-88499ddc-20a7-4d5d-83e8-080b57a5b464\" class\"sk-top-container\"><div class=\"sk-container\"><div class=\"sk-item sk-dashed-wrapped\"><div class=\"sk-label-container\"><div class=\"sk-label sk-toggleable\"><input class=\"sk-toggleable__control sk-hidden--visually\" id=\"42aa263b-8be7-477e-bcff-0fb2bd904678\" type=\"checkbox\" ><label class=\"sk-toggleable__label\" for=\"42aa263b-8be7-477e-bcff-0fb2bd904678\">Pipeline</label><div class=\"sk-toggleable__content\"><pre>Pipeline(steps=[('preprocess',\n",
       "                 ColumnTransformer(transformers=[('nlppipeline',\n",
       "                                                  Pipeline(steps=[('nlp',\n",
       "                                                                   FeatureUnion(transformer_list=[('nlpvect',\n",
       "                                                                                                   TfidfVectorizer(ngram_range=(1,\n",
       "                                                                                                                                3),\n",
       "                                                                                                                   stop_words='english')),\n",
       "                                                                                                  ('sentint',\n",
       "                                                                                                   SentimentDataFramer())]))]),\n",
       "                                                  'condition_description'),\n",
       "                                                 ('numericpipe',\n",
       "                                                  Pipeline(steps=[('numnorm',\n",
       "                                                                   StandardScaler())]),\n",
       "                                                  ['num_reviews',\n",
       "                                                   'pos_feedback_pct',\n",
       "                                                   'capacity', 'condition_neg',\n",
       "                                                   'condition_neu',\n",
       "                                                   'condition_pos',\n",
       "                                                   'condition_compound']),\n",
       "                                                 ('categoricpipeline',\n",
       "                                                  Pipeline(steps=[('ordnorm',\n",
       "                                                                   StandardScaler())]),\n",
       "                                                  ['condition', 'return_days',\n",
       "                                                   'capacity',\n",
       "                                                   'release_year'])])),\n",
       "                ('model', GradientBoostingRegressor())])</pre></div></div></div><div class=\"sk-serial\"><div class=\"sk-item sk-dashed-wrapped\"><div class=\"sk-label-container\"><div class=\"sk-label sk-toggleable\"><input class=\"sk-toggleable__control sk-hidden--visually\" id=\"25be0ac4-3b7e-4cf1-8eb4-203dc4fecf0a\" type=\"checkbox\" ><label class=\"sk-toggleable__label\" for=\"25be0ac4-3b7e-4cf1-8eb4-203dc4fecf0a\">preprocess: ColumnTransformer</label><div class=\"sk-toggleable__content\"><pre>ColumnTransformer(transformers=[('nlppipeline',\n",
       "                                 Pipeline(steps=[('nlp',\n",
       "                                                  FeatureUnion(transformer_list=[('nlpvect',\n",
       "                                                                                  TfidfVectorizer(ngram_range=(1,\n",
       "                                                                                                               3),\n",
       "                                                                                                  stop_words='english')),\n",
       "                                                                                 ('sentint',\n",
       "                                                                                  SentimentDataFramer())]))]),\n",
       "                                 'condition_description'),\n",
       "                                ('numericpipe',\n",
       "                                 Pipeline(steps=[('numnorm',\n",
       "                                                  StandardScaler())]),\n",
       "                                 ['num_reviews', 'pos_feedback_pct', 'capacity',\n",
       "                                  'condition_neg', 'condition_neu',\n",
       "                                  'condition_pos', 'condition_compound']),\n",
       "                                ('categoricpipeline',\n",
       "                                 Pipeline(steps=[('ordnorm',\n",
       "                                                  StandardScaler())]),\n",
       "                                 ['condition', 'return_days', 'capacity',\n",
       "                                  'release_year'])])</pre></div></div></div><div class=\"sk-parallel\"><div class=\"sk-parallel-item\"><div class=\"sk-item\"><div class=\"sk-label-container\"><div class=\"sk-label sk-toggleable\"><input class=\"sk-toggleable__control sk-hidden--visually\" id=\"0b3bb2f3-459f-4593-a2d1-5b8517d6d2b2\" type=\"checkbox\" ><label class=\"sk-toggleable__label\" for=\"0b3bb2f3-459f-4593-a2d1-5b8517d6d2b2\">nlppipeline</label><div class=\"sk-toggleable__content\"><pre>condition_description</pre></div></div></div><div class=\"sk-serial\"><div class=\"sk-item\"><div class=\"sk-serial\"><div class=\"sk-item sk-dashed-wrapped\"><div class=\"sk-label-container\"><div class=\"sk-label sk-toggleable\"><input class=\"sk-toggleable__control sk-hidden--visually\" id=\"c71ba23c-55bb-4aa5-98fe-4056fd6d4ff1\" type=\"checkbox\" ><label class=\"sk-toggleable__label\" for=\"c71ba23c-55bb-4aa5-98fe-4056fd6d4ff1\">nlp: FeatureUnion</label><div class=\"sk-toggleable__content\"><pre>FeatureUnion(transformer_list=[('nlpvect',\n",
       "                                TfidfVectorizer(ngram_range=(1, 3),\n",
       "                                                stop_words='english')),\n",
       "                               ('sentint', SentimentDataFramer())])</pre></div></div></div><div class=\"sk-parallel\"><div class=\"sk-parallel-item\"><div class=\"sk-item\"><div class=\"sk-label-container\"><div class=\"sk-label sk-toggleable\"><label>nlpvect</label></div></div><div class=\"sk-serial\"><div class=\"sk-item\"><div class=\"sk-estimator sk-toggleable\"><input class=\"sk-toggleable__control sk-hidden--visually\" id=\"c9f7abea-e46b-44a7-b843-1e1a21b2479e\" type=\"checkbox\" ><label class=\"sk-toggleable__label\" for=\"c9f7abea-e46b-44a7-b843-1e1a21b2479e\">TfidfVectorizer</label><div class=\"sk-toggleable__content\"><pre>TfidfVectorizer(ngram_range=(1, 3), stop_words='english')</pre></div></div></div></div></div></div><div class=\"sk-parallel-item\"><div class=\"sk-item\"><div class=\"sk-label-container\"><div class=\"sk-label sk-toggleable\"><label>sentint</label></div></div><div class=\"sk-serial\"><div class=\"sk-item\"><div class=\"sk-estimator sk-toggleable\"><input class=\"sk-toggleable__control sk-hidden--visually\" id=\"a9dbb6cd-d6df-4708-b8f6-c06a441cd466\" type=\"checkbox\" ><label class=\"sk-toggleable__label\" for=\"a9dbb6cd-d6df-4708-b8f6-c06a441cd466\">SentimentDataFramer</label><div class=\"sk-toggleable__content\"><pre>SentimentDataFramer()</pre></div></div></div></div></div></div></div></div></div></div></div></div></div><div class=\"sk-parallel-item\"><div class=\"sk-item\"><div class=\"sk-label-container\"><div class=\"sk-label sk-toggleable\"><input class=\"sk-toggleable__control sk-hidden--visually\" id=\"7ee138a2-96fa-4877-a315-e3dbd8598144\" type=\"checkbox\" ><label class=\"sk-toggleable__label\" for=\"7ee138a2-96fa-4877-a315-e3dbd8598144\">numericpipe</label><div class=\"sk-toggleable__content\"><pre>['num_reviews', 'pos_feedback_pct', 'capacity', 'condition_neg', 'condition_neu', 'condition_pos', 'condition_compound']</pre></div></div></div><div class=\"sk-serial\"><div class=\"sk-item\"><div class=\"sk-serial\"><div class=\"sk-item\"><div class=\"sk-estimator sk-toggleable\"><input class=\"sk-toggleable__control sk-hidden--visually\" id=\"3745baec-de9a-4f86-b2f0-c0ba03f19d1b\" type=\"checkbox\" ><label class=\"sk-toggleable__label\" for=\"3745baec-de9a-4f86-b2f0-c0ba03f19d1b\">StandardScaler</label><div class=\"sk-toggleable__content\"><pre>StandardScaler()</pre></div></div></div></div></div></div></div></div><div class=\"sk-parallel-item\"><div class=\"sk-item\"><div class=\"sk-label-container\"><div class=\"sk-label sk-toggleable\"><input class=\"sk-toggleable__control sk-hidden--visually\" id=\"c59e01c9-1804-4839-a367-ac5c9b77f706\" type=\"checkbox\" ><label class=\"sk-toggleable__label\" for=\"c59e01c9-1804-4839-a367-ac5c9b77f706\">categoricpipeline</label><div class=\"sk-toggleable__content\"><pre>['condition', 'return_days', 'capacity', 'release_year']</pre></div></div></div><div class=\"sk-serial\"><div class=\"sk-item\"><div class=\"sk-serial\"><div class=\"sk-item\"><div class=\"sk-estimator sk-toggleable\"><input class=\"sk-toggleable__control sk-hidden--visually\" id=\"65be9742-1029-4f9c-912f-bfedf589987e\" type=\"checkbox\" ><label class=\"sk-toggleable__label\" for=\"65be9742-1029-4f9c-912f-bfedf589987e\">StandardScaler</label><div class=\"sk-toggleable__content\"><pre>StandardScaler()</pre></div></div></div></div></div></div></div></div></div></div><div class=\"sk-item\"><div class=\"sk-estimator sk-toggleable\"><input class=\"sk-toggleable__control sk-hidden--visually\" id=\"9b640b4d-361a-4fbf-98a5-4adfbc314548\" type=\"checkbox\" ><label class=\"sk-toggleable__label\" for=\"9b640b4d-361a-4fbf-98a5-4adfbc314548\">GradientBoostingRegressor</label><div class=\"sk-toggleable__content\"><pre>GradientBoostingRegressor()</pre></div></div></div></div></div></div></div>"
      ],
      "text/plain": [
       "Pipeline(steps=[('preprocess',\n",
       "                 ColumnTransformer(transformers=[('nlppipeline',\n",
       "                                                  Pipeline(steps=[('nlp',\n",
       "                                                                   FeatureUnion(transformer_list=[('nlpvect',\n",
       "                                                                                                   TfidfVectorizer(ngram_range=(1,\n",
       "                                                                                                                                3),\n",
       "                                                                                                                   stop_words='english')),\n",
       "                                                                                                  ('sentint',\n",
       "                                                                                                   SentimentDataFramer())]))]),\n",
       "                                                  'condition_description'),\n",
       "                                                 ('numericpipe',\n",
       "                                                  Pipeline(steps=[('numnorm',\n",
       "                                                                   StandardScaler())]),\n",
       "                                                  ['num_reviews',\n",
       "                                                   'pos_feedback_pct',\n",
       "                                                   'capacity', 'condition_neg',\n",
       "                                                   'condition_neu',\n",
       "                                                   'condition_pos',\n",
       "                                                   'condition_compound']),\n",
       "                                                 ('categoricpipeline',\n",
       "                                                  Pipeline(steps=[('ordnorm',\n",
       "                                                                   StandardScaler())]),\n",
       "                                                  ['condition', 'return_days',\n",
       "                                                   'capacity',\n",
       "                                                   'release_year'])])),\n",
       "                ('model', GradientBoostingRegressor())])"
      ]
     },
     "execution_count": 78,
     "metadata": {},
     "output_type": "execute_result"
    }
   ],
   "source": [
    "final_pipe = Pipeline([('preprocess', ct),\n",
    "                      ('model', GradientBoostingRegressor())])\n",
    "final_pipe"
   ]
  },
  {
   "cell_type": "code",
   "execution_count": 79,
   "metadata": {},
   "outputs": [
    {
     "ename": "ValueError",
     "evalue": "A given column is not a column of the dataframe",
     "output_type": "error",
     "traceback": [
      "\u001b[0;31m---------------------------------------------------------------------------\u001b[0m",
      "\u001b[0;31mKeyError\u001b[0m                                  Traceback (most recent call last)",
      "\u001b[0;32m~/opt/anaconda3/lib/python3.9/site-packages/pandas/core/indexes/base.py\u001b[0m in \u001b[0;36mget_loc\u001b[0;34m(self, key, method, tolerance)\u001b[0m\n\u001b[1;32m   3360\u001b[0m             \u001b[0;32mtry\u001b[0m\u001b[0;34m:\u001b[0m\u001b[0;34m\u001b[0m\u001b[0;34m\u001b[0m\u001b[0m\n\u001b[0;32m-> 3361\u001b[0;31m                 \u001b[0;32mreturn\u001b[0m \u001b[0mself\u001b[0m\u001b[0;34m.\u001b[0m\u001b[0m_engine\u001b[0m\u001b[0;34m.\u001b[0m\u001b[0mget_loc\u001b[0m\u001b[0;34m(\u001b[0m\u001b[0mcasted_key\u001b[0m\u001b[0;34m)\u001b[0m\u001b[0;34m\u001b[0m\u001b[0;34m\u001b[0m\u001b[0m\n\u001b[0m\u001b[1;32m   3362\u001b[0m             \u001b[0;32mexcept\u001b[0m \u001b[0mKeyError\u001b[0m \u001b[0;32mas\u001b[0m \u001b[0merr\u001b[0m\u001b[0;34m:\u001b[0m\u001b[0;34m\u001b[0m\u001b[0;34m\u001b[0m\u001b[0m\n",
      "\u001b[0;32m~/opt/anaconda3/lib/python3.9/site-packages/pandas/_libs/index.pyx\u001b[0m in \u001b[0;36mpandas._libs.index.IndexEngine.get_loc\u001b[0;34m()\u001b[0m\n",
      "\u001b[0;32m~/opt/anaconda3/lib/python3.9/site-packages/pandas/_libs/index.pyx\u001b[0m in \u001b[0;36mpandas._libs.index.IndexEngine.get_loc\u001b[0;34m()\u001b[0m\n",
      "\u001b[0;32mpandas/_libs/hashtable_class_helper.pxi\u001b[0m in \u001b[0;36mpandas._libs.hashtable.PyObjectHashTable.get_item\u001b[0;34m()\u001b[0m\n",
      "\u001b[0;32mpandas/_libs/hashtable_class_helper.pxi\u001b[0m in \u001b[0;36mpandas._libs.hashtable.PyObjectHashTable.get_item\u001b[0;34m()\u001b[0m\n",
      "\u001b[0;31mKeyError\u001b[0m: 'condition_neg'",
      "\nThe above exception was the direct cause of the following exception:\n",
      "\u001b[0;31mKeyError\u001b[0m                                  Traceback (most recent call last)",
      "\u001b[0;32m~/opt/anaconda3/lib/python3.9/site-packages/sklearn/utils/__init__.py\u001b[0m in \u001b[0;36m_get_column_indices\u001b[0;34m(X, key)\u001b[0m\n\u001b[1;32m    395\u001b[0m             \u001b[0;32mfor\u001b[0m \u001b[0mcol\u001b[0m \u001b[0;32min\u001b[0m \u001b[0mcolumns\u001b[0m\u001b[0;34m:\u001b[0m\u001b[0;34m\u001b[0m\u001b[0;34m\u001b[0m\u001b[0m\n\u001b[0;32m--> 396\u001b[0;31m                 \u001b[0mcol_idx\u001b[0m \u001b[0;34m=\u001b[0m \u001b[0mall_columns\u001b[0m\u001b[0;34m.\u001b[0m\u001b[0mget_loc\u001b[0m\u001b[0;34m(\u001b[0m\u001b[0mcol\u001b[0m\u001b[0;34m)\u001b[0m\u001b[0;34m\u001b[0m\u001b[0;34m\u001b[0m\u001b[0m\n\u001b[0m\u001b[1;32m    397\u001b[0m                 \u001b[0;32mif\u001b[0m \u001b[0;32mnot\u001b[0m \u001b[0misinstance\u001b[0m\u001b[0;34m(\u001b[0m\u001b[0mcol_idx\u001b[0m\u001b[0;34m,\u001b[0m \u001b[0mnumbers\u001b[0m\u001b[0;34m.\u001b[0m\u001b[0mIntegral\u001b[0m\u001b[0;34m)\u001b[0m\u001b[0;34m:\u001b[0m\u001b[0;34m\u001b[0m\u001b[0;34m\u001b[0m\u001b[0m\n",
      "\u001b[0;32m~/opt/anaconda3/lib/python3.9/site-packages/pandas/core/indexes/base.py\u001b[0m in \u001b[0;36mget_loc\u001b[0;34m(self, key, method, tolerance)\u001b[0m\n\u001b[1;32m   3362\u001b[0m             \u001b[0;32mexcept\u001b[0m \u001b[0mKeyError\u001b[0m \u001b[0;32mas\u001b[0m \u001b[0merr\u001b[0m\u001b[0;34m:\u001b[0m\u001b[0;34m\u001b[0m\u001b[0;34m\u001b[0m\u001b[0m\n\u001b[0;32m-> 3363\u001b[0;31m                 \u001b[0;32mraise\u001b[0m \u001b[0mKeyError\u001b[0m\u001b[0;34m(\u001b[0m\u001b[0mkey\u001b[0m\u001b[0;34m)\u001b[0m \u001b[0;32mfrom\u001b[0m \u001b[0merr\u001b[0m\u001b[0;34m\u001b[0m\u001b[0;34m\u001b[0m\u001b[0m\n\u001b[0m\u001b[1;32m   3364\u001b[0m \u001b[0;34m\u001b[0m\u001b[0m\n",
      "\u001b[0;31mKeyError\u001b[0m: 'condition_neg'",
      "\nThe above exception was the direct cause of the following exception:\n",
      "\u001b[0;31mValueError\u001b[0m                                Traceback (most recent call last)",
      "\u001b[0;32m/var/folders/q_/g2zssbt10h1blxnpvcp374lw0000gn/T/ipykernel_10996/2392213904.py\u001b[0m in \u001b[0;36m<module>\u001b[0;34m\u001b[0m\n\u001b[0;32m----> 1\u001b[0;31m \u001b[0mfinal_pipe\u001b[0m\u001b[0;34m.\u001b[0m\u001b[0mfit\u001b[0m\u001b[0;34m(\u001b[0m\u001b[0mX_train\u001b[0m\u001b[0;34m,\u001b[0m \u001b[0my_train\u001b[0m\u001b[0;34m)\u001b[0m\u001b[0;34m\u001b[0m\u001b[0;34m\u001b[0m\u001b[0m\n\u001b[0m",
      "\u001b[0;32m~/opt/anaconda3/lib/python3.9/site-packages/sklearn/pipeline.py\u001b[0m in \u001b[0;36mfit\u001b[0;34m(self, X, y, **fit_params)\u001b[0m\n\u001b[1;32m    339\u001b[0m         \"\"\"\n\u001b[1;32m    340\u001b[0m         \u001b[0mfit_params_steps\u001b[0m \u001b[0;34m=\u001b[0m \u001b[0mself\u001b[0m\u001b[0;34m.\u001b[0m\u001b[0m_check_fit_params\u001b[0m\u001b[0;34m(\u001b[0m\u001b[0;34m**\u001b[0m\u001b[0mfit_params\u001b[0m\u001b[0;34m)\u001b[0m\u001b[0;34m\u001b[0m\u001b[0;34m\u001b[0m\u001b[0m\n\u001b[0;32m--> 341\u001b[0;31m         \u001b[0mXt\u001b[0m \u001b[0;34m=\u001b[0m \u001b[0mself\u001b[0m\u001b[0;34m.\u001b[0m\u001b[0m_fit\u001b[0m\u001b[0;34m(\u001b[0m\u001b[0mX\u001b[0m\u001b[0;34m,\u001b[0m \u001b[0my\u001b[0m\u001b[0;34m,\u001b[0m \u001b[0;34m**\u001b[0m\u001b[0mfit_params_steps\u001b[0m\u001b[0;34m)\u001b[0m\u001b[0;34m\u001b[0m\u001b[0;34m\u001b[0m\u001b[0m\n\u001b[0m\u001b[1;32m    342\u001b[0m         with _print_elapsed_time('Pipeline',\n\u001b[1;32m    343\u001b[0m                                  self._log_message(len(self.steps) - 1)):\n",
      "\u001b[0;32m~/opt/anaconda3/lib/python3.9/site-packages/sklearn/pipeline.py\u001b[0m in \u001b[0;36m_fit\u001b[0;34m(self, X, y, **fit_params_steps)\u001b[0m\n\u001b[1;32m    301\u001b[0m                 \u001b[0mcloned_transformer\u001b[0m \u001b[0;34m=\u001b[0m \u001b[0mclone\u001b[0m\u001b[0;34m(\u001b[0m\u001b[0mtransformer\u001b[0m\u001b[0;34m)\u001b[0m\u001b[0;34m\u001b[0m\u001b[0;34m\u001b[0m\u001b[0m\n\u001b[1;32m    302\u001b[0m             \u001b[0;31m# Fit or load from cache the current transformer\u001b[0m\u001b[0;34m\u001b[0m\u001b[0;34m\u001b[0m\u001b[0m\n\u001b[0;32m--> 303\u001b[0;31m             X, fitted_transformer = fit_transform_one_cached(\n\u001b[0m\u001b[1;32m    304\u001b[0m                 \u001b[0mcloned_transformer\u001b[0m\u001b[0;34m,\u001b[0m \u001b[0mX\u001b[0m\u001b[0;34m,\u001b[0m \u001b[0my\u001b[0m\u001b[0;34m,\u001b[0m \u001b[0;32mNone\u001b[0m\u001b[0;34m,\u001b[0m\u001b[0;34m\u001b[0m\u001b[0;34m\u001b[0m\u001b[0m\n\u001b[1;32m    305\u001b[0m                 \u001b[0mmessage_clsname\u001b[0m\u001b[0;34m=\u001b[0m\u001b[0;34m'Pipeline'\u001b[0m\u001b[0;34m,\u001b[0m\u001b[0;34m\u001b[0m\u001b[0;34m\u001b[0m\u001b[0m\n",
      "\u001b[0;32m~/opt/anaconda3/lib/python3.9/site-packages/joblib/memory.py\u001b[0m in \u001b[0;36m__call__\u001b[0;34m(self, *args, **kwargs)\u001b[0m\n\u001b[1;32m    347\u001b[0m \u001b[0;34m\u001b[0m\u001b[0m\n\u001b[1;32m    348\u001b[0m     \u001b[0;32mdef\u001b[0m \u001b[0m__call__\u001b[0m\u001b[0;34m(\u001b[0m\u001b[0mself\u001b[0m\u001b[0;34m,\u001b[0m \u001b[0;34m*\u001b[0m\u001b[0margs\u001b[0m\u001b[0;34m,\u001b[0m \u001b[0;34m**\u001b[0m\u001b[0mkwargs\u001b[0m\u001b[0;34m)\u001b[0m\u001b[0;34m:\u001b[0m\u001b[0;34m\u001b[0m\u001b[0;34m\u001b[0m\u001b[0m\n\u001b[0;32m--> 349\u001b[0;31m         \u001b[0;32mreturn\u001b[0m \u001b[0mself\u001b[0m\u001b[0;34m.\u001b[0m\u001b[0mfunc\u001b[0m\u001b[0;34m(\u001b[0m\u001b[0;34m*\u001b[0m\u001b[0margs\u001b[0m\u001b[0;34m,\u001b[0m \u001b[0;34m**\u001b[0m\u001b[0mkwargs\u001b[0m\u001b[0;34m)\u001b[0m\u001b[0;34m\u001b[0m\u001b[0;34m\u001b[0m\u001b[0m\n\u001b[0m\u001b[1;32m    350\u001b[0m \u001b[0;34m\u001b[0m\u001b[0m\n\u001b[1;32m    351\u001b[0m     \u001b[0;32mdef\u001b[0m \u001b[0mcall_and_shelve\u001b[0m\u001b[0;34m(\u001b[0m\u001b[0mself\u001b[0m\u001b[0;34m,\u001b[0m \u001b[0;34m*\u001b[0m\u001b[0margs\u001b[0m\u001b[0;34m,\u001b[0m \u001b[0;34m**\u001b[0m\u001b[0mkwargs\u001b[0m\u001b[0;34m)\u001b[0m\u001b[0;34m:\u001b[0m\u001b[0;34m\u001b[0m\u001b[0;34m\u001b[0m\u001b[0m\n",
      "\u001b[0;32m~/opt/anaconda3/lib/python3.9/site-packages/sklearn/pipeline.py\u001b[0m in \u001b[0;36m_fit_transform_one\u001b[0;34m(transformer, X, y, weight, message_clsname, message, **fit_params)\u001b[0m\n\u001b[1;32m    752\u001b[0m     \u001b[0;32mwith\u001b[0m \u001b[0m_print_elapsed_time\u001b[0m\u001b[0;34m(\u001b[0m\u001b[0mmessage_clsname\u001b[0m\u001b[0;34m,\u001b[0m \u001b[0mmessage\u001b[0m\u001b[0;34m)\u001b[0m\u001b[0;34m:\u001b[0m\u001b[0;34m\u001b[0m\u001b[0;34m\u001b[0m\u001b[0m\n\u001b[1;32m    753\u001b[0m         \u001b[0;32mif\u001b[0m \u001b[0mhasattr\u001b[0m\u001b[0;34m(\u001b[0m\u001b[0mtransformer\u001b[0m\u001b[0;34m,\u001b[0m \u001b[0;34m'fit_transform'\u001b[0m\u001b[0;34m)\u001b[0m\u001b[0;34m:\u001b[0m\u001b[0;34m\u001b[0m\u001b[0;34m\u001b[0m\u001b[0m\n\u001b[0;32m--> 754\u001b[0;31m             \u001b[0mres\u001b[0m \u001b[0;34m=\u001b[0m \u001b[0mtransformer\u001b[0m\u001b[0;34m.\u001b[0m\u001b[0mfit_transform\u001b[0m\u001b[0;34m(\u001b[0m\u001b[0mX\u001b[0m\u001b[0;34m,\u001b[0m \u001b[0my\u001b[0m\u001b[0;34m,\u001b[0m \u001b[0;34m**\u001b[0m\u001b[0mfit_params\u001b[0m\u001b[0;34m)\u001b[0m\u001b[0;34m\u001b[0m\u001b[0;34m\u001b[0m\u001b[0m\n\u001b[0m\u001b[1;32m    755\u001b[0m         \u001b[0;32melse\u001b[0m\u001b[0;34m:\u001b[0m\u001b[0;34m\u001b[0m\u001b[0;34m\u001b[0m\u001b[0m\n\u001b[1;32m    756\u001b[0m             \u001b[0mres\u001b[0m \u001b[0;34m=\u001b[0m \u001b[0mtransformer\u001b[0m\u001b[0;34m.\u001b[0m\u001b[0mfit\u001b[0m\u001b[0;34m(\u001b[0m\u001b[0mX\u001b[0m\u001b[0;34m,\u001b[0m \u001b[0my\u001b[0m\u001b[0;34m,\u001b[0m \u001b[0;34m**\u001b[0m\u001b[0mfit_params\u001b[0m\u001b[0;34m)\u001b[0m\u001b[0;34m.\u001b[0m\u001b[0mtransform\u001b[0m\u001b[0;34m(\u001b[0m\u001b[0mX\u001b[0m\u001b[0;34m)\u001b[0m\u001b[0;34m\u001b[0m\u001b[0;34m\u001b[0m\u001b[0m\n",
      "\u001b[0;32m~/opt/anaconda3/lib/python3.9/site-packages/sklearn/compose/_column_transformer.py\u001b[0m in \u001b[0;36mfit_transform\u001b[0;34m(self, X, y)\u001b[0m\n\u001b[1;32m    503\u001b[0m         \u001b[0mself\u001b[0m\u001b[0;34m.\u001b[0m\u001b[0m_validate_transformers\u001b[0m\u001b[0;34m(\u001b[0m\u001b[0;34m)\u001b[0m\u001b[0;34m\u001b[0m\u001b[0;34m\u001b[0m\u001b[0m\n\u001b[1;32m    504\u001b[0m         \u001b[0mself\u001b[0m\u001b[0;34m.\u001b[0m\u001b[0m_validate_column_callables\u001b[0m\u001b[0;34m(\u001b[0m\u001b[0mX\u001b[0m\u001b[0;34m)\u001b[0m\u001b[0;34m\u001b[0m\u001b[0;34m\u001b[0m\u001b[0m\n\u001b[0;32m--> 505\u001b[0;31m         \u001b[0mself\u001b[0m\u001b[0;34m.\u001b[0m\u001b[0m_validate_remainder\u001b[0m\u001b[0;34m(\u001b[0m\u001b[0mX\u001b[0m\u001b[0;34m)\u001b[0m\u001b[0;34m\u001b[0m\u001b[0;34m\u001b[0m\u001b[0m\n\u001b[0m\u001b[1;32m    506\u001b[0m \u001b[0;34m\u001b[0m\u001b[0m\n\u001b[1;32m    507\u001b[0m         \u001b[0mresult\u001b[0m \u001b[0;34m=\u001b[0m \u001b[0mself\u001b[0m\u001b[0;34m.\u001b[0m\u001b[0m_fit_transform\u001b[0m\u001b[0;34m(\u001b[0m\u001b[0mX\u001b[0m\u001b[0;34m,\u001b[0m \u001b[0my\u001b[0m\u001b[0;34m,\u001b[0m \u001b[0m_fit_transform_one\u001b[0m\u001b[0;34m)\u001b[0m\u001b[0;34m\u001b[0m\u001b[0;34m\u001b[0m\u001b[0m\n",
      "\u001b[0;32m~/opt/anaconda3/lib/python3.9/site-packages/sklearn/compose/_column_transformer.py\u001b[0m in \u001b[0;36m_validate_remainder\u001b[0;34m(self, X)\u001b[0m\n\u001b[1;32m    330\u001b[0m         \u001b[0mcols\u001b[0m \u001b[0;34m=\u001b[0m \u001b[0;34m[\u001b[0m\u001b[0;34m]\u001b[0m\u001b[0;34m\u001b[0m\u001b[0;34m\u001b[0m\u001b[0m\n\u001b[1;32m    331\u001b[0m         \u001b[0;32mfor\u001b[0m \u001b[0mcolumns\u001b[0m \u001b[0;32min\u001b[0m \u001b[0mself\u001b[0m\u001b[0;34m.\u001b[0m\u001b[0m_columns\u001b[0m\u001b[0;34m:\u001b[0m\u001b[0;34m\u001b[0m\u001b[0;34m\u001b[0m\u001b[0m\n\u001b[0;32m--> 332\u001b[0;31m             \u001b[0mcols\u001b[0m\u001b[0;34m.\u001b[0m\u001b[0mextend\u001b[0m\u001b[0;34m(\u001b[0m\u001b[0m_get_column_indices\u001b[0m\u001b[0;34m(\u001b[0m\u001b[0mX\u001b[0m\u001b[0;34m,\u001b[0m \u001b[0mcolumns\u001b[0m\u001b[0;34m)\u001b[0m\u001b[0;34m)\u001b[0m\u001b[0;34m\u001b[0m\u001b[0;34m\u001b[0m\u001b[0m\n\u001b[0m\u001b[1;32m    333\u001b[0m \u001b[0;34m\u001b[0m\u001b[0m\n\u001b[1;32m    334\u001b[0m         \u001b[0mremaining_idx\u001b[0m \u001b[0;34m=\u001b[0m \u001b[0msorted\u001b[0m\u001b[0;34m(\u001b[0m\u001b[0mset\u001b[0m\u001b[0;34m(\u001b[0m\u001b[0mrange\u001b[0m\u001b[0;34m(\u001b[0m\u001b[0mself\u001b[0m\u001b[0;34m.\u001b[0m\u001b[0m_n_features\u001b[0m\u001b[0;34m)\u001b[0m\u001b[0;34m)\u001b[0m \u001b[0;34m-\u001b[0m \u001b[0mset\u001b[0m\u001b[0;34m(\u001b[0m\u001b[0mcols\u001b[0m\u001b[0;34m)\u001b[0m\u001b[0;34m)\u001b[0m\u001b[0;34m\u001b[0m\u001b[0;34m\u001b[0m\u001b[0m\n",
      "\u001b[0;32m~/opt/anaconda3/lib/python3.9/site-packages/sklearn/utils/__init__.py\u001b[0m in \u001b[0;36m_get_column_indices\u001b[0;34m(X, key)\u001b[0m\n\u001b[1;32m    401\u001b[0m \u001b[0;34m\u001b[0m\u001b[0m\n\u001b[1;32m    402\u001b[0m         \u001b[0;32mexcept\u001b[0m \u001b[0mKeyError\u001b[0m \u001b[0;32mas\u001b[0m \u001b[0me\u001b[0m\u001b[0;34m:\u001b[0m\u001b[0;34m\u001b[0m\u001b[0;34m\u001b[0m\u001b[0m\n\u001b[0;32m--> 403\u001b[0;31m             raise ValueError(\n\u001b[0m\u001b[1;32m    404\u001b[0m                 \u001b[0;34m\"A given column is not a column of the dataframe\"\u001b[0m\u001b[0;34m\u001b[0m\u001b[0;34m\u001b[0m\u001b[0m\n\u001b[1;32m    405\u001b[0m             ) from e\n",
      "\u001b[0;31mValueError\u001b[0m: A given column is not a column of the dataframe"
     ]
    }
   ],
   "source": [
    "final_pipe.fit(X_train, y_train)"
   ]
  },
  {
   "cell_type": "code",
   "execution_count": 56,
   "metadata": {},
   "outputs": [
    {
     "ename": "AttributeError",
     "evalue": "'ColumnTransformer' object has no attribute 'transformers_'",
     "output_type": "error",
     "traceback": [
      "\u001b[0;31m---------------------------------------------------------------------------\u001b[0m",
      "\u001b[0;31mAttributeError\u001b[0m                            Traceback (most recent call last)",
      "\u001b[0;32m/var/folders/q_/g2zssbt10h1blxnpvcp374lw0000gn/T/ipykernel_10996/1399815986.py\u001b[0m in \u001b[0;36m<module>\u001b[0;34m\u001b[0m\n\u001b[0;32m----> 1\u001b[0;31m \u001b[0my_pred\u001b[0m \u001b[0;34m=\u001b[0m \u001b[0mfinal_pipe\u001b[0m\u001b[0;34m.\u001b[0m\u001b[0mpredict\u001b[0m\u001b[0;34m(\u001b[0m\u001b[0mX_test\u001b[0m\u001b[0;34m)\u001b[0m\u001b[0;34m\u001b[0m\u001b[0;34m\u001b[0m\u001b[0m\n\u001b[0m\u001b[1;32m      2\u001b[0m \u001b[0;34m\u001b[0m\u001b[0m\n\u001b[1;32m      3\u001b[0m \u001b[0mrmse\u001b[0m \u001b[0;34m=\u001b[0m \u001b[0mnp\u001b[0m\u001b[0;34m.\u001b[0m\u001b[0msqrt\u001b[0m\u001b[0;34m(\u001b[0m\u001b[0mmean_squared_error\u001b[0m\u001b[0;34m(\u001b[0m\u001b[0my_test\u001b[0m\u001b[0;34m,\u001b[0m \u001b[0my_pred\u001b[0m\u001b[0;34m)\u001b[0m\u001b[0;34m)\u001b[0m\u001b[0;34m\u001b[0m\u001b[0;34m\u001b[0m\u001b[0m\n\u001b[1;32m      4\u001b[0m \u001b[0mr_squared\u001b[0m \u001b[0;34m=\u001b[0m \u001b[0mr2_score\u001b[0m\u001b[0;34m(\u001b[0m\u001b[0my_test\u001b[0m\u001b[0;34m,\u001b[0m \u001b[0my_pred\u001b[0m\u001b[0;34m)\u001b[0m\u001b[0;34m\u001b[0m\u001b[0;34m\u001b[0m\u001b[0m\n\u001b[1;32m      5\u001b[0m \u001b[0;34m\u001b[0m\u001b[0m\n",
      "\u001b[0;32m~/opt/anaconda3/lib/python3.9/site-packages/sklearn/utils/metaestimators.py\u001b[0m in \u001b[0;36m<lambda>\u001b[0;34m(*args, **kwargs)\u001b[0m\n\u001b[1;32m    118\u001b[0m \u001b[0;34m\u001b[0m\u001b[0m\n\u001b[1;32m    119\u001b[0m         \u001b[0;31m# lambda, but not partial, allows help() to work with update_wrapper\u001b[0m\u001b[0;34m\u001b[0m\u001b[0;34m\u001b[0m\u001b[0m\n\u001b[0;32m--> 120\u001b[0;31m         \u001b[0mout\u001b[0m \u001b[0;34m=\u001b[0m \u001b[0;32mlambda\u001b[0m \u001b[0;34m*\u001b[0m\u001b[0margs\u001b[0m\u001b[0;34m,\u001b[0m \u001b[0;34m**\u001b[0m\u001b[0mkwargs\u001b[0m\u001b[0;34m:\u001b[0m \u001b[0mself\u001b[0m\u001b[0;34m.\u001b[0m\u001b[0mfn\u001b[0m\u001b[0;34m(\u001b[0m\u001b[0mobj\u001b[0m\u001b[0;34m,\u001b[0m \u001b[0;34m*\u001b[0m\u001b[0margs\u001b[0m\u001b[0;34m,\u001b[0m \u001b[0;34m**\u001b[0m\u001b[0mkwargs\u001b[0m\u001b[0;34m)\u001b[0m\u001b[0;34m\u001b[0m\u001b[0;34m\u001b[0m\u001b[0m\n\u001b[0m\u001b[1;32m    121\u001b[0m         \u001b[0;31m# update the docstring of the returned function\u001b[0m\u001b[0;34m\u001b[0m\u001b[0;34m\u001b[0m\u001b[0m\n\u001b[1;32m    122\u001b[0m         \u001b[0mupdate_wrapper\u001b[0m\u001b[0;34m(\u001b[0m\u001b[0mout\u001b[0m\u001b[0;34m,\u001b[0m \u001b[0mself\u001b[0m\u001b[0;34m.\u001b[0m\u001b[0mfn\u001b[0m\u001b[0;34m)\u001b[0m\u001b[0;34m\u001b[0m\u001b[0;34m\u001b[0m\u001b[0m\n",
      "\u001b[0;32m~/opt/anaconda3/lib/python3.9/site-packages/sklearn/pipeline.py\u001b[0m in \u001b[0;36mpredict\u001b[0;34m(self, X, **predict_params)\u001b[0m\n\u001b[1;32m    416\u001b[0m         \u001b[0mXt\u001b[0m \u001b[0;34m=\u001b[0m \u001b[0mX\u001b[0m\u001b[0;34m\u001b[0m\u001b[0;34m\u001b[0m\u001b[0m\n\u001b[1;32m    417\u001b[0m         \u001b[0;32mfor\u001b[0m \u001b[0m_\u001b[0m\u001b[0;34m,\u001b[0m \u001b[0mname\u001b[0m\u001b[0;34m,\u001b[0m \u001b[0mtransform\u001b[0m \u001b[0;32min\u001b[0m \u001b[0mself\u001b[0m\u001b[0;34m.\u001b[0m\u001b[0m_iter\u001b[0m\u001b[0;34m(\u001b[0m\u001b[0mwith_final\u001b[0m\u001b[0;34m=\u001b[0m\u001b[0;32mFalse\u001b[0m\u001b[0;34m)\u001b[0m\u001b[0;34m:\u001b[0m\u001b[0;34m\u001b[0m\u001b[0;34m\u001b[0m\u001b[0m\n\u001b[0;32m--> 418\u001b[0;31m             \u001b[0mXt\u001b[0m \u001b[0;34m=\u001b[0m \u001b[0mtransform\u001b[0m\u001b[0;34m.\u001b[0m\u001b[0mtransform\u001b[0m\u001b[0;34m(\u001b[0m\u001b[0mXt\u001b[0m\u001b[0;34m)\u001b[0m\u001b[0;34m\u001b[0m\u001b[0;34m\u001b[0m\u001b[0m\n\u001b[0m\u001b[1;32m    419\u001b[0m         \u001b[0;32mreturn\u001b[0m \u001b[0mself\u001b[0m\u001b[0;34m.\u001b[0m\u001b[0msteps\u001b[0m\u001b[0;34m[\u001b[0m\u001b[0;34m-\u001b[0m\u001b[0;36m1\u001b[0m\u001b[0;34m]\u001b[0m\u001b[0;34m[\u001b[0m\u001b[0;34m-\u001b[0m\u001b[0;36m1\u001b[0m\u001b[0;34m]\u001b[0m\u001b[0;34m.\u001b[0m\u001b[0mpredict\u001b[0m\u001b[0;34m(\u001b[0m\u001b[0mXt\u001b[0m\u001b[0;34m,\u001b[0m \u001b[0;34m**\u001b[0m\u001b[0mpredict_params\u001b[0m\u001b[0;34m)\u001b[0m\u001b[0;34m\u001b[0m\u001b[0;34m\u001b[0m\u001b[0m\n\u001b[1;32m    420\u001b[0m \u001b[0;34m\u001b[0m\u001b[0m\n",
      "\u001b[0;32m~/opt/anaconda3/lib/python3.9/site-packages/sklearn/compose/_column_transformer.py\u001b[0m in \u001b[0;36mtransform\u001b[0;34m(self, X)\u001b[0m\n\u001b[1;32m    562\u001b[0m                 \u001b[0;34m\"data given during fit.\"\u001b[0m\u001b[0;34m\u001b[0m\u001b[0;34m\u001b[0m\u001b[0m\n\u001b[1;32m    563\u001b[0m             )\n\u001b[0;32m--> 564\u001b[0;31m         \u001b[0mXs\u001b[0m \u001b[0;34m=\u001b[0m \u001b[0mself\u001b[0m\u001b[0;34m.\u001b[0m\u001b[0m_fit_transform\u001b[0m\u001b[0;34m(\u001b[0m\u001b[0mX\u001b[0m\u001b[0;34m,\u001b[0m \u001b[0;32mNone\u001b[0m\u001b[0;34m,\u001b[0m \u001b[0m_transform_one\u001b[0m\u001b[0;34m,\u001b[0m \u001b[0mfitted\u001b[0m\u001b[0;34m=\u001b[0m\u001b[0;32mTrue\u001b[0m\u001b[0;34m)\u001b[0m\u001b[0;34m\u001b[0m\u001b[0;34m\u001b[0m\u001b[0m\n\u001b[0m\u001b[1;32m    565\u001b[0m         \u001b[0mself\u001b[0m\u001b[0;34m.\u001b[0m\u001b[0m_validate_output\u001b[0m\u001b[0;34m(\u001b[0m\u001b[0mXs\u001b[0m\u001b[0;34m)\u001b[0m\u001b[0;34m\u001b[0m\u001b[0;34m\u001b[0m\u001b[0m\n\u001b[1;32m    566\u001b[0m \u001b[0;34m\u001b[0m\u001b[0m\n",
      "\u001b[0;32m~/opt/anaconda3/lib/python3.9/site-packages/sklearn/compose/_column_transformer.py\u001b[0m in \u001b[0;36m_fit_transform\u001b[0;34m(self, X, y, func, fitted)\u001b[0m\n\u001b[1;32m    429\u001b[0m         \u001b[0;31m`\u001b[0m\u001b[0;31m`\u001b[0m\u001b[0mfitted\u001b[0m\u001b[0;34m=\u001b[0m\u001b[0;32mTrue\u001b[0m\u001b[0;31m`\u001b[0m\u001b[0;31m`\u001b[0m \u001b[0mensures\u001b[0m \u001b[0mthe\u001b[0m \u001b[0mfitted\u001b[0m \u001b[0mtransformers\u001b[0m \u001b[0mare\u001b[0m \u001b[0mused\u001b[0m\u001b[0;34m.\u001b[0m\u001b[0;34m\u001b[0m\u001b[0;34m\u001b[0m\u001b[0m\n\u001b[1;32m    430\u001b[0m         \"\"\"\n\u001b[0;32m--> 431\u001b[0;31m         transformers = list(\n\u001b[0m\u001b[1;32m    432\u001b[0m             self._iter(fitted=fitted, replace_strings=True))\n\u001b[1;32m    433\u001b[0m         \u001b[0;32mtry\u001b[0m\u001b[0;34m:\u001b[0m\u001b[0;34m\u001b[0m\u001b[0;34m\u001b[0m\u001b[0m\n",
      "\u001b[0;32m~/opt/anaconda3/lib/python3.9/site-packages/sklearn/compose/_column_transformer.py\u001b[0m in \u001b[0;36m_iter\u001b[0;34m(self, fitted, replace_strings)\u001b[0m\n\u001b[1;32m    248\u001b[0m         \"\"\"\n\u001b[1;32m    249\u001b[0m         \u001b[0;32mif\u001b[0m \u001b[0mfitted\u001b[0m\u001b[0;34m:\u001b[0m\u001b[0;34m\u001b[0m\u001b[0;34m\u001b[0m\u001b[0m\n\u001b[0;32m--> 250\u001b[0;31m             \u001b[0mtransformers\u001b[0m \u001b[0;34m=\u001b[0m \u001b[0mself\u001b[0m\u001b[0;34m.\u001b[0m\u001b[0mtransformers_\u001b[0m\u001b[0;34m\u001b[0m\u001b[0;34m\u001b[0m\u001b[0m\n\u001b[0m\u001b[1;32m    251\u001b[0m         \u001b[0;32melse\u001b[0m\u001b[0;34m:\u001b[0m\u001b[0;34m\u001b[0m\u001b[0;34m\u001b[0m\u001b[0m\n\u001b[1;32m    252\u001b[0m             \u001b[0;31m# interleave the validated column specifiers\u001b[0m\u001b[0;34m\u001b[0m\u001b[0;34m\u001b[0m\u001b[0m\n",
      "\u001b[0;31mAttributeError\u001b[0m: 'ColumnTransformer' object has no attribute 'transformers_'"
     ]
    }
   ],
   "source": [
    "y_pred = final_pipe.predict(X_test)\n",
    "\n",
    "rmse = np.sqrt(mean_squared_error(y_test, y_pred))\n",
    "r_squared = r2_score(y_test, y_pred)\n",
    "\n",
    "print('RMSE: '+str(rmse))\n",
    "print('R-Squared: '+str(r_squared))"
   ]
  },
  {
   "cell_type": "code",
   "execution_count": null,
   "metadata": {},
   "outputs": [],
   "source": [
    "param_grid = {'model__n_estimators' : [500],\n",
    "              'model__max_depth' : range(5,10),\n",
    "              'model__min_samples_split' : [2, 3, 4, 5, 6, 7],\n",
    "              'model__learning_rate' : [0.01, 0.02, 0.03],\n",
    "              'model__subsample': [0.9, 0.5, 0.2, 0.1]\n",
    "              }"
   ]
  },
  {
   "cell_type": "code",
   "execution_count": 37,
   "metadata": {},
   "outputs": [],
   "source": [
    "# grid_GBR = GridSearchCV(estimator=final_pipe, param_grid = param_grid, cv = 2, n_jobs=-1)\n",
    "# grid_GBR.fit(X_train, y_train)\n",
    "\n",
    "    "
   ]
  },
  {
   "cell_type": "code",
   "execution_count": 38,
   "metadata": {},
   "outputs": [],
   "source": [
    "# print(\" Results from Grid Search \" )\n",
    "# print(\"\\n The best estimator across ALL searched params:\\n\",grid_GBR.best_estimator_)\n",
    "# print(\"\\n The best score across ALL searched params:\\n\",grid_GBR.best_score_)\n",
    "# print(\"\\n The best parameters across ALL searched params:\\n\",grid_GBR.best_params_)"
   ]
  },
  {
   "cell_type": "code",
   "execution_count": 39,
   "metadata": {},
   "outputs": [],
   "source": [
    "params = {\n",
    "    \"n_estimators\": 500,\n",
    "    \"max_depth\": 9,\n",
    "    \"min_samples_split\": 7,\n",
    "    \"learning_rate\": 0.02,\n",
    "    \"loss\": 'lad',\n",
    "    \"subsample\":0.5\n",
    "}\n",
    "\n",
    "best_xgboost = GradientBoostingRegressor(**params)"
   ]
  },
  {
   "cell_type": "code",
   "execution_count": 40,
   "metadata": {},
   "outputs": [
    {
     "data": {
      "text/html": [
       "<style>#sk-c7a0ebd4-9cb4-4192-9983-a255ccb7fa56 {color: black;background-color: white;}#sk-c7a0ebd4-9cb4-4192-9983-a255ccb7fa56 pre{padding: 0;}#sk-c7a0ebd4-9cb4-4192-9983-a255ccb7fa56 div.sk-toggleable {background-color: white;}#sk-c7a0ebd4-9cb4-4192-9983-a255ccb7fa56 label.sk-toggleable__label {cursor: pointer;display: block;width: 100%;margin-bottom: 0;padding: 0.2em 0.3em;box-sizing: border-box;text-align: center;}#sk-c7a0ebd4-9cb4-4192-9983-a255ccb7fa56 div.sk-toggleable__content {max-height: 0;max-width: 0;overflow: hidden;text-align: left;background-color: #f0f8ff;}#sk-c7a0ebd4-9cb4-4192-9983-a255ccb7fa56 div.sk-toggleable__content pre {margin: 0.2em;color: black;border-radius: 0.25em;background-color: #f0f8ff;}#sk-c7a0ebd4-9cb4-4192-9983-a255ccb7fa56 input.sk-toggleable__control:checked~div.sk-toggleable__content {max-height: 200px;max-width: 100%;overflow: auto;}#sk-c7a0ebd4-9cb4-4192-9983-a255ccb7fa56 div.sk-estimator input.sk-toggleable__control:checked~label.sk-toggleable__label {background-color: #d4ebff;}#sk-c7a0ebd4-9cb4-4192-9983-a255ccb7fa56 div.sk-label input.sk-toggleable__control:checked~label.sk-toggleable__label {background-color: #d4ebff;}#sk-c7a0ebd4-9cb4-4192-9983-a255ccb7fa56 input.sk-hidden--visually {border: 0;clip: rect(1px 1px 1px 1px);clip: rect(1px, 1px, 1px, 1px);height: 1px;margin: -1px;overflow: hidden;padding: 0;position: absolute;width: 1px;}#sk-c7a0ebd4-9cb4-4192-9983-a255ccb7fa56 div.sk-estimator {font-family: monospace;background-color: #f0f8ff;margin: 0.25em 0.25em;border: 1px dotted black;border-radius: 0.25em;box-sizing: border-box;}#sk-c7a0ebd4-9cb4-4192-9983-a255ccb7fa56 div.sk-estimator:hover {background-color: #d4ebff;}#sk-c7a0ebd4-9cb4-4192-9983-a255ccb7fa56 div.sk-parallel-item::after {content: \"\";width: 100%;border-bottom: 1px solid gray;flex-grow: 1;}#sk-c7a0ebd4-9cb4-4192-9983-a255ccb7fa56 div.sk-label:hover label.sk-toggleable__label {background-color: #d4ebff;}#sk-c7a0ebd4-9cb4-4192-9983-a255ccb7fa56 div.sk-serial::before {content: \"\";position: absolute;border-left: 1px solid gray;box-sizing: border-box;top: 2em;bottom: 0;left: 50%;}#sk-c7a0ebd4-9cb4-4192-9983-a255ccb7fa56 div.sk-serial {display: flex;flex-direction: column;align-items: center;background-color: white;}#sk-c7a0ebd4-9cb4-4192-9983-a255ccb7fa56 div.sk-item {z-index: 1;}#sk-c7a0ebd4-9cb4-4192-9983-a255ccb7fa56 div.sk-parallel {display: flex;align-items: stretch;justify-content: center;background-color: white;}#sk-c7a0ebd4-9cb4-4192-9983-a255ccb7fa56 div.sk-parallel-item {display: flex;flex-direction: column;position: relative;background-color: white;}#sk-c7a0ebd4-9cb4-4192-9983-a255ccb7fa56 div.sk-parallel-item:first-child::after {align-self: flex-end;width: 50%;}#sk-c7a0ebd4-9cb4-4192-9983-a255ccb7fa56 div.sk-parallel-item:last-child::after {align-self: flex-start;width: 50%;}#sk-c7a0ebd4-9cb4-4192-9983-a255ccb7fa56 div.sk-parallel-item:only-child::after {width: 0;}#sk-c7a0ebd4-9cb4-4192-9983-a255ccb7fa56 div.sk-dashed-wrapped {border: 1px dashed gray;margin: 0.2em;box-sizing: border-box;padding-bottom: 0.1em;background-color: white;position: relative;}#sk-c7a0ebd4-9cb4-4192-9983-a255ccb7fa56 div.sk-label label {font-family: monospace;font-weight: bold;background-color: white;display: inline-block;line-height: 1.2em;}#sk-c7a0ebd4-9cb4-4192-9983-a255ccb7fa56 div.sk-label-container {position: relative;z-index: 2;text-align: center;}#sk-c7a0ebd4-9cb4-4192-9983-a255ccb7fa56 div.sk-container {display: inline-block;position: relative;}</style><div id=\"sk-c7a0ebd4-9cb4-4192-9983-a255ccb7fa56\" class\"sk-top-container\"><div class=\"sk-container\"><div class=\"sk-item sk-dashed-wrapped\"><div class=\"sk-label-container\"><div class=\"sk-label sk-toggleable\"><input class=\"sk-toggleable__control sk-hidden--visually\" id=\"7b5eb9b7-1903-418d-aec3-26b47b6e40ee\" type=\"checkbox\" ><label class=\"sk-toggleable__label\" for=\"7b5eb9b7-1903-418d-aec3-26b47b6e40ee\">Pipeline</label><div class=\"sk-toggleable__content\"><pre>Pipeline(steps=[('preprocess',\n",
       "                 ColumnTransformer(transformers=[('nlppipeline',\n",
       "                                                  Pipeline(steps=[('nlp',\n",
       "                                                                   FeatureUnion(transformer_list=[('nlpvect',\n",
       "                                                                                                   TfidfVectorizer(ngram_range=(1,\n",
       "                                                                                                                                3),\n",
       "                                                                                                                   stop_words='english')),\n",
       "                                                                                                  ('sentint',\n",
       "                                                                                                   SentimentDataFramer())]))]),\n",
       "                                                  'condition_description'),\n",
       "                                                 ('numericpipe',\n",
       "                                                  Pipeline(steps=[('numnorm',\n",
       "                                                                   StandardScaler())]),\n",
       "                                                  ['num_reviews',\n",
       "                                                   'pos_feedback_pct',\n",
       "                                                   'capacity', 'condition_neg',\n",
       "                                                   'condition_neu',\n",
       "                                                   'condition_pos',\n",
       "                                                   'condition_compound']),\n",
       "                                                 ('categoricpipeline',\n",
       "                                                  Pipeline(steps=[('ordnorm',\n",
       "                                                                   StandardScaler())]),\n",
       "                                                  ['condition', 'return_days',\n",
       "                                                   'capacity',\n",
       "                                                   'release_year'])])),\n",
       "                ('model',\n",
       "                 GradientBoostingRegressor(learning_rate=0.02, loss='lad',\n",
       "                                           max_depth=9, min_samples_split=7,\n",
       "                                           n_estimators=500, subsample=0.5))])</pre></div></div></div><div class=\"sk-serial\"><div class=\"sk-item sk-dashed-wrapped\"><div class=\"sk-label-container\"><div class=\"sk-label sk-toggleable\"><input class=\"sk-toggleable__control sk-hidden--visually\" id=\"4866f2c6-1e0c-4e60-ab44-757a22b856ac\" type=\"checkbox\" ><label class=\"sk-toggleable__label\" for=\"4866f2c6-1e0c-4e60-ab44-757a22b856ac\">preprocess: ColumnTransformer</label><div class=\"sk-toggleable__content\"><pre>ColumnTransformer(transformers=[('nlppipeline',\n",
       "                                 Pipeline(steps=[('nlp',\n",
       "                                                  FeatureUnion(transformer_list=[('nlpvect',\n",
       "                                                                                  TfidfVectorizer(ngram_range=(1,\n",
       "                                                                                                               3),\n",
       "                                                                                                  stop_words='english')),\n",
       "                                                                                 ('sentint',\n",
       "                                                                                  SentimentDataFramer())]))]),\n",
       "                                 'condition_description'),\n",
       "                                ('numericpipe',\n",
       "                                 Pipeline(steps=[('numnorm',\n",
       "                                                  StandardScaler())]),\n",
       "                                 ['num_reviews', 'pos_feedback_pct', 'capacity',\n",
       "                                  'condition_neg', 'condition_neu',\n",
       "                                  'condition_pos', 'condition_compound']),\n",
       "                                ('categoricpipeline',\n",
       "                                 Pipeline(steps=[('ordnorm',\n",
       "                                                  StandardScaler())]),\n",
       "                                 ['condition', 'return_days', 'capacity',\n",
       "                                  'release_year'])])</pre></div></div></div><div class=\"sk-parallel\"><div class=\"sk-parallel-item\"><div class=\"sk-item\"><div class=\"sk-label-container\"><div class=\"sk-label sk-toggleable\"><input class=\"sk-toggleable__control sk-hidden--visually\" id=\"d2b0cf35-cd68-4961-a941-040b2b61fe0a\" type=\"checkbox\" ><label class=\"sk-toggleable__label\" for=\"d2b0cf35-cd68-4961-a941-040b2b61fe0a\">nlppipeline</label><div class=\"sk-toggleable__content\"><pre>condition_description</pre></div></div></div><div class=\"sk-serial\"><div class=\"sk-item\"><div class=\"sk-serial\"><div class=\"sk-item sk-dashed-wrapped\"><div class=\"sk-label-container\"><div class=\"sk-label sk-toggleable\"><input class=\"sk-toggleable__control sk-hidden--visually\" id=\"8b7262a5-ac52-4adc-9a6a-2ea2504836fd\" type=\"checkbox\" ><label class=\"sk-toggleable__label\" for=\"8b7262a5-ac52-4adc-9a6a-2ea2504836fd\">nlp: FeatureUnion</label><div class=\"sk-toggleable__content\"><pre>FeatureUnion(transformer_list=[('nlpvect',\n",
       "                                TfidfVectorizer(ngram_range=(1, 3),\n",
       "                                                stop_words='english')),\n",
       "                               ('sentint', SentimentDataFramer())])</pre></div></div></div><div class=\"sk-parallel\"><div class=\"sk-parallel-item\"><div class=\"sk-item\"><div class=\"sk-label-container\"><div class=\"sk-label sk-toggleable\"><label>nlpvect</label></div></div><div class=\"sk-serial\"><div class=\"sk-item\"><div class=\"sk-estimator sk-toggleable\"><input class=\"sk-toggleable__control sk-hidden--visually\" id=\"8f2b3ce5-f816-4611-8daa-7c0bba2c0bca\" type=\"checkbox\" ><label class=\"sk-toggleable__label\" for=\"8f2b3ce5-f816-4611-8daa-7c0bba2c0bca\">TfidfVectorizer</label><div class=\"sk-toggleable__content\"><pre>TfidfVectorizer(ngram_range=(1, 3), stop_words='english')</pre></div></div></div></div></div></div><div class=\"sk-parallel-item\"><div class=\"sk-item\"><div class=\"sk-label-container\"><div class=\"sk-label sk-toggleable\"><label>sentint</label></div></div><div class=\"sk-serial\"><div class=\"sk-item\"><div class=\"sk-estimator sk-toggleable\"><input class=\"sk-toggleable__control sk-hidden--visually\" id=\"1465b6b9-0155-4a68-b77a-12f7acc58d0d\" type=\"checkbox\" ><label class=\"sk-toggleable__label\" for=\"1465b6b9-0155-4a68-b77a-12f7acc58d0d\">SentimentDataFramer</label><div class=\"sk-toggleable__content\"><pre>SentimentDataFramer()</pre></div></div></div></div></div></div></div></div></div></div></div></div></div><div class=\"sk-parallel-item\"><div class=\"sk-item\"><div class=\"sk-label-container\"><div class=\"sk-label sk-toggleable\"><input class=\"sk-toggleable__control sk-hidden--visually\" id=\"181fdf26-c5f3-4f9c-9bd7-fffd2b949eea\" type=\"checkbox\" ><label class=\"sk-toggleable__label\" for=\"181fdf26-c5f3-4f9c-9bd7-fffd2b949eea\">numericpipe</label><div class=\"sk-toggleable__content\"><pre>['num_reviews', 'pos_feedback_pct', 'capacity', 'condition_neg', 'condition_neu', 'condition_pos', 'condition_compound']</pre></div></div></div><div class=\"sk-serial\"><div class=\"sk-item\"><div class=\"sk-serial\"><div class=\"sk-item\"><div class=\"sk-estimator sk-toggleable\"><input class=\"sk-toggleable__control sk-hidden--visually\" id=\"188eaacc-1a28-4e2d-a9e1-301be386dc71\" type=\"checkbox\" ><label class=\"sk-toggleable__label\" for=\"188eaacc-1a28-4e2d-a9e1-301be386dc71\">StandardScaler</label><div class=\"sk-toggleable__content\"><pre>StandardScaler()</pre></div></div></div></div></div></div></div></div><div class=\"sk-parallel-item\"><div class=\"sk-item\"><div class=\"sk-label-container\"><div class=\"sk-label sk-toggleable\"><input class=\"sk-toggleable__control sk-hidden--visually\" id=\"4d57a4a1-08cf-4382-b388-2c07c42053bc\" type=\"checkbox\" ><label class=\"sk-toggleable__label\" for=\"4d57a4a1-08cf-4382-b388-2c07c42053bc\">categoricpipeline</label><div class=\"sk-toggleable__content\"><pre>['condition', 'return_days', 'capacity', 'release_year']</pre></div></div></div><div class=\"sk-serial\"><div class=\"sk-item\"><div class=\"sk-serial\"><div class=\"sk-item\"><div class=\"sk-estimator sk-toggleable\"><input class=\"sk-toggleable__control sk-hidden--visually\" id=\"7f52450c-603a-4d74-9f39-271112c5e1f6\" type=\"checkbox\" ><label class=\"sk-toggleable__label\" for=\"7f52450c-603a-4d74-9f39-271112c5e1f6\">StandardScaler</label><div class=\"sk-toggleable__content\"><pre>StandardScaler()</pre></div></div></div></div></div></div></div></div></div></div><div class=\"sk-item\"><div class=\"sk-estimator sk-toggleable\"><input class=\"sk-toggleable__control sk-hidden--visually\" id=\"3f879ccb-232e-4088-8a4d-62331f112617\" type=\"checkbox\" ><label class=\"sk-toggleable__label\" for=\"3f879ccb-232e-4088-8a4d-62331f112617\">GradientBoostingRegressor</label><div class=\"sk-toggleable__content\"><pre>GradientBoostingRegressor(learning_rate=0.02, loss='lad', max_depth=9,\n",
       "                          min_samples_split=7, n_estimators=500, subsample=0.5)</pre></div></div></div></div></div></div></div>"
      ],
      "text/plain": [
       "Pipeline(steps=[('preprocess',\n",
       "                 ColumnTransformer(transformers=[('nlppipeline',\n",
       "                                                  Pipeline(steps=[('nlp',\n",
       "                                                                   FeatureUnion(transformer_list=[('nlpvect',\n",
       "                                                                                                   TfidfVectorizer(ngram_range=(1,\n",
       "                                                                                                                                3),\n",
       "                                                                                                                   stop_words='english')),\n",
       "                                                                                                  ('sentint',\n",
       "                                                                                                   SentimentDataFramer())]))]),\n",
       "                                                  'condition_description'),\n",
       "                                                 ('numericpipe',\n",
       "                                                  Pipeline(steps=[('numnorm',\n",
       "                                                                   StandardScaler())]),\n",
       "                                                  ['num_reviews',\n",
       "                                                   'pos_feedback_pct',\n",
       "                                                   'capacity', 'condition_neg',\n",
       "                                                   'condition_neu',\n",
       "                                                   'condition_pos',\n",
       "                                                   'condition_compound']),\n",
       "                                                 ('categoricpipeline',\n",
       "                                                  Pipeline(steps=[('ordnorm',\n",
       "                                                                   StandardScaler())]),\n",
       "                                                  ['condition', 'return_days',\n",
       "                                                   'capacity',\n",
       "                                                   'release_year'])])),\n",
       "                ('model',\n",
       "                 GradientBoostingRegressor(learning_rate=0.02, loss='lad',\n",
       "                                           max_depth=9, min_samples_split=7,\n",
       "                                           n_estimators=500, subsample=0.5))])"
      ]
     },
     "execution_count": 40,
     "metadata": {},
     "output_type": "execute_result"
    }
   ],
   "source": [
    "gs_pipe = Pipeline([('preprocess', ct),\n",
    "                      ('model', best_xgboost)])\n",
    "gs_pipe"
   ]
  },
  {
   "cell_type": "code",
   "execution_count": 41,
   "metadata": {},
   "outputs": [
    {
     "ename": "NameError",
     "evalue": "name 'X_train' is not defined",
     "output_type": "error",
     "traceback": [
      "\u001b[0;31m---------------------------------------------------------------------------\u001b[0m",
      "\u001b[0;31mNameError\u001b[0m                                 Traceback (most recent call last)",
      "\u001b[0;32m/var/folders/q_/g2zssbt10h1blxnpvcp374lw0000gn/T/ipykernel_10996/1360062398.py\u001b[0m in \u001b[0;36m<module>\u001b[0;34m\u001b[0m\n\u001b[0;32m----> 1\u001b[0;31m \u001b[0mgs_pipe\u001b[0m\u001b[0;34m.\u001b[0m\u001b[0mfit\u001b[0m\u001b[0;34m(\u001b[0m\u001b[0mX_train\u001b[0m\u001b[0;34m,\u001b[0m \u001b[0my_train\u001b[0m\u001b[0;34m)\u001b[0m\u001b[0;34m\u001b[0m\u001b[0;34m\u001b[0m\u001b[0m\n\u001b[0m",
      "\u001b[0;31mNameError\u001b[0m: name 'X_train' is not defined"
     ]
    }
   ],
   "source": [
    "gs_pipe.fit(X_train, y_train)"
   ]
  },
  {
   "cell_type": "code",
   "execution_count": 42,
   "metadata": {},
   "outputs": [
    {
     "ename": "NameError",
     "evalue": "name 'X_test' is not defined",
     "output_type": "error",
     "traceback": [
      "\u001b[0;31m---------------------------------------------------------------------------\u001b[0m",
      "\u001b[0;31mNameError\u001b[0m                                 Traceback (most recent call last)",
      "\u001b[0;32m/var/folders/q_/g2zssbt10h1blxnpvcp374lw0000gn/T/ipykernel_10996/1969874499.py\u001b[0m in \u001b[0;36m<module>\u001b[0;34m\u001b[0m\n\u001b[0;32m----> 1\u001b[0;31m \u001b[0my_pred\u001b[0m \u001b[0;34m=\u001b[0m \u001b[0mgs_pipe\u001b[0m\u001b[0;34m.\u001b[0m\u001b[0mpredict\u001b[0m\u001b[0;34m(\u001b[0m\u001b[0mX_test\u001b[0m\u001b[0;34m)\u001b[0m\u001b[0;34m\u001b[0m\u001b[0;34m\u001b[0m\u001b[0m\n\u001b[0m\u001b[1;32m      2\u001b[0m \u001b[0;34m\u001b[0m\u001b[0m\n\u001b[1;32m      3\u001b[0m \u001b[0mrmse\u001b[0m \u001b[0;34m=\u001b[0m \u001b[0mnp\u001b[0m\u001b[0;34m.\u001b[0m\u001b[0msqrt\u001b[0m\u001b[0;34m(\u001b[0m\u001b[0mmean_squared_error\u001b[0m\u001b[0;34m(\u001b[0m\u001b[0my_test\u001b[0m\u001b[0;34m,\u001b[0m \u001b[0my_pred\u001b[0m\u001b[0;34m)\u001b[0m\u001b[0;34m)\u001b[0m\u001b[0;34m\u001b[0m\u001b[0;34m\u001b[0m\u001b[0m\n\u001b[1;32m      4\u001b[0m \u001b[0mr_squared\u001b[0m \u001b[0;34m=\u001b[0m \u001b[0mr2_score\u001b[0m\u001b[0;34m(\u001b[0m\u001b[0my_test\u001b[0m\u001b[0;34m,\u001b[0m \u001b[0my_pred\u001b[0m\u001b[0;34m)\u001b[0m\u001b[0;34m\u001b[0m\u001b[0;34m\u001b[0m\u001b[0m\n\u001b[1;32m      5\u001b[0m \u001b[0;34m\u001b[0m\u001b[0m\n",
      "\u001b[0;31mNameError\u001b[0m: name 'X_test' is not defined"
     ]
    }
   ],
   "source": [
    "y_pred = gs_pipe.predict(X_test)\n",
    "\n",
    "rmse = np.sqrt(mean_squared_error(y_test, y_pred))\n",
    "r_squared = r2_score(y_test, y_pred)\n",
    "\n",
    "print('RMSE: '+str(rmse))\n",
    "print('R-Squared: '+str(r_squared))"
   ]
  },
  {
   "cell_type": "code",
   "execution_count": 43,
   "metadata": {},
   "outputs": [],
   "source": [
    "import ipywidgets as widgets\n",
    "from ipywidgets import interact, interact_manual\n",
    "import warnings\n",
    "warnings.filterwarnings('ignore')"
   ]
  },
  {
   "cell_type": "code",
   "execution_count": null,
   "metadata": {},
   "outputs": [],
   "source": []
  },
  {
   "cell_type": "code",
   "execution_count": 44,
   "metadata": {},
   "outputs": [],
   "source": [
    "w_feedbackpctg = widgets.FloatSlider(\n",
    "    value=90,\n",
    "    min=70.0,\n",
    "    max=100.0,\n",
    "    step=0.1,\n",
    "    description='Positive Feedback Percentage:',\n",
    "    disabled=False,\n",
    "    continuous_update=False,\n",
    "    orientation='vertical',\n",
    "    readout=True,\n",
    "    readout_format='.1f',\n",
    ")"
   ]
  },
  {
   "cell_type": "code",
   "execution_count": 45,
   "metadata": {},
   "outputs": [
    {
     "data": {
      "application/vnd.jupyter.widget-view+json": {
       "model_id": "9a84c9a68b4246ac85a735515196ba13",
       "version_major": 2,
       "version_minor": 0
      },
      "text/plain": [
       "FloatSlider(value=90.0, continuous_update=False, description='Positive Feedback Percentage:', min=70.0, orient…"
      ]
     },
     "metadata": {},
     "output_type": "display_data"
    }
   ],
   "source": [
    "w_feedbackpctg"
   ]
  },
  {
   "cell_type": "code",
   "execution_count": 627,
   "metadata": {},
   "outputs": [],
   "source": [
    "w_condition = widgets.Dropdown(\n",
    "    options=['Broken or For Parts', 'Used', 'Good - Refurbished', 'Very Good - Refurbished', 'Excellent - Refurbished', 'Open Box', 'New'],\n",
    "    value='Good - Refurbished',\n",
    "    description='Condition: ',\n",
    "    disabled=False,\n",
    ")"
   ]
  },
  {
   "cell_type": "code",
   "execution_count": 628,
   "metadata": {},
   "outputs": [
    {
     "data": {
      "application/vnd.jupyter.widget-view+json": {
       "model_id": "c347c79f91e54b018f89b655dd53b2d4",
       "version_major": 2,
       "version_minor": 0
      },
      "text/plain": [
       "Dropdown(description='Condition: ', index=2, options=('Broken or For Parts', 'Used', 'Good - Refurbished', 'Ve…"
      ]
     },
     "metadata": {},
     "output_type": "display_data"
    }
   ],
   "source": [
    "w_condition"
   ]
  },
  {
   "cell_type": "code",
   "execution_count": 629,
   "metadata": {},
   "outputs": [],
   "source": [
    "condition_dict = {\n",
    "    'for parts or not working': 0,\n",
    "    'used': 1,\n",
    "    'good - refurbished': 2,\n",
    "    'very good - refurbished': 3,\n",
    "    'excellent - refurbished': 4,\n",
    "    'open box': 5,\n",
    "    'new': 6\n",
    "}"
   ]
  },
  {
   "cell_type": "code",
   "execution_count": 630,
   "metadata": {},
   "outputs": [],
   "source": [
    "w_capacity = widgets.Dropdown(\n",
    "    options=['16 GB', '32 GB', '64 GB', '128 GB', '256 GB', '512 GB'],\n",
    "    value='64 GB',\n",
    "    description='Capacity: ',\n",
    "    disabled=False,\n",
    ")"
   ]
  },
  {
   "cell_type": "code",
   "execution_count": 631,
   "metadata": {},
   "outputs": [
    {
     "data": {
      "application/vnd.jupyter.widget-view+json": {
       "model_id": "8a84680f18ed4a6bbcc1589976767475",
       "version_major": 2,
       "version_minor": 0
      },
      "text/plain": [
       "Dropdown(description='Capacity: ', index=2, options=('16 GB', '32 GB', '64 GB', '128 GB', '256 GB', '512 GB'),…"
      ]
     },
     "metadata": {},
     "output_type": "display_data"
    }
   ],
   "source": [
    "w_capacity"
   ]
  },
  {
   "cell_type": "code",
   "execution_count": 632,
   "metadata": {},
   "outputs": [
    {
     "data": {
      "text/plain": [
       "64.0"
      ]
     },
     "execution_count": 632,
     "metadata": {},
     "output_type": "execute_result"
    }
   ],
   "source": [
    "float(re.findall('[0-9]+', w_capacity.value)[0])"
   ]
  },
  {
   "cell_type": "code",
   "execution_count": 633,
   "metadata": {},
   "outputs": [],
   "source": [
    "w_condition_description = widgets.Textarea(\n",
    "    value='',\n",
    "    placeholder='Type description',\n",
    "    description='Description:',\n",
    "    disabled=False\n",
    ")"
   ]
  },
  {
   "cell_type": "code",
   "execution_count": 634,
   "metadata": {},
   "outputs": [
    {
     "data": {
      "application/vnd.jupyter.widget-view+json": {
       "model_id": "f0ca3d74c377443aa9f48477aa036865",
       "version_major": 2,
       "version_minor": 0
      },
      "text/plain": [
       "Textarea(value='', description='Description:', placeholder='Type description')"
      ]
     },
     "metadata": {},
     "output_type": "display_data"
    }
   ],
   "source": [
    "w_condition_description"
   ]
  },
  {
   "cell_type": "code",
   "execution_count": 635,
   "metadata": {},
   "outputs": [],
   "source": [
    "w_num_reviews = widgets.Text( \n",
    "    value='',\n",
    "    placeholder='Type number of reviews',\n",
    "    description='# Reviews:',\n",
    "    disabled=False\n",
    ")"
   ]
  },
  {
   "cell_type": "code",
   "execution_count": 636,
   "metadata": {},
   "outputs": [
    {
     "data": {
      "application/vnd.jupyter.widget-view+json": {
       "model_id": "819f03cdc12041348f3f34dee27614b6",
       "version_major": 2,
       "version_minor": 0
      },
      "text/plain": [
       "Text(value='', description='# Reviews:', placeholder='Type number of reviews')"
      ]
     },
     "metadata": {},
     "output_type": "display_data"
    }
   ],
   "source": [
    "w_num_reviews"
   ]
  },
  {
   "cell_type": "code",
   "execution_count": 637,
   "metadata": {},
   "outputs": [],
   "source": [
    "w_return_days = widgets.Dropdown(\n",
    "    options=['Seller does not accept returns', '14 days returns', '30 days returns', '60 days returns'],\n",
    "    value='14 days returns',\n",
    "    description='Returns: ',\n",
    "    disabled=False,\n",
    ")"
   ]
  },
  {
   "cell_type": "code",
   "execution_count": 638,
   "metadata": {},
   "outputs": [
    {
     "data": {
      "application/vnd.jupyter.widget-view+json": {
       "model_id": "25b34999ed824a4ea351cd6edf8ced46",
       "version_major": 2,
       "version_minor": 0
      },
      "text/plain": [
       "Dropdown(description='Returns: ', index=1, options=('Seller does not accept returns', '14 days returns', '30 d…"
      ]
     },
     "metadata": {},
     "output_type": "display_data"
    }
   ],
   "source": [
    "w_return_days"
   ]
  },
  {
   "cell_type": "code",
   "execution_count": 639,
   "metadata": {},
   "outputs": [],
   "source": [
    "return_dict = {\n",
    "    'Seller does not accept returns': 0,\n",
    "    '14 days returns': 1,\n",
    "    '30 days returns': 2,\n",
    "    '60 days returns': 3\n",
    "}"
   ]
  },
  {
   "cell_type": "code",
   "execution_count": 640,
   "metadata": {},
   "outputs": [],
   "source": [
    "w_release_year = widgets.Text( \n",
    "    value='',\n",
    "    placeholder='Type Release Year',\n",
    "    description='Release Yr:',\n",
    "    disabled=False\n",
    ")"
   ]
  },
  {
   "cell_type": "code",
   "execution_count": 641,
   "metadata": {},
   "outputs": [
    {
     "data": {
      "application/vnd.jupyter.widget-view+json": {
       "model_id": "7624da8d8f764e0bba49fd92d9a96877",
       "version_major": 2,
       "version_minor": 0
      },
      "text/plain": [
       "Text(value='', description='Release Yr:', placeholder='Type Release Year')"
      ]
     },
     "metadata": {},
     "output_type": "display_data"
    }
   ],
   "source": [
    "w_release_year"
   ]
  },
  {
   "cell_type": "code",
   "execution_count": 662,
   "metadata": {},
   "outputs": [
    {
     "data": {
      "application/vnd.jupyter.widget-view+json": {
       "model_id": "a52ecc1cdb2e4454ba3105fe1c103248",
       "version_major": 2,
       "version_minor": 0
      },
      "text/plain": [
       "interactive(children=(FloatSlider(value=90.0, continuous_update=False, description='Positive Feedback Percenta…"
      ]
     },
     "metadata": {},
     "output_type": "display_data"
    }
   ],
   "source": [
    "@interact\n",
    "def show_widgets(a = w_feedbackpctg,b = w_capacity,c= w_condition,d= w_condition_description,e= w_num_reviews,f= w_return_days,g= w_release_year):\n",
    "    \n",
    "\n",
    "\n",
    "    sample_dict = {\n",
    "        'pos_feedback_pct':a,\n",
    "        'capacity':b,\n",
    "        'condition':c,\n",
    "        'condition_description':d,\n",
    "        'num_reviews':e,\n",
    "        'return_days':f,\n",
    "        'release_year':g\n",
    "    }\n",
    "    series = pd.Series(sample_dict)\n",
    "\n",
    "\n",
    "    return series"
   ]
  },
  {
   "cell_type": "code",
   "execution_count": 647,
   "metadata": {},
   "outputs": [
    {
     "ename": "IndexError",
     "evalue": "tuple index out of range",
     "output_type": "error",
     "traceback": [
      "\u001b[0;31m---------------------------------------------------------------------------\u001b[0m",
      "\u001b[0;31mIndexError\u001b[0m                                Traceback (most recent call last)",
      "\u001b[0;32m/var/folders/q_/g2zssbt10h1blxnpvcp374lw0000gn/T/ipykernel_80461/1942110289.py\u001b[0m in \u001b[0;36m<module>\u001b[0;34m\u001b[0m\n\u001b[0;32m----> 1\u001b[0;31m \u001b[0mgs_pipe\u001b[0m\u001b[0;34m.\u001b[0m\u001b[0mpredict\u001b[0m\u001b[0;34m(\u001b[0m\u001b[0mX_test\u001b[0m\u001b[0;34m.\u001b[0m\u001b[0miloc\u001b[0m\u001b[0;34m[\u001b[0m\u001b[0;36m0\u001b[0m\u001b[0;34m]\u001b[0m\u001b[0;34m.\u001b[0m\u001b[0marray\u001b[0m\u001b[0;34m)\u001b[0m\u001b[0;34m\u001b[0m\u001b[0;34m\u001b[0m\u001b[0m\n\u001b[0m",
      "\u001b[0;32m~/opt/anaconda3/lib/python3.9/site-packages/sklearn/utils/metaestimators.py\u001b[0m in \u001b[0;36m<lambda>\u001b[0;34m(*args, **kwargs)\u001b[0m\n\u001b[1;32m    118\u001b[0m \u001b[0;34m\u001b[0m\u001b[0m\n\u001b[1;32m    119\u001b[0m         \u001b[0;31m# lambda, but not partial, allows help() to work with update_wrapper\u001b[0m\u001b[0;34m\u001b[0m\u001b[0;34m\u001b[0m\u001b[0m\n\u001b[0;32m--> 120\u001b[0;31m         \u001b[0mout\u001b[0m \u001b[0;34m=\u001b[0m \u001b[0;32mlambda\u001b[0m \u001b[0;34m*\u001b[0m\u001b[0margs\u001b[0m\u001b[0;34m,\u001b[0m \u001b[0;34m**\u001b[0m\u001b[0mkwargs\u001b[0m\u001b[0;34m:\u001b[0m \u001b[0mself\u001b[0m\u001b[0;34m.\u001b[0m\u001b[0mfn\u001b[0m\u001b[0;34m(\u001b[0m\u001b[0mobj\u001b[0m\u001b[0;34m,\u001b[0m \u001b[0;34m*\u001b[0m\u001b[0margs\u001b[0m\u001b[0;34m,\u001b[0m \u001b[0;34m**\u001b[0m\u001b[0mkwargs\u001b[0m\u001b[0;34m)\u001b[0m\u001b[0;34m\u001b[0m\u001b[0;34m\u001b[0m\u001b[0m\n\u001b[0m\u001b[1;32m    121\u001b[0m         \u001b[0;31m# update the docstring of the returned function\u001b[0m\u001b[0;34m\u001b[0m\u001b[0;34m\u001b[0m\u001b[0m\n\u001b[1;32m    122\u001b[0m         \u001b[0mupdate_wrapper\u001b[0m\u001b[0;34m(\u001b[0m\u001b[0mout\u001b[0m\u001b[0;34m,\u001b[0m \u001b[0mself\u001b[0m\u001b[0;34m.\u001b[0m\u001b[0mfn\u001b[0m\u001b[0;34m)\u001b[0m\u001b[0;34m\u001b[0m\u001b[0;34m\u001b[0m\u001b[0m\n",
      "\u001b[0;32m~/opt/anaconda3/lib/python3.9/site-packages/sklearn/pipeline.py\u001b[0m in \u001b[0;36mpredict\u001b[0;34m(self, X, **predict_params)\u001b[0m\n\u001b[1;32m    416\u001b[0m         \u001b[0mXt\u001b[0m \u001b[0;34m=\u001b[0m \u001b[0mX\u001b[0m\u001b[0;34m\u001b[0m\u001b[0;34m\u001b[0m\u001b[0m\n\u001b[1;32m    417\u001b[0m         \u001b[0;32mfor\u001b[0m \u001b[0m_\u001b[0m\u001b[0;34m,\u001b[0m \u001b[0mname\u001b[0m\u001b[0;34m,\u001b[0m \u001b[0mtransform\u001b[0m \u001b[0;32min\u001b[0m \u001b[0mself\u001b[0m\u001b[0;34m.\u001b[0m\u001b[0m_iter\u001b[0m\u001b[0;34m(\u001b[0m\u001b[0mwith_final\u001b[0m\u001b[0;34m=\u001b[0m\u001b[0;32mFalse\u001b[0m\u001b[0;34m)\u001b[0m\u001b[0;34m:\u001b[0m\u001b[0;34m\u001b[0m\u001b[0;34m\u001b[0m\u001b[0m\n\u001b[0;32m--> 418\u001b[0;31m             \u001b[0mXt\u001b[0m \u001b[0;34m=\u001b[0m \u001b[0mtransform\u001b[0m\u001b[0;34m.\u001b[0m\u001b[0mtransform\u001b[0m\u001b[0;34m(\u001b[0m\u001b[0mXt\u001b[0m\u001b[0;34m)\u001b[0m\u001b[0;34m\u001b[0m\u001b[0;34m\u001b[0m\u001b[0m\n\u001b[0m\u001b[1;32m    419\u001b[0m         \u001b[0;32mreturn\u001b[0m \u001b[0mself\u001b[0m\u001b[0;34m.\u001b[0m\u001b[0msteps\u001b[0m\u001b[0;34m[\u001b[0m\u001b[0;34m-\u001b[0m\u001b[0;36m1\u001b[0m\u001b[0;34m]\u001b[0m\u001b[0;34m[\u001b[0m\u001b[0;34m-\u001b[0m\u001b[0;36m1\u001b[0m\u001b[0;34m]\u001b[0m\u001b[0;34m.\u001b[0m\u001b[0mpredict\u001b[0m\u001b[0;34m(\u001b[0m\u001b[0mXt\u001b[0m\u001b[0;34m,\u001b[0m \u001b[0;34m**\u001b[0m\u001b[0mpredict_params\u001b[0m\u001b[0;34m)\u001b[0m\u001b[0;34m\u001b[0m\u001b[0;34m\u001b[0m\u001b[0m\n\u001b[1;32m    420\u001b[0m \u001b[0;34m\u001b[0m\u001b[0m\n",
      "\u001b[0;32m~/opt/anaconda3/lib/python3.9/site-packages/sklearn/compose/_column_transformer.py\u001b[0m in \u001b[0;36mtransform\u001b[0;34m(self, X)\u001b[0m\n\u001b[1;32m    554\u001b[0m             \u001b[0mX_feature_names\u001b[0m \u001b[0;34m=\u001b[0m \u001b[0;32mNone\u001b[0m\u001b[0;34m\u001b[0m\u001b[0;34m\u001b[0m\u001b[0m\n\u001b[1;32m    555\u001b[0m \u001b[0;34m\u001b[0m\u001b[0m\n\u001b[0;32m--> 556\u001b[0;31m         \u001b[0mself\u001b[0m\u001b[0;34m.\u001b[0m\u001b[0m_check_n_features\u001b[0m\u001b[0;34m(\u001b[0m\u001b[0mX\u001b[0m\u001b[0;34m,\u001b[0m \u001b[0mreset\u001b[0m\u001b[0;34m=\u001b[0m\u001b[0;32mFalse\u001b[0m\u001b[0;34m)\u001b[0m\u001b[0;34m\u001b[0m\u001b[0;34m\u001b[0m\u001b[0m\n\u001b[0m\u001b[1;32m    557\u001b[0m         if (self._feature_names_in is not None and\n\u001b[1;32m    558\u001b[0m             \u001b[0mX_feature_names\u001b[0m \u001b[0;32mis\u001b[0m \u001b[0;32mnot\u001b[0m \u001b[0;32mNone\u001b[0m \u001b[0;32mand\u001b[0m\u001b[0;34m\u001b[0m\u001b[0;34m\u001b[0m\u001b[0m\n",
      "\u001b[0;32m~/opt/anaconda3/lib/python3.9/site-packages/sklearn/base.py\u001b[0m in \u001b[0;36m_check_n_features\u001b[0;34m(self, X, reset)\u001b[0m\n\u001b[1;32m    350\u001b[0m                \u001b[0mshould\u001b[0m \u001b[0mset\u001b[0m\u001b[0;31m \u001b[0m\u001b[0;31m`\u001b[0m\u001b[0mreset\u001b[0m\u001b[0;34m=\u001b[0m\u001b[0;32mFalse\u001b[0m\u001b[0;31m`\u001b[0m\u001b[0;34m.\u001b[0m\u001b[0;34m\u001b[0m\u001b[0;34m\u001b[0m\u001b[0m\n\u001b[1;32m    351\u001b[0m         \"\"\"\n\u001b[0;32m--> 352\u001b[0;31m         \u001b[0mn_features\u001b[0m \u001b[0;34m=\u001b[0m \u001b[0mX\u001b[0m\u001b[0;34m.\u001b[0m\u001b[0mshape\u001b[0m\u001b[0;34m[\u001b[0m\u001b[0;36m1\u001b[0m\u001b[0;34m]\u001b[0m\u001b[0;34m\u001b[0m\u001b[0;34m\u001b[0m\u001b[0m\n\u001b[0m\u001b[1;32m    353\u001b[0m \u001b[0;34m\u001b[0m\u001b[0m\n\u001b[1;32m    354\u001b[0m         \u001b[0;32mif\u001b[0m \u001b[0mreset\u001b[0m\u001b[0;34m:\u001b[0m\u001b[0;34m\u001b[0m\u001b[0;34m\u001b[0m\u001b[0m\n",
      "\u001b[0;31mIndexError\u001b[0m: tuple index out of range"
     ]
    }
   ],
   "source": [
    "gs_pipe.predict(X_test.iloc[0].array)"
   ]
  },
  {
   "cell_type": "code",
   "execution_count": null,
   "metadata": {},
   "outputs": [],
   "source": []
  },
  {
   "cell_type": "code",
   "execution_count": null,
   "metadata": {},
   "outputs": [],
   "source": []
  },
  {
   "cell_type": "code",
   "execution_count": null,
   "metadata": {},
   "outputs": [],
   "source": []
  },
  {
   "cell_type": "code",
   "execution_count": null,
   "metadata": {},
   "outputs": [],
   "source": []
  },
  {
   "cell_type": "code",
   "execution_count": null,
   "metadata": {},
   "outputs": [],
   "source": []
  },
  {
   "cell_type": "markdown",
   "metadata": {},
   "source": []
  },
  {
   "cell_type": "code",
   "execution_count": 576,
   "metadata": {},
   "outputs": [
    {
     "data": {
      "text/plain": [
       "condition                                                              4.0\n",
       "condition_description    device come excellent physical condition scree...\n",
       "num_reviews                                                        54835.0\n",
       "pos_feedback_pct                                                      99.4\n",
       "return_days                                                            3.0\n",
       "capacity                                                         69.467626\n",
       "release_year                                                          2016\n",
       "condition_neg                                                        0.033\n",
       "condition_neu                                                        0.826\n",
       "condition_pos                                                        0.141\n",
       "condition_compound                                                  0.8126\n",
       "Name: 1762, dtype: object"
      ]
     },
     "execution_count": 576,
     "metadata": {},
     "output_type": "execute_result"
    }
   ],
   "source": [
    "X_test.iloc[0]"
   ]
  },
  {
   "cell_type": "code",
   "execution_count": null,
   "metadata": {},
   "outputs": [],
   "source": []
  }
 ],
 "metadata": {
  "interpreter": {
   "hash": "4c10cfeef08723cf1d9ac9f4fac9a895c178ca21632044675b85c880c61ee6c0"
  },
  "kernelspec": {
   "display_name": "Python 3.9.7 ('base')",
   "language": "python",
   "name": "python3"
  },
  "language_info": {
   "codemirror_mode": {
    "name": "ipython",
    "version": 3
   },
   "file_extension": ".py",
   "mimetype": "text/x-python",
   "name": "python",
   "nbconvert_exporter": "python",
   "pygments_lexer": "ipython3",
   "version": "3.9.7"
  },
  "orig_nbformat": 4
 },
 "nbformat": 4,
 "nbformat_minor": 2
}
